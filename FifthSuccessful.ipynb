{
  "cells": [
    {
      "cell_type": "code",
      "execution_count": 1,
      "metadata": {
        "id": "ce8XYCI8R-Z9"
      },
      "outputs": [],
      "source": [
        "import torch\n",
        "import torch.nn as nn\n",
        "import torch.nn.functional as F\n",
        "\n",
        "\n",
        "dropout_value = 0.1\n",
        "\n",
        "def conv_bn_act(in_ch, out_ch, kernel=3, stride=1, padding=1, dilation=1, dropout_p=0.05):\n",
        "    return nn.Sequential(\n",
        "        nn.Conv2d(in_ch, out_ch, kernel_size=kernel, stride=stride,\n",
        "                  padding=padding, dilation=dilation, bias=False),\n",
        "        nn.BatchNorm2d(out_ch),\n",
        "        nn.ReLU(inplace=True),\n",
        "        nn.Dropout(dropout_p)\n",
        "    )\n",
        "\n",
        "def dws_bn_act(in_ch, out_ch, kernel_size=3, stride=1, padding=1, dilation=1,dropout_p=0.05):\n",
        "    return nn.Sequential(\n",
        "        nn.Conv2d(in_ch, in_ch, kernel_size=kernel_size, stride=stride,\n",
        "                            padding=padding, dilation=dilation, groups=in_ch, bias=False),\n",
        "        nn.Conv2d(in_ch, out_ch, kernel_size=1, stride=1, padding=0, bias=False),\n",
        "        nn.BatchNorm2d(out_ch),\n",
        "        nn.ReLU(inplace=True),\n",
        "        nn.Dropout(dropout_p)\n",
        "    )\n",
        "\n",
        "class Model1(nn.Module):\n",
        "    def __init__(self, num_classes):\n",
        "        super(Model1, self).__init__()\n",
        "\n",
        "        # CONVOLUTION BLOCK 1\n",
        "        self.c1_1 = conv_bn_act(3, 32, kernel=3, stride=1, padding=1, dilation=1)\n",
        "        self.c1_2 = conv_bn_act(32, 64, kernel=3, stride=2, padding=1, dilation=1)\n",
        "        self.onexonec1_1 = conv_bn_act(64, 16, kernel=1, stride=1, padding=0, dilation=1)\n",
        "\n",
        "        # CONVOLUTION BLOCK 2\n",
        "        self.c2_1 = conv_bn_act(16, 32, kernel=3, stride=1, padding=1, dilation=1)\n",
        "        self.c2_2 = dws_bn_act(32, 16, kernel_size=3, stride=2, padding=1, dilation=1)\n",
        "        #self.onexonec2_1 = conv_bn_act(64, 32, kernel=1, stride=1, padding=0, dilation=1)\n",
        "\n",
        "        # CONVOLUTION BLOCK 3\n",
        "        self.c3_1 = conv_bn_act(16, 32, kernel=3, stride=1, padding=1, dilation=1)\n",
        "        self.c3_2 = conv_bn_act(32, 64, kernel=3, stride=1, padding=1, dilation=1)\n",
        "        self.onexonec3_1 = conv_bn_act(64, 16, kernel=1, stride=1, padding=0, dilation=1)\n",
        "\n",
        "        # CONVOLUTION BLOCK 4\n",
        "        self.c4_1 = conv_bn_act(16, 32, kernel=3, stride=1, padding=1, dilation=1)\n",
        "        self.c4_2 = conv_bn_act(32, 64, kernel=3, stride=1, padding=1, dilation=1)\n",
        "        self.c5 = conv_bn_act(64, 32, kernel=3, stride=1, padding=1, dilation=2)\n",
        "\n",
        "        # OUTPUT BLOCK\n",
        "        self.gap = nn.AdaptiveAvgPool2d(1)\n",
        "        self.fc = nn.Linear(32, num_classes)\n",
        "\n",
        "\n",
        "    def forward(self, x):\n",
        "        # Block 1\n",
        "        x = self.c1_1(x)\n",
        "        x = self.c1_2(x)\n",
        "        x = self.onexonec1_1(x)\n",
        "\n",
        "        # Block 2\n",
        "        x = self.c2_1(x)\n",
        "        x = self.c2_2(x)\n",
        "        #x = self.onexonec2_1(x)\n",
        "\n",
        "        # Block 3\n",
        "        x = self.c3_1(x)\n",
        "        x = self.c3_2(x)\n",
        "        x = self.onexonec3_1(x)\n",
        "\n",
        "        # Block 4 (dilated)\n",
        "        x = self.c4_1(x)\n",
        "        x = self.c4_2(x)\n",
        "        x = self.c5(x)\n",
        "\n",
        "        # Output Block\n",
        "        x = self.gap(x)\n",
        "        x = torch.flatten(x, 1)\n",
        "        x = self.fc(x)\n",
        "        # x = x.view(-1, 10)\n",
        "        return x"
      ]
    },
    {
      "cell_type": "code",
      "execution_count": 2,
      "metadata": {
        "id": "RXMN-Ee7SGGX"
      },
      "outputs": [],
      "source": [
        "import matplotlib.pyplot as plt\n",
        "\n",
        "\n",
        "def plot_metrics(train_losses, test_losses, train_acc, test_acc):\n",
        "    epochs = range(1, len(train_acc) + 1)\n",
        "\n",
        "    # ----------------------\n",
        "    # Plot Train Loss\n",
        "    # ----------------------\n",
        "    plt.figure(figsize=(8, 5))\n",
        "    plt.plot(epochs, train_losses, 'b-', label='Train Loss')\n",
        "    plt.xlabel('Iteration')\n",
        "    plt.ylabel('Loss')\n",
        "    plt.title('Train Loss')\n",
        "    plt.legend()\n",
        "    plt.grid(True)\n",
        "    plt.show()\n",
        "\n",
        "    # ----------------------\n",
        "    # Plot Test Loss\n",
        "    # ----------------------\n",
        "    plt.figure(figsize=(8, 5))\n",
        "    plt.plot(epochs, test_losses, 'r-', label='Test Loss')\n",
        "    plt.xlabel('Epoch')\n",
        "    plt.ylabel('Loss')\n",
        "    plt.title('Test Loss')\n",
        "    plt.legend()\n",
        "    plt.grid(True)\n",
        "    plt.show()\n",
        "\n",
        "    # ----------------------\n",
        "    # Plot Train Accuracy\n",
        "    # ----------------------\n",
        "    plt.figure(figsize=(8, 5))\n",
        "    plt.plot(epochs, train_acc, 'g-', label='Train Accuracy')\n",
        "    plt.xlabel('Iteration')\n",
        "    plt.ylabel('Accuracy (%)')\n",
        "    plt.title('Train Accuracy')\n",
        "    plt.legend()\n",
        "    plt.grid(True)\n",
        "    plt.show()\n",
        "\n",
        "    # ----------------------\n",
        "    # Plot Test Accuracy\n",
        "    # ----------------------\n",
        "    plt.figure(figsize=(8, 5))\n",
        "    plt.plot(epochs, test_acc, 'm-', label='Test Accuracy')\n",
        "    plt.xlabel('Epoch')\n",
        "    plt.ylabel('Accuracy (%)')\n",
        "    plt.title('Test Accuracy')\n",
        "    plt.legend()\n",
        "    plt.grid(True)\n",
        "    plt.show()"
      ]
    },
    {
      "cell_type": "code",
      "execution_count": 3,
      "metadata": {
        "colab": {
          "base_uri": "https://localhost:8080/",
          "height": 1000
        },
        "id": "7VNC85L0SH3I",
        "outputId": "3a1efb8f-7293-4fe9-bdae-013af28b7a1a"
      },
      "outputs": [
        {
          "name": "stderr",
          "output_type": "stream",
          "text": [
            "100%|██████████| 170M/170M [00:13<00:00, 12.3MB/s]\n"
          ]
        },
        {
          "name": "stdout",
          "output_type": "stream",
          "text": [
            "CUDA Available? True\n",
            "Using device: cuda\n"
          ]
        },
        {
          "name": "stderr",
          "output_type": "stream",
          "text": [
            "/usr/local/lib/python3.12/dist-packages/torch/utils/data/dataloader.py:627: UserWarning: This DataLoader will create 4 worker processes in total. Our suggested max number of worker in current system is 2, which is smaller than what this DataLoader is going to create. Please be aware that excessive worker creation might get DataLoader running slow or even freeze, lower the worker number to avoid potential slowness/freeze if necessary.\n",
            "  warnings.warn(\n"
          ]
        },
        {
          "name": "stdout",
          "output_type": "stream",
          "text": [
            "----------------------------------------------------------------\n",
            "        Layer (type)               Output Shape         Param #\n",
            "================================================================\n",
            "            Conv2d-1           [-1, 32, 32, 32]             864\n",
            "       BatchNorm2d-2           [-1, 32, 32, 32]              64\n",
            "              ReLU-3           [-1, 32, 32, 32]               0\n",
            "           Dropout-4           [-1, 32, 32, 32]               0\n",
            "            Conv2d-5           [-1, 64, 16, 16]          18,432\n",
            "       BatchNorm2d-6           [-1, 64, 16, 16]             128\n",
            "              ReLU-7           [-1, 64, 16, 16]               0\n",
            "           Dropout-8           [-1, 64, 16, 16]               0\n",
            "            Conv2d-9           [-1, 16, 16, 16]           1,024\n",
            "      BatchNorm2d-10           [-1, 16, 16, 16]              32\n",
            "             ReLU-11           [-1, 16, 16, 16]               0\n",
            "          Dropout-12           [-1, 16, 16, 16]               0\n",
            "           Conv2d-13           [-1, 32, 16, 16]           4,608\n",
            "      BatchNorm2d-14           [-1, 32, 16, 16]              64\n",
            "             ReLU-15           [-1, 32, 16, 16]               0\n",
            "          Dropout-16           [-1, 32, 16, 16]               0\n",
            "           Conv2d-17             [-1, 32, 8, 8]             288\n",
            "           Conv2d-18             [-1, 16, 8, 8]             512\n",
            "      BatchNorm2d-19             [-1, 16, 8, 8]              32\n",
            "             ReLU-20             [-1, 16, 8, 8]               0\n",
            "          Dropout-21             [-1, 16, 8, 8]               0\n",
            "           Conv2d-22             [-1, 32, 8, 8]           4,608\n",
            "      BatchNorm2d-23             [-1, 32, 8, 8]              64\n",
            "             ReLU-24             [-1, 32, 8, 8]               0\n",
            "          Dropout-25             [-1, 32, 8, 8]               0\n",
            "           Conv2d-26             [-1, 64, 8, 8]          18,432\n",
            "      BatchNorm2d-27             [-1, 64, 8, 8]             128\n",
            "             ReLU-28             [-1, 64, 8, 8]               0\n",
            "          Dropout-29             [-1, 64, 8, 8]               0\n",
            "           Conv2d-30             [-1, 16, 8, 8]           1,024\n",
            "      BatchNorm2d-31             [-1, 16, 8, 8]              32\n",
            "             ReLU-32             [-1, 16, 8, 8]               0\n",
            "          Dropout-33             [-1, 16, 8, 8]               0\n",
            "           Conv2d-34             [-1, 32, 8, 8]           4,608\n",
            "      BatchNorm2d-35             [-1, 32, 8, 8]              64\n",
            "             ReLU-36             [-1, 32, 8, 8]               0\n",
            "          Dropout-37             [-1, 32, 8, 8]               0\n",
            "           Conv2d-38             [-1, 64, 8, 8]          18,432\n",
            "      BatchNorm2d-39             [-1, 64, 8, 8]             128\n",
            "             ReLU-40             [-1, 64, 8, 8]               0\n",
            "          Dropout-41             [-1, 64, 8, 8]               0\n",
            "           Conv2d-42             [-1, 32, 6, 6]          18,432\n",
            "      BatchNorm2d-43             [-1, 32, 6, 6]              64\n",
            "             ReLU-44             [-1, 32, 6, 6]               0\n",
            "          Dropout-45             [-1, 32, 6, 6]               0\n",
            "AdaptiveAvgPool2d-46             [-1, 32, 1, 1]               0\n",
            "           Linear-47                   [-1, 10]             330\n",
            "================================================================\n",
            "Total params: 92,394\n",
            "Trainable params: 92,394\n",
            "Non-trainable params: 0\n",
            "----------------------------------------------------------------\n",
            "Input size (MB): 0.01\n",
            "Forward/backward pass size (MB): 2.36\n",
            "Params size (MB): 0.35\n",
            "Estimated Total Size (MB): 2.73\n",
            "----------------------------------------------------------------\n",
            "\n",
            "EPOCH: 1\n"
          ]
        },
        {
          "name": "stderr",
          "output_type": "stream",
          "text": [
            "Epoch=1 Loss=2.0002 Accuracy=19.58: 100%|██████████| 391/391 [00:21<00:00, 18.13it/s]\n"
          ]
        },
        {
          "name": "stdout",
          "output_type": "stream",
          "text": [
            "\n",
            "Test set: Average loss: 0.0156, Accuracy: 2567/10000 (25.67%)\n",
            "\n",
            "found perfect model!!\n",
            "Saved best model (acc=25.67%) to best_model.pth\n",
            "\n",
            "EPOCH: 2\n"
          ]
        },
        {
          "name": "stderr",
          "output_type": "stream",
          "text": [
            "Epoch=2 Loss=1.8868 Accuracy=29.41: 100%|██████████| 391/391 [00:19<00:00, 19.90it/s]\n"
          ]
        },
        {
          "name": "stdout",
          "output_type": "stream",
          "text": [
            "\n",
            "Test set: Average loss: 0.0142, Accuracy: 3362/10000 (33.62%)\n",
            "\n",
            "found perfect model!!\n",
            "Saved best model (acc=33.62%) to best_model.pth\n",
            "\n",
            "EPOCH: 3\n"
          ]
        },
        {
          "name": "stderr",
          "output_type": "stream",
          "text": [
            "Epoch=3 Loss=1.8216 Accuracy=34.99: 100%|██████████| 391/391 [00:20<00:00, 18.63it/s]\n"
          ]
        },
        {
          "name": "stdout",
          "output_type": "stream",
          "text": [
            "\n",
            "Test set: Average loss: 0.0127, Accuracy: 4018/10000 (40.18%)\n",
            "\n",
            "found perfect model!!\n",
            "Saved best model (acc=40.18%) to best_model.pth\n",
            "\n",
            "EPOCH: 4\n"
          ]
        },
        {
          "name": "stderr",
          "output_type": "stream",
          "text": [
            "Epoch=4 Loss=1.6157 Accuracy=40.55: 100%|██████████| 391/391 [00:20<00:00, 19.30it/s]\n"
          ]
        },
        {
          "name": "stdout",
          "output_type": "stream",
          "text": [
            "\n",
            "Test set: Average loss: 0.0115, Accuracy: 4649/10000 (46.49%)\n",
            "\n",
            "found perfect model!!\n",
            "Saved best model (acc=46.49%) to best_model.pth\n",
            "\n",
            "EPOCH: 5\n"
          ]
        },
        {
          "name": "stderr",
          "output_type": "stream",
          "text": [
            "Epoch=5 Loss=1.6717 Accuracy=45.01: 100%|██████████| 391/391 [00:19<00:00, 20.34it/s]\n"
          ]
        },
        {
          "name": "stdout",
          "output_type": "stream",
          "text": [
            "\n",
            "Test set: Average loss: 0.0103, Accuracy: 5224/10000 (52.24%)\n",
            "\n",
            "found perfect model!!\n",
            "Saved best model (acc=52.24%) to best_model.pth\n",
            "\n",
            "EPOCH: 6\n"
          ]
        },
        {
          "name": "stderr",
          "output_type": "stream",
          "text": [
            "Epoch=6 Loss=1.4599 Accuracy=48.86: 100%|██████████| 391/391 [00:20<00:00, 19.19it/s]\n"
          ]
        },
        {
          "name": "stdout",
          "output_type": "stream",
          "text": [
            "\n",
            "Test set: Average loss: 0.0095, Accuracy: 5630/10000 (56.30%)\n",
            "\n",
            "found perfect model!!\n",
            "Saved best model (acc=56.30%) to best_model.pth\n",
            "\n",
            "EPOCH: 7\n"
          ]
        },
        {
          "name": "stderr",
          "output_type": "stream",
          "text": [
            "Epoch=7 Loss=1.2851 Accuracy=52.00: 100%|██████████| 391/391 [00:19<00:00, 20.14it/s]\n"
          ]
        },
        {
          "name": "stdout",
          "output_type": "stream",
          "text": [
            "\n",
            "Test set: Average loss: 0.0090, Accuracy: 5900/10000 (59.00%)\n",
            "\n",
            "found perfect model!!\n",
            "Saved best model (acc=59.00%) to best_model.pth\n",
            "\n",
            "EPOCH: 8\n"
          ]
        },
        {
          "name": "stderr",
          "output_type": "stream",
          "text": [
            "Epoch=8 Loss=1.1936 Accuracy=54.20: 100%|██████████| 391/391 [00:19<00:00, 20.41it/s]\n"
          ]
        },
        {
          "name": "stdout",
          "output_type": "stream",
          "text": [
            "\n",
            "Test set: Average loss: 0.0084, Accuracy: 6213/10000 (62.13%)\n",
            "\n",
            "found perfect model!!\n",
            "Saved best model (acc=62.13%) to best_model.pth\n",
            "\n",
            "EPOCH: 9\n"
          ]
        },
        {
          "name": "stderr",
          "output_type": "stream",
          "text": [
            "Epoch=9 Loss=1.1123 Accuracy=56.31: 100%|██████████| 391/391 [00:20<00:00, 19.18it/s]\n"
          ]
        },
        {
          "name": "stdout",
          "output_type": "stream",
          "text": [
            "\n",
            "Test set: Average loss: 0.0078, Accuracy: 6408/10000 (64.08%)\n",
            "\n",
            "found perfect model!!\n",
            "Saved best model (acc=64.08%) to best_model.pth\n",
            "\n",
            "EPOCH: 10\n"
          ]
        },
        {
          "name": "stderr",
          "output_type": "stream",
          "text": [
            "Epoch=10 Loss=0.9096 Accuracy=58.27: 100%|██████████| 391/391 [00:19<00:00, 20.28it/s]\n"
          ]
        },
        {
          "name": "stdout",
          "output_type": "stream",
          "text": [
            "\n",
            "Test set: Average loss: 0.0077, Accuracy: 6510/10000 (65.10%)\n",
            "\n",
            "found perfect model!!\n",
            "Saved best model (acc=65.10%) to best_model.pth\n",
            "\n",
            "EPOCH: 11\n"
          ]
        },
        {
          "name": "stderr",
          "output_type": "stream",
          "text": [
            "Epoch=11 Loss=1.0461 Accuracy=60.06: 100%|██████████| 391/391 [00:20<00:00, 19.24it/s]\n"
          ]
        },
        {
          "name": "stdout",
          "output_type": "stream",
          "text": [
            "\n",
            "Test set: Average loss: 0.0072, Accuracy: 6691/10000 (66.91%)\n",
            "\n",
            "found perfect model!!\n",
            "Saved best model (acc=66.91%) to best_model.pth\n",
            "\n",
            "EPOCH: 12\n"
          ]
        },
        {
          "name": "stderr",
          "output_type": "stream",
          "text": [
            "Epoch=12 Loss=1.1812 Accuracy=61.73: 100%|██████████| 391/391 [00:19<00:00, 19.97it/s]\n"
          ]
        },
        {
          "name": "stdout",
          "output_type": "stream",
          "text": [
            "\n",
            "Test set: Average loss: 0.0076, Accuracy: 6616/10000 (66.16%)\n",
            "\n",
            "\n",
            "EPOCH: 13\n"
          ]
        },
        {
          "name": "stderr",
          "output_type": "stream",
          "text": [
            "Epoch=13 Loss=1.1266 Accuracy=62.83: 100%|██████████| 391/391 [00:19<00:00, 19.66it/s]\n"
          ]
        },
        {
          "name": "stdout",
          "output_type": "stream",
          "text": [
            "\n",
            "Test set: Average loss: 0.0067, Accuracy: 7020/10000 (70.20%)\n",
            "\n",
            "found perfect model!!\n",
            "Saved best model (acc=70.20%) to best_model.pth\n",
            "\n",
            "EPOCH: 14\n"
          ]
        },
        {
          "name": "stderr",
          "output_type": "stream",
          "text": [
            "Epoch=14 Loss=0.8683 Accuracy=64.14: 100%|██████████| 391/391 [00:19<00:00, 19.57it/s]\n"
          ]
        },
        {
          "name": "stdout",
          "output_type": "stream",
          "text": [
            "\n",
            "Test set: Average loss: 0.0068, Accuracy: 6928/10000 (69.28%)\n",
            "\n",
            "\n",
            "EPOCH: 15\n"
          ]
        },
        {
          "name": "stderr",
          "output_type": "stream",
          "text": [
            "Epoch=15 Loss=0.9463 Accuracy=65.06: 100%|██████████| 391/391 [00:18<00:00, 20.69it/s]\n"
          ]
        },
        {
          "name": "stdout",
          "output_type": "stream",
          "text": [
            "\n",
            "Test set: Average loss: 0.0069, Accuracy: 6954/10000 (69.54%)\n",
            "\n",
            "\n",
            "EPOCH: 16\n"
          ]
        },
        {
          "name": "stderr",
          "output_type": "stream",
          "text": [
            "Epoch=16 Loss=0.8844 Accuracy=65.82: 100%|██████████| 391/391 [00:20<00:00, 19.29it/s]\n"
          ]
        },
        {
          "name": "stdout",
          "output_type": "stream",
          "text": [
            "\n",
            "Test set: Average loss: 0.0064, Accuracy: 7147/10000 (71.47%)\n",
            "\n",
            "found perfect model!!\n",
            "Saved best model (acc=71.47%) to best_model.pth\n",
            "\n",
            "EPOCH: 17\n"
          ]
        },
        {
          "name": "stderr",
          "output_type": "stream",
          "text": [
            "Epoch=17 Loss=0.8517 Accuracy=66.82: 100%|██████████| 391/391 [00:18<00:00, 20.77it/s]\n"
          ]
        },
        {
          "name": "stdout",
          "output_type": "stream",
          "text": [
            "\n",
            "Test set: Average loss: 0.0057, Accuracy: 7427/10000 (74.27%)\n",
            "\n",
            "found perfect model!!\n",
            "Saved best model (acc=74.27%) to best_model.pth\n",
            "\n",
            "EPOCH: 18\n"
          ]
        },
        {
          "name": "stderr",
          "output_type": "stream",
          "text": [
            "Epoch=18 Loss=0.8899 Accuracy=67.74: 100%|██████████| 391/391 [00:19<00:00, 19.71it/s]\n"
          ]
        },
        {
          "name": "stdout",
          "output_type": "stream",
          "text": [
            "\n",
            "Test set: Average loss: 0.0059, Accuracy: 7368/10000 (73.68%)\n",
            "\n",
            "\n",
            "EPOCH: 19\n"
          ]
        },
        {
          "name": "stderr",
          "output_type": "stream",
          "text": [
            "Epoch=19 Loss=1.0219 Accuracy=68.24: 100%|██████████| 391/391 [00:19<00:00, 19.65it/s]\n"
          ]
        },
        {
          "name": "stdout",
          "output_type": "stream",
          "text": [
            "\n",
            "Test set: Average loss: 0.0056, Accuracy: 7516/10000 (75.16%)\n",
            "\n",
            "found perfect model!!\n",
            "Saved best model (acc=75.16%) to best_model.pth\n",
            "\n",
            "EPOCH: 20\n"
          ]
        },
        {
          "name": "stderr",
          "output_type": "stream",
          "text": [
            "Epoch=20 Loss=0.8869 Accuracy=68.65: 100%|██████████| 391/391 [00:19<00:00, 20.35it/s]\n"
          ]
        },
        {
          "name": "stdout",
          "output_type": "stream",
          "text": [
            "\n",
            "Test set: Average loss: 0.0055, Accuracy: 7555/10000 (75.55%)\n",
            "\n",
            "found perfect model!!\n",
            "Saved best model (acc=75.55%) to best_model.pth\n",
            "\n",
            "EPOCH: 21\n"
          ]
        },
        {
          "name": "stderr",
          "output_type": "stream",
          "text": [
            "Epoch=21 Loss=0.7102 Accuracy=69.56: 100%|██████████| 391/391 [00:21<00:00, 18.33it/s]\n"
          ]
        },
        {
          "name": "stdout",
          "output_type": "stream",
          "text": [
            "\n",
            "Test set: Average loss: 0.0051, Accuracy: 7751/10000 (77.51%)\n",
            "\n",
            "found perfect model!!\n",
            "Saved best model (acc=77.51%) to best_model.pth\n",
            "\n",
            "EPOCH: 22\n"
          ]
        },
        {
          "name": "stderr",
          "output_type": "stream",
          "text": [
            "Epoch=22 Loss=0.6476 Accuracy=69.69: 100%|██████████| 391/391 [00:19<00:00, 19.78it/s]\n"
          ]
        },
        {
          "name": "stdout",
          "output_type": "stream",
          "text": [
            "\n",
            "Test set: Average loss: 0.0052, Accuracy: 7703/10000 (77.03%)\n",
            "\n",
            "\n",
            "EPOCH: 23\n"
          ]
        },
        {
          "name": "stderr",
          "output_type": "stream",
          "text": [
            "Epoch=23 Loss=0.7444 Accuracy=69.85: 100%|██████████| 391/391 [00:19<00:00, 19.99it/s]\n"
          ]
        },
        {
          "name": "stdout",
          "output_type": "stream",
          "text": [
            "\n",
            "Test set: Average loss: 0.0052, Accuracy: 7694/10000 (76.94%)\n",
            "\n",
            "\n",
            "EPOCH: 24\n"
          ]
        },
        {
          "name": "stderr",
          "output_type": "stream",
          "text": [
            "Epoch=24 Loss=0.5914 Accuracy=70.49: 100%|██████████| 391/391 [00:20<00:00, 19.30it/s]\n"
          ]
        },
        {
          "name": "stdout",
          "output_type": "stream",
          "text": [
            "\n",
            "Test set: Average loss: 0.0049, Accuracy: 7784/10000 (77.84%)\n",
            "\n",
            "found perfect model!!\n",
            "Saved best model (acc=77.84%) to best_model.pth\n",
            "\n",
            "EPOCH: 25\n"
          ]
        },
        {
          "name": "stderr",
          "output_type": "stream",
          "text": [
            "Epoch=25 Loss=1.0081 Accuracy=70.80: 100%|██████████| 391/391 [00:19<00:00, 20.33it/s]\n"
          ]
        },
        {
          "name": "stdout",
          "output_type": "stream",
          "text": [
            "\n",
            "Test set: Average loss: 0.0051, Accuracy: 7785/10000 (77.85%)\n",
            "\n",
            "found perfect model!!\n",
            "Saved best model (acc=77.85%) to best_model.pth\n",
            "\n",
            "EPOCH: 26\n"
          ]
        },
        {
          "name": "stderr",
          "output_type": "stream",
          "text": [
            "Epoch=26 Loss=0.9620 Accuracy=71.02: 100%|██████████| 391/391 [00:20<00:00, 19.13it/s]\n"
          ]
        },
        {
          "name": "stdout",
          "output_type": "stream",
          "text": [
            "\n",
            "Test set: Average loss: 0.0050, Accuracy: 7813/10000 (78.13%)\n",
            "\n",
            "found perfect model!!\n",
            "Saved best model (acc=78.13%) to best_model.pth\n",
            "\n",
            "EPOCH: 27\n"
          ]
        },
        {
          "name": "stderr",
          "output_type": "stream",
          "text": [
            "Epoch=27 Loss=0.8064 Accuracy=71.74: 100%|██████████| 391/391 [00:19<00:00, 20.09it/s]\n"
          ]
        },
        {
          "name": "stdout",
          "output_type": "stream",
          "text": [
            "\n",
            "Test set: Average loss: 0.0049, Accuracy: 7816/10000 (78.16%)\n",
            "\n",
            "found perfect model!!\n",
            "Saved best model (acc=78.16%) to best_model.pth\n",
            "\n",
            "EPOCH: 28\n"
          ]
        },
        {
          "name": "stderr",
          "output_type": "stream",
          "text": [
            "Epoch=28 Loss=0.6570 Accuracy=71.58: 100%|██████████| 391/391 [00:19<00:00, 19.56it/s]\n"
          ]
        },
        {
          "name": "stdout",
          "output_type": "stream",
          "text": [
            "\n",
            "Test set: Average loss: 0.0050, Accuracy: 7818/10000 (78.18%)\n",
            "\n",
            "found perfect model!!\n",
            "Saved best model (acc=78.18%) to best_model.pth\n",
            "\n",
            "EPOCH: 29\n"
          ]
        },
        {
          "name": "stderr",
          "output_type": "stream",
          "text": [
            "Epoch=29 Loss=0.5593 Accuracy=72.06: 100%|██████████| 391/391 [00:19<00:00, 20.10it/s]\n"
          ]
        },
        {
          "name": "stdout",
          "output_type": "stream",
          "text": [
            "\n",
            "Test set: Average loss: 0.0047, Accuracy: 7939/10000 (79.39%)\n",
            "\n",
            "found perfect model!!\n",
            "Saved best model (acc=79.39%) to best_model.pth\n",
            "\n",
            "EPOCH: 30\n"
          ]
        },
        {
          "name": "stderr",
          "output_type": "stream",
          "text": [
            "Epoch=30 Loss=0.5878 Accuracy=72.30: 100%|██████████| 391/391 [00:18<00:00, 21.09it/s]\n"
          ]
        },
        {
          "name": "stdout",
          "output_type": "stream",
          "text": [
            "\n",
            "Test set: Average loss: 0.0052, Accuracy: 7770/10000 (77.70%)\n",
            "\n",
            "\n",
            "EPOCH: 31\n"
          ]
        },
        {
          "name": "stderr",
          "output_type": "stream",
          "text": [
            "Epoch=31 Loss=0.9945 Accuracy=72.64: 100%|██████████| 391/391 [00:19<00:00, 20.01it/s]\n"
          ]
        },
        {
          "name": "stdout",
          "output_type": "stream",
          "text": [
            "\n",
            "Test set: Average loss: 0.0048, Accuracy: 7956/10000 (79.56%)\n",
            "\n",
            "found perfect model!!\n",
            "Saved best model (acc=79.56%) to best_model.pth\n",
            "\n",
            "EPOCH: 32\n"
          ]
        },
        {
          "name": "stderr",
          "output_type": "stream",
          "text": [
            "Epoch=32 Loss=0.7216 Accuracy=72.80: 100%|██████████| 391/391 [00:18<00:00, 20.84it/s]\n"
          ]
        },
        {
          "name": "stdout",
          "output_type": "stream",
          "text": [
            "\n",
            "Test set: Average loss: 0.0049, Accuracy: 7849/10000 (78.49%)\n",
            "\n",
            "\n",
            "EPOCH: 33\n"
          ]
        },
        {
          "name": "stderr",
          "output_type": "stream",
          "text": [
            "Epoch=33 Loss=0.8515 Accuracy=72.90: 100%|██████████| 391/391 [00:19<00:00, 19.56it/s]\n"
          ]
        },
        {
          "name": "stdout",
          "output_type": "stream",
          "text": [
            "\n",
            "Test set: Average loss: 0.0046, Accuracy: 8027/10000 (80.27%)\n",
            "\n",
            "found perfect model!!\n",
            "Saved best model (acc=80.27%) to best_model.pth\n",
            "\n",
            "EPOCH: 34\n"
          ]
        },
        {
          "name": "stderr",
          "output_type": "stream",
          "text": [
            "Epoch=34 Loss=0.9907 Accuracy=73.41: 100%|██████████| 391/391 [00:18<00:00, 21.13it/s]\n"
          ]
        },
        {
          "name": "stdout",
          "output_type": "stream",
          "text": [
            "\n",
            "Test set: Average loss: 0.0043, Accuracy: 8048/10000 (80.48%)\n",
            "\n",
            "found perfect model!!\n",
            "Saved best model (acc=80.48%) to best_model.pth\n",
            "\n",
            "EPOCH: 35\n"
          ]
        },
        {
          "name": "stderr",
          "output_type": "stream",
          "text": [
            "Epoch=35 Loss=0.8681 Accuracy=73.71: 100%|██████████| 391/391 [00:19<00:00, 20.12it/s]\n"
          ]
        },
        {
          "name": "stdout",
          "output_type": "stream",
          "text": [
            "\n",
            "Test set: Average loss: 0.0044, Accuracy: 8070/10000 (80.70%)\n",
            "\n",
            "found perfect model!!\n",
            "Saved best model (acc=80.70%) to best_model.pth\n",
            "\n",
            "EPOCH: 36\n"
          ]
        },
        {
          "name": "stderr",
          "output_type": "stream",
          "text": [
            "Epoch=36 Loss=0.7526 Accuracy=73.68: 100%|██████████| 391/391 [00:18<00:00, 21.29it/s]\n"
          ]
        },
        {
          "name": "stdout",
          "output_type": "stream",
          "text": [
            "\n",
            "Test set: Average loss: 0.0044, Accuracy: 8084/10000 (80.84%)\n",
            "\n",
            "found perfect model!!\n",
            "Saved best model (acc=80.84%) to best_model.pth\n",
            "\n",
            "EPOCH: 37\n"
          ]
        },
        {
          "name": "stderr",
          "output_type": "stream",
          "text": [
            "Epoch=37 Loss=0.6341 Accuracy=73.94: 100%|██████████| 391/391 [00:19<00:00, 19.93it/s]\n"
          ]
        },
        {
          "name": "stdout",
          "output_type": "stream",
          "text": [
            "\n",
            "Test set: Average loss: 0.0042, Accuracy: 8224/10000 (82.24%)\n",
            "\n",
            "found perfect model!!\n",
            "Saved best model (acc=82.24%) to best_model.pth\n",
            "\n",
            "EPOCH: 38\n"
          ]
        },
        {
          "name": "stderr",
          "output_type": "stream",
          "text": [
            "Epoch=38 Loss=0.6523 Accuracy=74.23: 100%|██████████| 391/391 [00:18<00:00, 21.40it/s]\n"
          ]
        },
        {
          "name": "stdout",
          "output_type": "stream",
          "text": [
            "\n",
            "Test set: Average loss: 0.0043, Accuracy: 8151/10000 (81.51%)\n",
            "\n",
            "\n",
            "EPOCH: 39\n"
          ]
        },
        {
          "name": "stderr",
          "output_type": "stream",
          "text": [
            "Epoch=39 Loss=0.8711 Accuracy=74.48: 100%|██████████| 391/391 [00:19<00:00, 19.58it/s]\n"
          ]
        },
        {
          "name": "stdout",
          "output_type": "stream",
          "text": [
            "\n",
            "Test set: Average loss: 0.0045, Accuracy: 8073/10000 (80.73%)\n",
            "\n",
            "\n",
            "EPOCH: 40\n"
          ]
        },
        {
          "name": "stderr",
          "output_type": "stream",
          "text": [
            "Epoch=40 Loss=0.8961 Accuracy=74.49: 100%|██████████| 391/391 [00:19<00:00, 20.00it/s]\n"
          ]
        },
        {
          "name": "stdout",
          "output_type": "stream",
          "text": [
            "\n",
            "Test set: Average loss: 0.0043, Accuracy: 8159/10000 (81.59%)\n",
            "\n",
            "\n",
            "EPOCH: 41\n"
          ]
        },
        {
          "name": "stderr",
          "output_type": "stream",
          "text": [
            "Epoch=41 Loss=0.7181 Accuracy=74.95: 100%|██████████| 391/391 [00:18<00:00, 20.85it/s]\n"
          ]
        },
        {
          "name": "stdout",
          "output_type": "stream",
          "text": [
            "\n",
            "Test set: Average loss: 0.0041, Accuracy: 8205/10000 (82.05%)\n",
            "\n",
            "\n",
            "EPOCH: 42\n"
          ]
        },
        {
          "name": "stderr",
          "output_type": "stream",
          "text": [
            "Epoch=42 Loss=0.6727 Accuracy=74.71: 100%|██████████| 391/391 [00:20<00:00, 19.04it/s]\n"
          ]
        },
        {
          "name": "stdout",
          "output_type": "stream",
          "text": [
            "\n",
            "Test set: Average loss: 0.0044, Accuracy: 8075/10000 (80.75%)\n",
            "\n",
            "\n",
            "EPOCH: 43\n"
          ]
        },
        {
          "name": "stderr",
          "output_type": "stream",
          "text": [
            "Epoch=43 Loss=0.5930 Accuracy=75.00: 100%|██████████| 391/391 [00:19<00:00, 20.44it/s]\n"
          ]
        },
        {
          "name": "stdout",
          "output_type": "stream",
          "text": [
            "\n",
            "Test set: Average loss: 0.0044, Accuracy: 8057/10000 (80.57%)\n",
            "\n",
            "\n",
            "EPOCH: 44\n"
          ]
        },
        {
          "name": "stderr",
          "output_type": "stream",
          "text": [
            "Epoch=44 Loss=0.4716 Accuracy=75.34: 100%|██████████| 391/391 [00:20<00:00, 19.37it/s]\n"
          ]
        },
        {
          "name": "stdout",
          "output_type": "stream",
          "text": [
            "\n",
            "Test set: Average loss: 0.0040, Accuracy: 8220/10000 (82.20%)\n",
            "\n",
            "\n",
            "EPOCH: 45\n"
          ]
        },
        {
          "name": "stderr",
          "output_type": "stream",
          "text": [
            "Epoch=45 Loss=0.8495 Accuracy=75.66: 100%|██████████| 391/391 [00:20<00:00, 19.38it/s]\n"
          ]
        },
        {
          "name": "stdout",
          "output_type": "stream",
          "text": [
            "\n",
            "Test set: Average loss: 0.0041, Accuracy: 8177/10000 (81.77%)\n",
            "\n",
            "\n",
            "EPOCH: 46\n"
          ]
        },
        {
          "name": "stderr",
          "output_type": "stream",
          "text": [
            "Epoch=46 Loss=0.5432 Accuracy=75.49: 100%|██████████| 391/391 [00:19<00:00, 19.74it/s]\n"
          ]
        },
        {
          "name": "stdout",
          "output_type": "stream",
          "text": [
            "\n",
            "Test set: Average loss: 0.0040, Accuracy: 8244/10000 (82.44%)\n",
            "\n",
            "found perfect model!!\n",
            "Saved best model (acc=82.44%) to best_model.pth\n",
            "\n",
            "EPOCH: 47\n"
          ]
        },
        {
          "name": "stderr",
          "output_type": "stream",
          "text": [
            "Epoch=47 Loss=0.6235 Accuracy=75.98: 100%|██████████| 391/391 [00:20<00:00, 18.72it/s]\n"
          ]
        },
        {
          "name": "stdout",
          "output_type": "stream",
          "text": [
            "\n",
            "Test set: Average loss: 0.0039, Accuracy: 8286/10000 (82.86%)\n",
            "\n",
            "found perfect model!!\n",
            "Saved best model (acc=82.86%) to best_model.pth\n",
            "\n",
            "EPOCH: 48\n"
          ]
        },
        {
          "name": "stderr",
          "output_type": "stream",
          "text": [
            "Epoch=48 Loss=0.6899 Accuracy=76.06: 100%|██████████| 391/391 [00:19<00:00, 20.01it/s]\n"
          ]
        },
        {
          "name": "stdout",
          "output_type": "stream",
          "text": [
            "\n",
            "Test set: Average loss: 0.0039, Accuracy: 8262/10000 (82.62%)\n",
            "\n",
            "\n",
            "EPOCH: 49\n"
          ]
        },
        {
          "name": "stderr",
          "output_type": "stream",
          "text": [
            "Epoch=49 Loss=0.5012 Accuracy=76.14: 100%|██████████| 391/391 [00:20<00:00, 18.98it/s]\n"
          ]
        },
        {
          "name": "stdout",
          "output_type": "stream",
          "text": [
            "\n",
            "Test set: Average loss: 0.0038, Accuracy: 8365/10000 (83.65%)\n",
            "\n",
            "found perfect model!!\n",
            "Saved best model (acc=83.65%) to best_model.pth\n",
            "\n",
            "EPOCH: 50\n"
          ]
        },
        {
          "name": "stderr",
          "output_type": "stream",
          "text": [
            "Epoch=50 Loss=0.6600 Accuracy=76.17: 100%|██████████| 391/391 [00:19<00:00, 19.77it/s]\n"
          ]
        },
        {
          "name": "stdout",
          "output_type": "stream",
          "text": [
            "\n",
            "Test set: Average loss: 0.0039, Accuracy: 8315/10000 (83.15%)\n",
            "\n",
            "\n",
            "EPOCH: 51\n"
          ]
        },
        {
          "name": "stderr",
          "output_type": "stream",
          "text": [
            "Epoch=51 Loss=0.8176 Accuracy=76.33: 100%|██████████| 391/391 [00:19<00:00, 19.89it/s]\n"
          ]
        },
        {
          "name": "stdout",
          "output_type": "stream",
          "text": [
            "\n",
            "Test set: Average loss: 0.0039, Accuracy: 8245/10000 (82.45%)\n",
            "\n",
            "\n",
            "EPOCH: 52\n"
          ]
        },
        {
          "name": "stderr",
          "output_type": "stream",
          "text": [
            "Epoch=52 Loss=0.6320 Accuracy=76.42: 100%|██████████| 391/391 [00:20<00:00, 18.71it/s]\n"
          ]
        },
        {
          "name": "stdout",
          "output_type": "stream",
          "text": [
            "\n",
            "Test set: Average loss: 0.0037, Accuracy: 8331/10000 (83.31%)\n",
            "\n",
            "\n",
            "EPOCH: 53\n"
          ]
        },
        {
          "name": "stderr",
          "output_type": "stream",
          "text": [
            "Epoch=53 Loss=0.6481 Accuracy=76.89: 100%|██████████| 391/391 [00:19<00:00, 20.05it/s]\n"
          ]
        },
        {
          "name": "stdout",
          "output_type": "stream",
          "text": [
            "\n",
            "Test set: Average loss: 0.0038, Accuracy: 8339/10000 (83.39%)\n",
            "\n",
            "\n",
            "EPOCH: 54\n"
          ]
        },
        {
          "name": "stderr",
          "output_type": "stream",
          "text": [
            "Epoch=54 Loss=0.6629 Accuracy=76.91: 100%|██████████| 391/391 [00:20<00:00, 18.75it/s]\n"
          ]
        },
        {
          "name": "stdout",
          "output_type": "stream",
          "text": [
            "\n",
            "Test set: Average loss: 0.0037, Accuracy: 8382/10000 (83.82%)\n",
            "\n",
            "found perfect model!!\n",
            "Saved best model (acc=83.82%) to best_model.pth\n",
            "\n",
            "EPOCH: 55\n"
          ]
        },
        {
          "name": "stderr",
          "output_type": "stream",
          "text": [
            "Epoch=55 Loss=0.9218 Accuracy=77.15: 100%|██████████| 391/391 [00:20<00:00, 19.24it/s]\n"
          ]
        },
        {
          "name": "stdout",
          "output_type": "stream",
          "text": [
            "\n",
            "Test set: Average loss: 0.0038, Accuracy: 8346/10000 (83.46%)\n",
            "\n",
            "\n",
            "EPOCH: 56\n"
          ]
        },
        {
          "name": "stderr",
          "output_type": "stream",
          "text": [
            "Epoch=56 Loss=0.8345 Accuracy=76.73: 100%|██████████| 391/391 [00:19<00:00, 20.00it/s]\n"
          ]
        },
        {
          "name": "stdout",
          "output_type": "stream",
          "text": [
            "\n",
            "Test set: Average loss: 0.0037, Accuracy: 8364/10000 (83.64%)\n",
            "\n",
            "\n",
            "EPOCH: 57\n"
          ]
        },
        {
          "name": "stderr",
          "output_type": "stream",
          "text": [
            "Epoch=57 Loss=0.6126 Accuracy=77.25: 100%|██████████| 391/391 [00:20<00:00, 18.64it/s]\n"
          ]
        },
        {
          "name": "stdout",
          "output_type": "stream",
          "text": [
            "\n",
            "Test set: Average loss: 0.0037, Accuracy: 8367/10000 (83.67%)\n",
            "\n",
            "\n",
            "EPOCH: 58\n"
          ]
        },
        {
          "name": "stderr",
          "output_type": "stream",
          "text": [
            "Epoch=58 Loss=0.7614 Accuracy=77.31: 100%|██████████| 391/391 [00:19<00:00, 20.13it/s]\n"
          ]
        },
        {
          "name": "stdout",
          "output_type": "stream",
          "text": [
            "\n",
            "Test set: Average loss: 0.0036, Accuracy: 8427/10000 (84.27%)\n",
            "\n",
            "found perfect model!!\n",
            "Saved best model (acc=84.27%) to best_model.pth\n",
            "\n",
            "EPOCH: 59\n"
          ]
        },
        {
          "name": "stderr",
          "output_type": "stream",
          "text": [
            "Epoch=59 Loss=0.6854 Accuracy=77.40: 100%|██████████| 391/391 [00:20<00:00, 18.75it/s]\n"
          ]
        },
        {
          "name": "stdout",
          "output_type": "stream",
          "text": [
            "\n",
            "Test set: Average loss: 0.0037, Accuracy: 8387/10000 (83.87%)\n",
            "\n",
            "\n",
            "EPOCH: 60\n"
          ]
        },
        {
          "name": "stderr",
          "output_type": "stream",
          "text": [
            "Epoch=60 Loss=0.5720 Accuracy=77.46: 100%|██████████| 391/391 [00:19<00:00, 19.92it/s]\n"
          ]
        },
        {
          "name": "stdout",
          "output_type": "stream",
          "text": [
            "\n",
            "Test set: Average loss: 0.0036, Accuracy: 8439/10000 (84.39%)\n",
            "\n",
            "found perfect model!!\n",
            "Saved best model (acc=84.39%) to best_model.pth\n",
            "\n",
            "EPOCH: 61\n"
          ]
        },
        {
          "name": "stderr",
          "output_type": "stream",
          "text": [
            "Epoch=61 Loss=0.6017 Accuracy=77.24: 100%|██████████| 391/391 [00:19<00:00, 20.50it/s]\n"
          ]
        },
        {
          "name": "stdout",
          "output_type": "stream",
          "text": [
            "\n",
            "Test set: Average loss: 0.0036, Accuracy: 8429/10000 (84.29%)\n",
            "\n",
            "\n",
            "EPOCH: 62\n"
          ]
        },
        {
          "name": "stderr",
          "output_type": "stream",
          "text": [
            "Epoch=62 Loss=0.6483 Accuracy=77.79: 100%|██████████| 391/391 [00:20<00:00, 19.23it/s]\n"
          ]
        },
        {
          "name": "stdout",
          "output_type": "stream",
          "text": [
            "\n",
            "Test set: Average loss: 0.0036, Accuracy: 8430/10000 (84.30%)\n",
            "\n",
            "\n",
            "EPOCH: 63\n"
          ]
        },
        {
          "name": "stderr",
          "output_type": "stream",
          "text": [
            "Epoch=63 Loss=0.3760 Accuracy=77.80: 100%|██████████| 391/391 [00:19<00:00, 20.40it/s]\n"
          ]
        },
        {
          "name": "stdout",
          "output_type": "stream",
          "text": [
            "\n",
            "Test set: Average loss: 0.0035, Accuracy: 8461/10000 (84.61%)\n",
            "\n",
            "found perfect model!!\n",
            "Saved best model (acc=84.61%) to best_model.pth\n",
            "\n",
            "EPOCH: 64\n"
          ]
        },
        {
          "name": "stderr",
          "output_type": "stream",
          "text": [
            "Epoch=64 Loss=0.6661 Accuracy=77.96: 100%|██████████| 391/391 [00:20<00:00, 18.97it/s]\n"
          ]
        },
        {
          "name": "stdout",
          "output_type": "stream",
          "text": [
            "\n",
            "Test set: Average loss: 0.0035, Accuracy: 8447/10000 (84.47%)\n",
            "\n",
            "\n",
            "EPOCH: 65\n"
          ]
        },
        {
          "name": "stderr",
          "output_type": "stream",
          "text": [
            "Epoch=65 Loss=0.6809 Accuracy=77.92: 100%|██████████| 391/391 [00:19<00:00, 20.20it/s]\n"
          ]
        },
        {
          "name": "stdout",
          "output_type": "stream",
          "text": [
            "\n",
            "Test set: Average loss: 0.0035, Accuracy: 8469/10000 (84.69%)\n",
            "\n",
            "found perfect model!!\n",
            "Saved best model (acc=84.69%) to best_model.pth\n",
            "\n",
            "EPOCH: 66\n"
          ]
        },
        {
          "name": "stderr",
          "output_type": "stream",
          "text": [
            "Epoch=66 Loss=0.5377 Accuracy=78.33: 100%|██████████| 391/391 [00:20<00:00, 18.90it/s]\n"
          ]
        },
        {
          "name": "stdout",
          "output_type": "stream",
          "text": [
            "\n",
            "Test set: Average loss: 0.0035, Accuracy: 8491/10000 (84.91%)\n",
            "\n",
            "found perfect model!!\n",
            "Saved best model (acc=84.91%) to best_model.pth\n",
            "\n",
            "EPOCH: 67\n"
          ]
        },
        {
          "name": "stderr",
          "output_type": "stream",
          "text": [
            "Epoch=67 Loss=0.4668 Accuracy=78.14: 100%|██████████| 391/391 [00:20<00:00, 19.28it/s]\n"
          ]
        },
        {
          "name": "stdout",
          "output_type": "stream",
          "text": [
            "\n",
            "Test set: Average loss: 0.0035, Accuracy: 8472/10000 (84.72%)\n",
            "\n",
            "\n",
            "EPOCH: 68\n"
          ]
        },
        {
          "name": "stderr",
          "output_type": "stream",
          "text": [
            "Epoch=68 Loss=0.4888 Accuracy=78.24: 100%|██████████| 391/391 [00:19<00:00, 20.36it/s]\n"
          ]
        },
        {
          "name": "stdout",
          "output_type": "stream",
          "text": [
            "\n",
            "Test set: Average loss: 0.0035, Accuracy: 8480/10000 (84.80%)\n",
            "\n",
            "\n",
            "EPOCH: 69\n"
          ]
        },
        {
          "name": "stderr",
          "output_type": "stream",
          "text": [
            "Epoch=69 Loss=0.4606 Accuracy=78.29: 100%|██████████| 391/391 [00:20<00:00, 19.22it/s]\n"
          ]
        },
        {
          "name": "stdout",
          "output_type": "stream",
          "text": [
            "\n",
            "Test set: Average loss: 0.0035, Accuracy: 8513/10000 (85.13%)\n",
            "\n",
            "found perfect model!!\n",
            "Saved best model (acc=85.13%) to best_model.pth\n",
            "-----------------------------------------\n",
            "train accuracies 69 [19.576, 29.406, 34.994, 40.55, 45.008, 48.864, 52.004, 54.202, 56.314, 58.272, 60.06, 61.726, 62.83, 64.14, 65.062, 65.818, 66.82, 67.744, 68.24, 68.654, 69.564, 69.69, 69.85, 70.488, 70.796, 71.022, 71.736, 71.578, 72.064, 72.298, 72.638, 72.802, 72.902, 73.406, 73.706, 73.676, 73.944, 74.228, 74.478, 74.486, 74.948, 74.706, 75.004, 75.342, 75.658, 75.494, 75.976, 76.058, 76.136, 76.166, 76.328, 76.422, 76.89, 76.91, 77.15, 76.734, 77.254, 77.308, 77.404, 77.464, 77.236, 77.794, 77.8, 77.962, 77.924, 78.334, 78.14, 78.236, 78.292]\n",
            "train losses 69 [832.8258105516434, 754.7006238698959, 695.0407379865646, 642.0407108068466, 591.2250136137009, 551.827003121376, 519.8589124679565, 493.38972198963165, 471.1060824394226, 452.64111202955246, 435.27754670381546, 418.32542634010315, 407.74050879478455, 394.8865488767624, 383.82403486967087, 376.9605611562729, 365.67113357782364, 359.57036685943604, 352.2730470299721, 348.61515748500824, 339.99575674533844, 336.3038186430931, 333.79103177785873, 327.00328719615936, 323.2206951379776, 321.4164680838585, 315.0282400250435, 314.27440762519836, 308.56984770298004, 308.54805678129196, 303.04537588357925, 300.62180042266846, 300.40379947423935, 295.0308775305748, 293.73237001895905, 292.09957414865494, 289.4402257800102, 288.0040136575699, 283.7056924402714, 284.8287643790245, 279.9033207297325, 280.9626030921936, 276.83141300082207, 275.3863904476166, 271.3460921049118, 271.747674793005, 267.6553391814232, 266.6986543536186, 266.0161316692829, 264.41511246562004, 262.7897031903267, 260.6249809861183, 258.15998435020447, 256.6412472128868, 256.13336032629013, 256.5257561802864, 253.57249209284782, 252.55969551205635, 250.83528608083725, 249.75711685419083, 252.44165334105492, 247.62130871415138, 246.57619380950928, 246.18630731105804, 244.4429444372654, 242.13400822877884, 243.0232354104519, 241.69492757320404, 240.80215540528297]\n",
            "-----------------------------------------\n",
            "-----------------------------------------\n",
            "test accuracies 69 [25.67, 33.62, 40.18, 46.49, 52.24, 56.3, 59.0, 62.13, 64.08, 65.1, 66.91, 66.16, 70.2, 69.28, 69.54, 71.47, 74.27, 73.68, 75.16, 75.55, 77.51, 77.03, 76.94, 77.84, 77.85, 78.13, 78.16, 78.18, 79.39, 77.7, 79.56, 78.49, 80.27, 80.48, 80.7, 80.84, 82.24, 81.51, 80.73, 81.59, 82.05, 80.75, 80.57, 82.2, 81.77, 82.44, 82.86, 82.62, 83.65, 83.15, 82.45, 83.31, 83.39, 83.82, 83.46, 83.64, 83.67, 84.27, 83.87, 84.39, 84.29, 84.3, 84.61, 84.47, 84.69, 84.91, 84.72, 84.8, 85.13]\n",
            "test losses 69 [0.015642135381698608, 0.01417998594045639, 0.012681452620029449, 0.011459347486495972, 0.010331626105308533, 0.009536774873733521, 0.009038086777925492, 0.008357502228021622, 0.007827394515275955, 0.007684637820720672, 0.007234911906719208, 0.007550796216726303, 0.0066774117469787595, 0.006805993950366974, 0.006905328047275543, 0.00640542910695076, 0.005675658544898033, 0.005900365710258484, 0.00560944117307663, 0.005508018094301224, 0.005125416815280915, 0.005196450734138489, 0.005183554762601852, 0.004948077976703644, 0.0050561875998973846, 0.005046557745337486, 0.004887657889723777, 0.0049694433152675625, 0.00468689916729927, 0.0051967385917901995, 0.004828935027122497, 0.004898270806670189, 0.004611727792024612, 0.004305743166804313, 0.004350179094076157, 0.004447853979468346, 0.004196138525009155, 0.004261341777443885, 0.004508222770690918, 0.004268542489409446, 0.004103877460956574, 0.004352549546957016, 0.004383531975746154, 0.0040008169382810595, 0.00410356068611145, 0.004004823410511017, 0.0038548708379268644, 0.0039428075462579724, 0.003790960228443146, 0.003895391571521759, 0.003939888073503971, 0.003746549955010414, 0.0037977149963378904, 0.003675574001669884, 0.0038198611110448837, 0.0036679176539182665, 0.003664937037229538, 0.0036215856790542604, 0.0036556683734059333, 0.0035746880739927294, 0.003578169333934784, 0.0035574537873268126, 0.003542322584986687, 0.003528605280816555, 0.0034932402551174162, 0.003473483207821846, 0.00351479888856411, 0.0034825865641236304, 0.0034806843996047976]\n",
            "-----------------------------------------\n"
          ]
        },
        {
          "data": {
            "image/png": "[encoded data removed]",
            "text/plain": [
              "<Figure size 800x500 with 1 Axes>"
            ]
          },
          "metadata": {},
          "output_type": "display_data"
        },
        {
          "data": {
            "image/png": "[encoded data removed]",
            "text/plain": [
              "<Figure size 800x500 with 1 Axes>"
            ]
          },
          "metadata": {},
          "output_type": "display_data"
        },
        {
          "data": {
            "image/png": "[encoded data removed]",
            "text/plain": [
              "<Figure size 800x500 with 1 Axes>"
            ]
          },
          "metadata": {},
          "output_type": "display_data"
        },
        {
          "data": {
            "image/png": "[encoded data removed]",
            "text/plain": [
              "<Figure size 800x500 with 1 Axes>"
            ]
          },
          "metadata": {},
          "output_type": "display_data"
        }
      ],
      "source": [
        "import torch\n",
        "import torch.nn.functional as F\n",
        "import torch.optim as optim\n",
        "import torch.nn as nn\n",
        "from torchvision import datasets, transforms\n",
        "from tqdm import tqdm\n",
        "from torchsummary import summary\n",
        "from torch.optim.lr_scheduler import StepLR\n",
        "import albumentations as A\n",
        "from albumentations.pytorch import ToTensorV2\n",
        "from torch.optim.lr_scheduler import OneCycleLR\n",
        "# from models import Model1\n",
        "# from utils import plot_metrics\n",
        "\n",
        "\n",
        "def train(model, device, train_loader, optimizer, scheduler, criterion, epoch, train_losses, train_acc):\n",
        "    model.train()\n",
        "    pbar = tqdm(train_loader)\n",
        "    correct = 0\n",
        "    processed = 0\n",
        "    train_loss = 0\n",
        "    for batch_idx, (data, target) in enumerate(pbar):\n",
        "        data, target = data.to(device), target.to(device)\n",
        "        optimizer.zero_grad()\n",
        "        y_pred = model(data)\n",
        "        loss = criterion(y_pred, target)   # expects log_softmax in model forward\n",
        "        train_loss += loss.item()\n",
        "        loss.backward()\n",
        "        optimizer.step()\n",
        "        scheduler.step()\n",
        "        # if batch_idx > 5:\n",
        "        #     break\n",
        "        pred = y_pred.argmax(dim=1, keepdim=True)\n",
        "        correct += pred.eq(target.view_as(pred)).sum().item()\n",
        "        processed += len(data)\n",
        "        acc = 100. * correct / processed\n",
        "        pbar.set_description(desc=f'Epoch={epoch} Loss={loss.item():.4f} Accuracy={acc:0.2f}')\n",
        "        #train_acc.append(acc)\n",
        "    train_losses.append(train_loss)\n",
        "    acc = 100. * correct / len(train_loader.dataset)\n",
        "    train_acc.append(acc)\n",
        "\n",
        "\n",
        "def test(model, device, test_loader, criterion, test_losses, test_acc):\n",
        "    model.eval()\n",
        "    test_loss = 0\n",
        "    correct = 0\n",
        "    with torch.no_grad():\n",
        "        for data, target in test_loader:\n",
        "            data, target = data.to(device), target.to(device)\n",
        "            output = model(data)\n",
        "            test_loss += criterion(output, target).item()\n",
        "            pred = output.argmax(dim=1, keepdim=True)\n",
        "            correct += pred.eq(target.view_as(pred)).sum().item()\n",
        "    test_loss /= len(test_loader.dataset)\n",
        "    acc = 100. * correct / len(test_loader.dataset)\n",
        "    test_losses.append(test_loss)\n",
        "    test_acc.append(acc)\n",
        "    print(f'\\nTest set: Average loss: {test_loss:.4f}, Accuracy: {correct}/{len(test_loader.dataset)} ({acc:.2f}%)\\n')\n",
        "    return acc\n",
        "\n",
        "def get_data_loaders():\n",
        "    # CIFAR-10 mean and std\n",
        "    CIFAR10_MEAN = (0.4914, 0.4822, 0.4465)\n",
        "    CIFAR10_STD  = (0.2470, 0.2435, 0.2616)\n",
        "\n",
        "\n",
        "    fill_value_pixels = tuple(int(m * 255) for m in CIFAR10_MEAN)\n",
        "\n",
        "    train_alb = A.Compose([\n",
        "        A.HorizontalFlip(p=0.5),\n",
        "         A.Affine(\n",
        "            translate_percent={\"x\": 0.0625, \"y\": 0.0625},  # shift\n",
        "            scale=(0.9, 1.1),                               # scale\n",
        "            rotate=(-15, 15),                               # rotation\n",
        "            p=0.5\n",
        "        ),\n",
        "        A.CoarseDropout(\n",
        "            num_holes_range=(1, 1),\n",
        "            hole_height_range=(16, 16),\n",
        "            hole_width_range=(16, 16),\n",
        "            fill=fill_value_pixels,\n",
        "            fill_mask=None,\n",
        "            p=0.5\n",
        "        ),\n",
        "        A.Normalize(mean=CIFAR10_MEAN, std=CIFAR10_STD),\n",
        "        ToTensorV2(),\n",
        "    ])\n",
        "\n",
        "    val_alb = A.Compose([\n",
        "        A.Normalize(mean=CIFAR10_MEAN, std=CIFAR10_STD),\n",
        "        ToTensorV2(),\n",
        "    ])\n",
        "\n",
        "    class AlbCIFAR10(datasets.CIFAR10):\n",
        "        def __init__(self, root, train=True, transform=None, download=False):\n",
        "            super().__init__(root=root, train=train, download=download)\n",
        "            self.alb_transform = transform\n",
        "\n",
        "        def __getitem__(self, index):\n",
        "            img, target = self.data[index], int(self.targets[index])\n",
        "            # img is HxWxC numpy (uint8)\n",
        "            if self.alb_transform:\n",
        "                augmented = self.alb_transform(image=img)\n",
        "                img = augmented[\"image\"]\n",
        "            else:\n",
        "                # fallback: convert to tensor and normalize\n",
        "                img = transforms.ToTensor()(img)\n",
        "            return img, target\n",
        "\n",
        "\n",
        "\n",
        "    # train_transforms = transforms.Compose([\n",
        "    #     transforms.RandomHorizontalFlip(),\n",
        "    #     transforms.RandomAffine(degrees=10, translate=(0.1, 0.1), scale=(0.9, 1.1)),\n",
        "    #     transforms.ToTensor(),\n",
        "    #     transforms.Normalize(mean, std)\n",
        "    # ])\n",
        "\n",
        "    # test_transforms = transforms.Compose([\n",
        "    #     transforms.ToTensor(),\n",
        "    #     transforms.Normalize(mean, std)\n",
        "    # ])\n",
        "\n",
        "    # train = datasets.CIFAR10('./data', train=True, download=True, transform=train_transforms)\n",
        "    # test = datasets.CIFAR10('./data', train=False, download=True, transform=test_transforms)\n",
        "\n",
        "    train = AlbCIFAR10(root='./data', train=True, transform=train_alb, download=True)\n",
        "    test   = AlbCIFAR10(root='./data', train=False, transform=val_alb, download=True)\n",
        "\n",
        "    SEED = 1\n",
        "    cuda = torch.cuda.is_available()\n",
        "    print(\"CUDA Available?\", cuda)\n",
        "    torch.manual_seed(SEED)\n",
        "    if cuda:\n",
        "        torch.cuda.manual_seed(SEED)\n",
        "\n",
        "    dataloader_args = dict(shuffle=True, batch_size=128, num_workers=4, pin_memory=True) if cuda \\\n",
        "                      else dict(shuffle=True, batch_size=64)\n",
        "    train_loader = torch.utils.data.DataLoader(train, **dataloader_args)\n",
        "    test_loader = torch.utils.data.DataLoader(test, **dataloader_args)\n",
        "    return train_loader, test_loader, cuda\n",
        "\n",
        "def perform_training():\n",
        "    train_loader, test_loader, use_cuda = get_data_loaders()\n",
        "    device = torch.device(\"cuda\" if use_cuda else \"cpu\")\n",
        "    print(\"Using device:\", device)\n",
        "\n",
        "    number_of_classes = 10\n",
        "    model = Model1(number_of_classes).to(device)\n",
        "    summary(model, input_size=(3, 32, 32))  # CIFAR-10 input size\n",
        "\n",
        "    # return\n",
        "    #optimizer = optim.SGD(model.parameters(), lr=0.02, momentum=0.9)\n",
        "    # optimizer = torch.optim.Adam(model.parameters(), lr=1e-4, weight_decay=1e-4)\n",
        "\n",
        "    # scheduler = StepLR(optimizer, step_size=20, gamma=0.1)\n",
        "\n",
        "    criterion = nn.CrossEntropyLoss()\n",
        "    optimizer = optim.Adam(model.parameters(), lr=1e-3, weight_decay=1e-4)\n",
        "    EPOCHS = 80\n",
        "    scheduler = OneCycleLR(\n",
        "        optimizer,\n",
        "        max_lr=1e-3,\n",
        "        steps_per_epoch=len(train_loader),\n",
        "\n",
        "        epochs=EPOCHS,\n",
        "        pct_start=0.2,\n",
        "        anneal_strategy=\"cos\",\n",
        "    )\n",
        "\n",
        "    EPOCHS = 100\n",
        "    SAVE_PATH = \"best_model.pth\"\n",
        "\n",
        "    train_losses, test_losses, train_acc, test_acc = [], [], [], []\n",
        "    best_val_acc = 0.0\n",
        "\n",
        "    for epoch in range(1, EPOCHS + 1):\n",
        "        print(f\"\\nEPOCH: {epoch}\")\n",
        "        train(model, device, train_loader, optimizer, scheduler, criterion, epoch, train_losses, train_acc)\n",
        "        current_test_acc = test(model, device, test_loader, criterion, test_losses, test_acc)\n",
        "        if current_test_acc >= best_val_acc:\n",
        "            print(\"found perfect model!!\")\n",
        "            best_val_acc = current_test_acc\n",
        "            torch.save({\n",
        "                \"epoch\": epoch,\n",
        "                \"model_state\": model.state_dict(),\n",
        "                \"optimizer_state\": optimizer.state_dict(),\n",
        "                \"val_acc\": current_test_acc,\n",
        "            }, SAVE_PATH)\n",
        "            print(f\"Saved best model (acc={best_val_acc:.2f}%) to {SAVE_PATH}\")\n",
        "            if best_val_acc >= 85.0:\n",
        "                break\n",
        "\n",
        "    print(\"-----------------------------------------\")\n",
        "    print(\"train accuracies\", len(train_acc), train_acc)\n",
        "    print(\"train losses\", len(train_losses), train_losses)\n",
        "    print(\"-----------------------------------------\")\n",
        "    print(\"-----------------------------------------\")\n",
        "    print(\"test accuracies\", len(test_acc), test_acc)\n",
        "    print(\"test losses\", len(test_losses), test_losses)\n",
        "    print(\"-----------------------------------------\")\n",
        "    plot_metrics(train_losses, test_losses, train_acc, test_acc)\n",
        "\n",
        "if __name__ == '__main__':\n",
        "    perform_training()"
      ]
    }
  ],
  "metadata": {
    "accelerator": "GPU",
    "colab": {
      "gpuType": "T4",
      "provenance": []
    },
    "kernelspec": {
      "display_name": "cnn",
      "language": "python",
      "name": "python3"
    },
    "language_info": {
      "name": "python",
      "version": "3.13.3"
    }
  },
  "nbformat": 4,
  "nbformat_minor": 0
}
