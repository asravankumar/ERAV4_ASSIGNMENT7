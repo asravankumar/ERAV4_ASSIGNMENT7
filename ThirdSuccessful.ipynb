{
  "cells": [
    {
      "cell_type": "code",
      "execution_count": 31,
      "metadata": {
        "id": "aS8eO1kBd1ls"
      },
      "outputs": [],
      "source": [
        "import torch\n",
        "import torch.nn as nn\n",
        "import torch.nn.functional as F\n",
        "\n",
        "\n",
        "dropout_value = 0.1\n",
        "\n",
        "def conv_bn_act(in_ch, out_ch, kernel=3, stride=1, padding=1, dilation=1, dropout_p=0.05):\n",
        "    return nn.Sequential(\n",
        "        nn.Conv2d(in_ch, out_ch, kernel_size=kernel, stride=stride,\n",
        "                  padding=padding, dilation=dilation, bias=False),\n",
        "        nn.BatchNorm2d(out_ch),\n",
        "        nn.ReLU(inplace=True),\n",
        "        nn.Dropout(dropout_p)\n",
        "    )\n",
        "\n",
        "def dws_bn_act(in_ch, out_ch, kernel_size=3, stride=1, padding=1, dilation=1,dropout_p=0.05):\n",
        "    return nn.Sequential(\n",
        "        nn.Conv2d(in_ch, in_ch, kernel_size=kernel_size, stride=stride,\n",
        "                            padding=padding, dilation=dilation, groups=in_ch, bias=False),\n",
        "        nn.Conv2d(in_ch, out_ch, kernel_size=1, stride=1, padding=0, bias=False),\n",
        "        nn.BatchNorm2d(out_ch),\n",
        "        nn.ReLU(inplace=True),\n",
        "        nn.Dropout(dropout_p)\n",
        "    )\n",
        "\n",
        "class Model1(nn.Module):\n",
        "    def __init__(self, num_classes):\n",
        "        super(Model1, self).__init__()\n",
        "\n",
        "        # CONVOLUTION BLOCK 1\n",
        "        self.c1_1 = conv_bn_act(3, 32, kernel=3, stride=1, padding=1, dilation=1)\n",
        "        self.c1_2 = conv_bn_act(32, 64, kernel=3, stride=2, padding=1, dilation=1)\n",
        "        self.onexonec1_1 = conv_bn_act(64, 32, kernel=1, stride=1, padding=0, dilation=1)\n",
        "\n",
        "        # CONVOLUTION BLOCK 2\n",
        "        self.c2_1 = conv_bn_act(32, 64, kernel=3, stride=1, padding=1, dilation=1)\n",
        "        self.c2_2 = dws_bn_act(64, 32, kernel_size=3, stride=2, padding=1, dilation=1)\n",
        "        #self.onexonec2_1 = conv_bn_act(64, 32, kernel=1, stride=1, padding=0, dilation=1)\n",
        "\n",
        "        # CONVOLUTION BLOCK 3\n",
        "        self.c3_1 = conv_bn_act(32, 32, kernel=3, stride=1, padding=1, dilation=1)\n",
        "        self.c3_2 = conv_bn_act(32, 64, kernel=3, stride=1, padding=1, dilation=1)\n",
        "        self.onexonec3_1 = conv_bn_act(64, 32, kernel=1, stride=1, padding=0, dilation=1)\n",
        "\n",
        "        # CONVOLUTION BLOCK 4\n",
        "        self.c4 = conv_bn_act(32, 64, kernel=3, stride=1, padding=1, dilation=1)\n",
        "        self.c5 = conv_bn_act(64, 64, kernel=3, stride=1, padding=1, dilation=2)\n",
        "\n",
        "        # OUTPUT BLOCK\n",
        "        self.gap = nn.AdaptiveAvgPool2d(1)\n",
        "        self.fc = nn.Linear(64, num_classes)\n",
        "\n",
        "\n",
        "    def forward(self, x):\n",
        "        # Block 1\n",
        "        x = self.c1_1(x)\n",
        "        x = self.c1_2(x)\n",
        "        x = self.onexonec1_1(x)\n",
        "\n",
        "        # Block 2\n",
        "        x = self.c2_1(x)\n",
        "        x = self.c2_2(x)\n",
        "        #x = self.onexonec2_1(x)\n",
        "\n",
        "        # Block 3\n",
        "        x = self.c3_1(x)\n",
        "        x = self.c3_2(x)\n",
        "        x = self.onexonec3_1(x)\n",
        "\n",
        "        # Block 4 (dilated)\n",
        "        x = self.c4(x)\n",
        "        x = self.c5(x)\n",
        "\n",
        "        # Output Block\n",
        "        x = self.gap(x)\n",
        "        x = torch.flatten(x, 1)\n",
        "        x = self.fc(x)\n",
        "        # x = x.view(-1, 10)\n",
        "        return x"
      ]
    },
    {
      "cell_type": "code",
      "execution_count": 32,
      "metadata": {
        "id": "N9gX3ovie_8T"
      },
      "outputs": [],
      "source": [
        "import matplotlib.pyplot as plt\n",
        "\n",
        "\n",
        "def plot_metrics(train_losses, test_losses, train_acc, test_acc):\n",
        "    epochs = range(1, len(train_acc) + 1)\n",
        "\n",
        "    # ----------------------\n",
        "    # Plot Train Loss\n",
        "    # ----------------------\n",
        "    plt.figure(figsize=(8, 5))\n",
        "    plt.plot(epochs, train_losses, 'b-', label='Train Loss')\n",
        "    plt.xlabel('Iteration')\n",
        "    plt.ylabel('Loss')\n",
        "    plt.title('Train Loss')\n",
        "    plt.legend()\n",
        "    plt.grid(True)\n",
        "    plt.show()\n",
        "\n",
        "    # ----------------------\n",
        "    # Plot Test Loss\n",
        "    # ----------------------\n",
        "    plt.figure(figsize=(8, 5))\n",
        "    plt.plot(epochs, test_losses, 'r-', label='Test Loss')\n",
        "    plt.xlabel('Epoch')\n",
        "    plt.ylabel('Loss')\n",
        "    plt.title('Test Loss')\n",
        "    plt.legend()\n",
        "    plt.grid(True)\n",
        "    plt.show()\n",
        "\n",
        "    # ----------------------\n",
        "    # Plot Train Accuracy\n",
        "    # ----------------------\n",
        "    plt.figure(figsize=(8, 5))\n",
        "    plt.plot(epochs, train_acc, 'g-', label='Train Accuracy')\n",
        "    plt.xlabel('Iteration')\n",
        "    plt.ylabel('Accuracy (%)')\n",
        "    plt.title('Train Accuracy')\n",
        "    plt.legend()\n",
        "    plt.grid(True)\n",
        "    plt.show()\n",
        "\n",
        "    # ----------------------\n",
        "    # Plot Test Accuracy\n",
        "    # ----------------------\n",
        "    plt.figure(figsize=(8, 5))\n",
        "    plt.plot(epochs, test_acc, 'm-', label='Test Accuracy')\n",
        "    plt.xlabel('Epoch')\n",
        "    plt.ylabel('Accuracy (%)')\n",
        "    plt.title('Test Accuracy')\n",
        "    plt.legend()\n",
        "    plt.grid(True)\n",
        "    plt.show()"
      ]
    },
    {
      "cell_type": "code",
      "execution_count": 33,
      "metadata": {
        "colab": {
          "base_uri": "https://localhost:8080/",
          "height": 1000
        },
        "id": "IQZSMBEgfCtc",
        "outputId": "dc475c8d-5dc1-4310-da42-0473536f8e26"
      },
      "outputs": [
        {
          "name": "stdout",
          "output_type": "stream",
          "text": [
            "CUDA Available? True\n",
            "Using device: cuda\n",
            "----------------------------------------------------------------\n",
            "        Layer (type)               Output Shape         Param #\n",
            "================================================================\n",
            "            Conv2d-1           [-1, 32, 32, 32]             864\n",
            "       BatchNorm2d-2           [-1, 32, 32, 32]              64\n",
            "              ReLU-3           [-1, 32, 32, 32]               0\n",
            "           Dropout-4           [-1, 32, 32, 32]               0\n",
            "            Conv2d-5           [-1, 64, 16, 16]          18,432\n",
            "       BatchNorm2d-6           [-1, 64, 16, 16]             128\n",
            "              ReLU-7           [-1, 64, 16, 16]               0\n",
            "           Dropout-8           [-1, 64, 16, 16]               0\n",
            "            Conv2d-9           [-1, 32, 16, 16]           2,048\n",
            "      BatchNorm2d-10           [-1, 32, 16, 16]              64\n",
            "             ReLU-11           [-1, 32, 16, 16]               0\n",
            "          Dropout-12           [-1, 32, 16, 16]               0\n",
            "           Conv2d-13           [-1, 64, 16, 16]          18,432\n",
            "      BatchNorm2d-14           [-1, 64, 16, 16]             128\n",
            "             ReLU-15           [-1, 64, 16, 16]               0\n",
            "          Dropout-16           [-1, 64, 16, 16]               0\n",
            "           Conv2d-17             [-1, 64, 8, 8]             576\n",
            "           Conv2d-18             [-1, 32, 8, 8]           2,048\n",
            "      BatchNorm2d-19             [-1, 32, 8, 8]              64\n",
            "             ReLU-20             [-1, 32, 8, 8]               0\n",
            "          Dropout-21             [-1, 32, 8, 8]               0\n",
            "           Conv2d-22             [-1, 32, 8, 8]           9,216\n",
            "      BatchNorm2d-23             [-1, 32, 8, 8]              64\n",
            "             ReLU-24             [-1, 32, 8, 8]               0\n",
            "          Dropout-25             [-1, 32, 8, 8]               0\n",
            "           Conv2d-26             [-1, 64, 8, 8]          18,432\n",
            "      BatchNorm2d-27             [-1, 64, 8, 8]             128\n",
            "             ReLU-28             [-1, 64, 8, 8]               0\n",
            "          Dropout-29             [-1, 64, 8, 8]               0\n",
            "           Conv2d-30             [-1, 32, 8, 8]           2,048\n",
            "      BatchNorm2d-31             [-1, 32, 8, 8]              64\n",
            "             ReLU-32             [-1, 32, 8, 8]               0\n",
            "          Dropout-33             [-1, 32, 8, 8]               0\n",
            "           Conv2d-34             [-1, 64, 8, 8]          18,432\n",
            "      BatchNorm2d-35             [-1, 64, 8, 8]             128\n",
            "             ReLU-36             [-1, 64, 8, 8]               0\n",
            "          Dropout-37             [-1, 64, 8, 8]               0\n",
            "           Conv2d-38             [-1, 64, 6, 6]          36,864\n",
            "      BatchNorm2d-39             [-1, 64, 6, 6]             128\n",
            "             ReLU-40             [-1, 64, 6, 6]               0\n",
            "          Dropout-41             [-1, 64, 6, 6]               0\n",
            "AdaptiveAvgPool2d-42             [-1, 64, 1, 1]               0\n",
            "           Linear-43                   [-1, 10]             650\n",
            "================================================================\n",
            "Total params: 129,002\n",
            "Trainable params: 129,002\n",
            "Non-trainable params: 0\n",
            "----------------------------------------------------------------\n",
            "Input size (MB): 0.01\n",
            "Forward/backward pass size (MB): 2.79\n",
            "Params size (MB): 0.49\n",
            "Estimated Total Size (MB): 3.29\n",
            "----------------------------------------------------------------\n",
            "\n",
            "EPOCH: 1\n"
          ]
        },
        {
          "name": "stderr",
          "output_type": "stream",
          "text": [
            "Epoch=1 Loss=1.8185 Accuracy=23.47: 100%|██████████| 391/391 [00:18<00:00, 21.56it/s]\n"
          ]
        },
        {
          "name": "stdout",
          "output_type": "stream",
          "text": [
            "\n",
            "Test set: Average loss: 0.0145, Accuracy: 3360/10000 (33.60%)\n",
            "\n",
            "found perfect model!!\n",
            "Saved best model (acc=33.60%) to best_model.pth\n",
            "\n",
            "EPOCH: 2\n"
          ]
        },
        {
          "name": "stderr",
          "output_type": "stream",
          "text": [
            "Epoch=2 Loss=1.7539 Accuracy=34.65: 100%|██████████| 391/391 [00:17<00:00, 21.78it/s]\n"
          ]
        },
        {
          "name": "stdout",
          "output_type": "stream",
          "text": [
            "\n",
            "Test set: Average loss: 0.0128, Accuracy: 3950/10000 (39.50%)\n",
            "\n",
            "found perfect model!!\n",
            "Saved best model (acc=39.50%) to best_model.pth\n",
            "\n",
            "EPOCH: 3\n"
          ]
        },
        {
          "name": "stderr",
          "output_type": "stream",
          "text": [
            "Epoch=3 Loss=1.7126 Accuracy=40.01: 100%|██████████| 391/391 [00:18<00:00, 21.47it/s]\n"
          ]
        },
        {
          "name": "stdout",
          "output_type": "stream",
          "text": [
            "\n",
            "Test set: Average loss: 0.0113, Accuracy: 4728/10000 (47.28%)\n",
            "\n",
            "found perfect model!!\n",
            "Saved best model (acc=47.28%) to best_model.pth\n",
            "\n",
            "EPOCH: 4\n"
          ]
        },
        {
          "name": "stderr",
          "output_type": "stream",
          "text": [
            "Epoch=4 Loss=1.4478 Accuracy=45.15: 100%|██████████| 391/391 [00:17<00:00, 21.94it/s]\n"
          ]
        },
        {
          "name": "stdout",
          "output_type": "stream",
          "text": [
            "\n",
            "Test set: Average loss: 0.0106, Accuracy: 5169/10000 (51.69%)\n",
            "\n",
            "found perfect model!!\n",
            "Saved best model (acc=51.69%) to best_model.pth\n",
            "\n",
            "EPOCH: 5\n"
          ]
        },
        {
          "name": "stderr",
          "output_type": "stream",
          "text": [
            "Epoch=5 Loss=1.4349 Accuracy=49.64: 100%|██████████| 391/391 [00:19<00:00, 19.63it/s]\n"
          ]
        },
        {
          "name": "stdout",
          "output_type": "stream",
          "text": [
            "\n",
            "Test set: Average loss: 0.0093, Accuracy: 5757/10000 (57.57%)\n",
            "\n",
            "found perfect model!!\n",
            "Saved best model (acc=57.57%) to best_model.pth\n",
            "\n",
            "EPOCH: 6\n"
          ]
        },
        {
          "name": "stderr",
          "output_type": "stream",
          "text": [
            "Epoch=6 Loss=1.2097 Accuracy=53.31: 100%|██████████| 391/391 [00:20<00:00, 19.23it/s]\n"
          ]
        },
        {
          "name": "stdout",
          "output_type": "stream",
          "text": [
            "\n",
            "Test set: Average loss: 0.0085, Accuracy: 6093/10000 (60.93%)\n",
            "\n",
            "found perfect model!!\n",
            "Saved best model (acc=60.93%) to best_model.pth\n",
            "\n",
            "EPOCH: 7\n"
          ]
        },
        {
          "name": "stderr",
          "output_type": "stream",
          "text": [
            "Epoch=7 Loss=1.3108 Accuracy=55.57: 100%|██████████| 391/391 [00:17<00:00, 22.03it/s]\n"
          ]
        },
        {
          "name": "stdout",
          "output_type": "stream",
          "text": [
            "\n",
            "Test set: Average loss: 0.0081, Accuracy: 6287/10000 (62.87%)\n",
            "\n",
            "found perfect model!!\n",
            "Saved best model (acc=62.87%) to best_model.pth\n",
            "\n",
            "EPOCH: 8\n"
          ]
        },
        {
          "name": "stderr",
          "output_type": "stream",
          "text": [
            "Epoch=8 Loss=1.1589 Accuracy=58.20: 100%|██████████| 391/391 [00:18<00:00, 20.87it/s]\n"
          ]
        },
        {
          "name": "stdout",
          "output_type": "stream",
          "text": [
            "\n",
            "Test set: Average loss: 0.0080, Accuracy: 6343/10000 (63.43%)\n",
            "\n",
            "found perfect model!!\n",
            "Saved best model (acc=63.43%) to best_model.pth\n",
            "\n",
            "EPOCH: 9\n"
          ]
        },
        {
          "name": "stderr",
          "output_type": "stream",
          "text": [
            "Epoch=9 Loss=1.1399 Accuracy=60.61: 100%|██████████| 391/391 [00:17<00:00, 21.74it/s]\n"
          ]
        },
        {
          "name": "stdout",
          "output_type": "stream",
          "text": [
            "\n",
            "Test set: Average loss: 0.0075, Accuracy: 6767/10000 (67.67%)\n",
            "\n",
            "found perfect model!!\n",
            "Saved best model (acc=67.67%) to best_model.pth\n",
            "\n",
            "EPOCH: 10\n"
          ]
        },
        {
          "name": "stderr",
          "output_type": "stream",
          "text": [
            "Epoch=10 Loss=1.1470 Accuracy=62.67: 100%|██████████| 391/391 [00:19<00:00, 20.49it/s]\n"
          ]
        },
        {
          "name": "stdout",
          "output_type": "stream",
          "text": [
            "\n",
            "Test set: Average loss: 0.0067, Accuracy: 7049/10000 (70.49%)\n",
            "\n",
            "found perfect model!!\n",
            "Saved best model (acc=70.49%) to best_model.pth\n",
            "\n",
            "EPOCH: 11\n"
          ]
        },
        {
          "name": "stderr",
          "output_type": "stream",
          "text": [
            "Epoch=11 Loss=0.9997 Accuracy=64.44: 100%|██████████| 391/391 [00:17<00:00, 22.04it/s]\n"
          ]
        },
        {
          "name": "stdout",
          "output_type": "stream",
          "text": [
            "\n",
            "Test set: Average loss: 0.0073, Accuracy: 6777/10000 (67.77%)\n",
            "\n",
            "\n",
            "EPOCH: 12\n"
          ]
        },
        {
          "name": "stderr",
          "output_type": "stream",
          "text": [
            "Epoch=12 Loss=1.0859 Accuracy=66.10: 100%|██████████| 391/391 [00:18<00:00, 21.12it/s]\n"
          ]
        },
        {
          "name": "stdout",
          "output_type": "stream",
          "text": [
            "\n",
            "Test set: Average loss: 0.0061, Accuracy: 7289/10000 (72.89%)\n",
            "\n",
            "found perfect model!!\n",
            "Saved best model (acc=72.89%) to best_model.pth\n",
            "\n",
            "EPOCH: 13\n"
          ]
        },
        {
          "name": "stderr",
          "output_type": "stream",
          "text": [
            "Epoch=13 Loss=0.8804 Accuracy=67.06: 100%|██████████| 391/391 [00:17<00:00, 22.03it/s]\n"
          ]
        },
        {
          "name": "stdout",
          "output_type": "stream",
          "text": [
            "\n",
            "Test set: Average loss: 0.0060, Accuracy: 7326/10000 (73.26%)\n",
            "\n",
            "found perfect model!!\n",
            "Saved best model (acc=73.26%) to best_model.pth\n",
            "\n",
            "EPOCH: 14\n"
          ]
        },
        {
          "name": "stderr",
          "output_type": "stream",
          "text": [
            "Epoch=14 Loss=0.7975 Accuracy=68.13: 100%|██████████| 391/391 [00:17<00:00, 21.82it/s]\n"
          ]
        },
        {
          "name": "stdout",
          "output_type": "stream",
          "text": [
            "\n",
            "Test set: Average loss: 0.0058, Accuracy: 7435/10000 (74.35%)\n",
            "\n",
            "found perfect model!!\n",
            "Saved best model (acc=74.35%) to best_model.pth\n",
            "\n",
            "EPOCH: 15\n"
          ]
        },
        {
          "name": "stderr",
          "output_type": "stream",
          "text": [
            "Epoch=15 Loss=0.8739 Accuracy=68.88: 100%|██████████| 391/391 [00:17<00:00, 21.95it/s]\n"
          ]
        },
        {
          "name": "stdout",
          "output_type": "stream",
          "text": [
            "\n",
            "Test set: Average loss: 0.0058, Accuracy: 7458/10000 (74.58%)\n",
            "\n",
            "found perfect model!!\n",
            "Saved best model (acc=74.58%) to best_model.pth\n",
            "\n",
            "EPOCH: 16\n"
          ]
        },
        {
          "name": "stderr",
          "output_type": "stream",
          "text": [
            "Epoch=16 Loss=0.8388 Accuracy=69.65: 100%|██████████| 391/391 [00:17<00:00, 22.06it/s]\n"
          ]
        },
        {
          "name": "stdout",
          "output_type": "stream",
          "text": [
            "\n",
            "Test set: Average loss: 0.0056, Accuracy: 7604/10000 (76.04%)\n",
            "\n",
            "found perfect model!!\n",
            "Saved best model (acc=76.04%) to best_model.pth\n",
            "\n",
            "EPOCH: 17\n"
          ]
        },
        {
          "name": "stderr",
          "output_type": "stream",
          "text": [
            "Epoch=17 Loss=0.5579 Accuracy=70.69: 100%|██████████| 391/391 [00:17<00:00, 22.07it/s]\n"
          ]
        },
        {
          "name": "stdout",
          "output_type": "stream",
          "text": [
            "\n",
            "Test set: Average loss: 0.0054, Accuracy: 7655/10000 (76.55%)\n",
            "\n",
            "found perfect model!!\n",
            "Saved best model (acc=76.55%) to best_model.pth\n",
            "\n",
            "EPOCH: 18\n"
          ]
        },
        {
          "name": "stderr",
          "output_type": "stream",
          "text": [
            "Epoch=18 Loss=0.8518 Accuracy=71.37: 100%|██████████| 391/391 [00:17<00:00, 22.17it/s]\n"
          ]
        },
        {
          "name": "stdout",
          "output_type": "stream",
          "text": [
            "\n",
            "Test set: Average loss: 0.0050, Accuracy: 7764/10000 (77.64%)\n",
            "\n",
            "found perfect model!!\n",
            "Saved best model (acc=77.64%) to best_model.pth\n",
            "\n",
            "EPOCH: 19\n"
          ]
        },
        {
          "name": "stderr",
          "output_type": "stream",
          "text": [
            "Epoch=19 Loss=0.9665 Accuracy=71.99: 100%|██████████| 391/391 [00:18<00:00, 21.48it/s]\n"
          ]
        },
        {
          "name": "stdout",
          "output_type": "stream",
          "text": [
            "\n",
            "Test set: Average loss: 0.0054, Accuracy: 7636/10000 (76.36%)\n",
            "\n",
            "\n",
            "EPOCH: 20\n"
          ]
        },
        {
          "name": "stderr",
          "output_type": "stream",
          "text": [
            "Epoch=20 Loss=0.7090 Accuracy=72.54: 100%|██████████| 391/391 [00:17<00:00, 22.10it/s]\n"
          ]
        },
        {
          "name": "stdout",
          "output_type": "stream",
          "text": [
            "\n",
            "Test set: Average loss: 0.0046, Accuracy: 7971/10000 (79.71%)\n",
            "\n",
            "found perfect model!!\n",
            "Saved best model (acc=79.71%) to best_model.pth\n",
            "\n",
            "EPOCH: 21\n"
          ]
        },
        {
          "name": "stderr",
          "output_type": "stream",
          "text": [
            "Epoch=21 Loss=0.7289 Accuracy=73.23: 100%|██████████| 391/391 [00:18<00:00, 21.01it/s]\n"
          ]
        },
        {
          "name": "stdout",
          "output_type": "stream",
          "text": [
            "\n",
            "Test set: Average loss: 0.0049, Accuracy: 7878/10000 (78.78%)\n",
            "\n",
            "\n",
            "EPOCH: 22\n"
          ]
        },
        {
          "name": "stderr",
          "output_type": "stream",
          "text": [
            "Epoch=22 Loss=0.6262 Accuracy=73.26: 100%|██████████| 391/391 [00:17<00:00, 22.28it/s]\n"
          ]
        },
        {
          "name": "stdout",
          "output_type": "stream",
          "text": [
            "\n",
            "Test set: Average loss: 0.0045, Accuracy: 8036/10000 (80.36%)\n",
            "\n",
            "found perfect model!!\n",
            "Saved best model (acc=80.36%) to best_model.pth\n",
            "\n",
            "EPOCH: 23\n"
          ]
        },
        {
          "name": "stderr",
          "output_type": "stream",
          "text": [
            "Epoch=23 Loss=0.8551 Accuracy=73.72: 100%|██████████| 391/391 [00:18<00:00, 20.90it/s]\n"
          ]
        },
        {
          "name": "stdout",
          "output_type": "stream",
          "text": [
            "\n",
            "Test set: Average loss: 0.0046, Accuracy: 7966/10000 (79.66%)\n",
            "\n",
            "\n",
            "EPOCH: 24\n"
          ]
        },
        {
          "name": "stderr",
          "output_type": "stream",
          "text": [
            "Epoch=24 Loss=0.9880 Accuracy=74.48: 100%|██████████| 391/391 [00:17<00:00, 22.19it/s]\n"
          ]
        },
        {
          "name": "stdout",
          "output_type": "stream",
          "text": [
            "\n",
            "Test set: Average loss: 0.0050, Accuracy: 7868/10000 (78.68%)\n",
            "\n",
            "\n",
            "EPOCH: 25\n"
          ]
        },
        {
          "name": "stderr",
          "output_type": "stream",
          "text": [
            "Epoch=25 Loss=0.7037 Accuracy=74.69: 100%|██████████| 391/391 [00:18<00:00, 20.79it/s]\n"
          ]
        },
        {
          "name": "stdout",
          "output_type": "stream",
          "text": [
            "\n",
            "Test set: Average loss: 0.0046, Accuracy: 7949/10000 (79.49%)\n",
            "\n",
            "\n",
            "EPOCH: 26\n"
          ]
        },
        {
          "name": "stderr",
          "output_type": "stream",
          "text": [
            "Epoch=26 Loss=0.7717 Accuracy=75.06: 100%|██████████| 391/391 [00:18<00:00, 21.71it/s]\n"
          ]
        },
        {
          "name": "stdout",
          "output_type": "stream",
          "text": [
            "\n",
            "Test set: Average loss: 0.0045, Accuracy: 8040/10000 (80.40%)\n",
            "\n",
            "found perfect model!!\n",
            "Saved best model (acc=80.40%) to best_model.pth\n",
            "\n",
            "EPOCH: 27\n"
          ]
        },
        {
          "name": "stderr",
          "output_type": "stream",
          "text": [
            "Epoch=27 Loss=0.8062 Accuracy=75.44: 100%|██████████| 391/391 [00:19<00:00, 20.57it/s]\n"
          ]
        },
        {
          "name": "stdout",
          "output_type": "stream",
          "text": [
            "\n",
            "Test set: Average loss: 0.0042, Accuracy: 8200/10000 (82.00%)\n",
            "\n",
            "found perfect model!!\n",
            "Saved best model (acc=82.00%) to best_model.pth\n",
            "\n",
            "EPOCH: 28\n"
          ]
        },
        {
          "name": "stderr",
          "output_type": "stream",
          "text": [
            "Epoch=28 Loss=0.6859 Accuracy=75.49: 100%|██████████| 391/391 [00:17<00:00, 21.73it/s]\n"
          ]
        },
        {
          "name": "stdout",
          "output_type": "stream",
          "text": [
            "\n",
            "Test set: Average loss: 0.0041, Accuracy: 8215/10000 (82.15%)\n",
            "\n",
            "found perfect model!!\n",
            "Saved best model (acc=82.15%) to best_model.pth\n",
            "\n",
            "EPOCH: 29\n"
          ]
        },
        {
          "name": "stderr",
          "output_type": "stream",
          "text": [
            "Epoch=29 Loss=0.6524 Accuracy=76.00: 100%|██████████| 391/391 [00:19<00:00, 20.57it/s]\n"
          ]
        },
        {
          "name": "stdout",
          "output_type": "stream",
          "text": [
            "\n",
            "Test set: Average loss: 0.0041, Accuracy: 8203/10000 (82.03%)\n",
            "\n",
            "\n",
            "EPOCH: 30\n"
          ]
        },
        {
          "name": "stderr",
          "output_type": "stream",
          "text": [
            "Epoch=30 Loss=0.6700 Accuracy=76.32: 100%|██████████| 391/391 [00:18<00:00, 21.72it/s]\n"
          ]
        },
        {
          "name": "stdout",
          "output_type": "stream",
          "text": [
            "\n",
            "Test set: Average loss: 0.0042, Accuracy: 8197/10000 (81.97%)\n",
            "\n",
            "\n",
            "EPOCH: 31\n"
          ]
        },
        {
          "name": "stderr",
          "output_type": "stream",
          "text": [
            "Epoch=31 Loss=0.5504 Accuracy=76.46: 100%|██████████| 391/391 [00:18<00:00, 20.60it/s]\n"
          ]
        },
        {
          "name": "stdout",
          "output_type": "stream",
          "text": [
            "\n",
            "Test set: Average loss: 0.0039, Accuracy: 8314/10000 (83.14%)\n",
            "\n",
            "found perfect model!!\n",
            "Saved best model (acc=83.14%) to best_model.pth\n",
            "\n",
            "EPOCH: 32\n"
          ]
        },
        {
          "name": "stderr",
          "output_type": "stream",
          "text": [
            "Epoch=32 Loss=0.7393 Accuracy=76.63: 100%|██████████| 391/391 [00:17<00:00, 21.79it/s]\n"
          ]
        },
        {
          "name": "stdout",
          "output_type": "stream",
          "text": [
            "\n",
            "Test set: Average loss: 0.0039, Accuracy: 8333/10000 (83.33%)\n",
            "\n",
            "found perfect model!!\n",
            "Saved best model (acc=83.33%) to best_model.pth\n",
            "\n",
            "EPOCH: 33\n"
          ]
        },
        {
          "name": "stderr",
          "output_type": "stream",
          "text": [
            "Epoch=33 Loss=0.7766 Accuracy=76.82: 100%|██████████| 391/391 [00:18<00:00, 20.82it/s]\n"
          ]
        },
        {
          "name": "stdout",
          "output_type": "stream",
          "text": [
            "\n",
            "Test set: Average loss: 0.0038, Accuracy: 8339/10000 (83.39%)\n",
            "\n",
            "found perfect model!!\n",
            "Saved best model (acc=83.39%) to best_model.pth\n",
            "\n",
            "EPOCH: 34\n"
          ]
        },
        {
          "name": "stderr",
          "output_type": "stream",
          "text": [
            "Epoch=34 Loss=0.5307 Accuracy=77.06: 100%|██████████| 391/391 [00:18<00:00, 20.80it/s]\n"
          ]
        },
        {
          "name": "stdout",
          "output_type": "stream",
          "text": [
            "\n",
            "Test set: Average loss: 0.0038, Accuracy: 8351/10000 (83.51%)\n",
            "\n",
            "found perfect model!!\n",
            "Saved best model (acc=83.51%) to best_model.pth\n",
            "\n",
            "EPOCH: 35\n"
          ]
        },
        {
          "name": "stderr",
          "output_type": "stream",
          "text": [
            "Epoch=35 Loss=0.6574 Accuracy=77.28: 100%|██████████| 391/391 [00:19<00:00, 19.97it/s]\n"
          ]
        },
        {
          "name": "stdout",
          "output_type": "stream",
          "text": [
            "\n",
            "Test set: Average loss: 0.0038, Accuracy: 8411/10000 (84.11%)\n",
            "\n",
            "found perfect model!!\n",
            "Saved best model (acc=84.11%) to best_model.pth\n",
            "\n",
            "EPOCH: 36\n"
          ]
        },
        {
          "name": "stderr",
          "output_type": "stream",
          "text": [
            "Epoch=36 Loss=0.5667 Accuracy=77.77: 100%|██████████| 391/391 [00:18<00:00, 21.44it/s]\n"
          ]
        },
        {
          "name": "stdout",
          "output_type": "stream",
          "text": [
            "\n",
            "Test set: Average loss: 0.0037, Accuracy: 8382/10000 (83.82%)\n",
            "\n",
            "\n",
            "EPOCH: 37\n"
          ]
        },
        {
          "name": "stderr",
          "output_type": "stream",
          "text": [
            "Epoch=37 Loss=0.7300 Accuracy=77.75: 100%|██████████| 391/391 [00:19<00:00, 20.25it/s]\n"
          ]
        },
        {
          "name": "stdout",
          "output_type": "stream",
          "text": [
            "\n",
            "Test set: Average loss: 0.0037, Accuracy: 8349/10000 (83.49%)\n",
            "\n",
            "\n",
            "EPOCH: 38\n"
          ]
        },
        {
          "name": "stderr",
          "output_type": "stream",
          "text": [
            "Epoch=38 Loss=0.6499 Accuracy=78.19: 100%|██████████| 391/391 [00:17<00:00, 21.88it/s]\n"
          ]
        },
        {
          "name": "stdout",
          "output_type": "stream",
          "text": [
            "\n",
            "Test set: Average loss: 0.0036, Accuracy: 8438/10000 (84.38%)\n",
            "\n",
            "found perfect model!!\n",
            "Saved best model (acc=84.38%) to best_model.pth\n",
            "\n",
            "EPOCH: 39\n"
          ]
        },
        {
          "name": "stderr",
          "output_type": "stream",
          "text": [
            "Epoch=39 Loss=0.5336 Accuracy=78.12: 100%|██████████| 391/391 [00:19<00:00, 20.55it/s]\n"
          ]
        },
        {
          "name": "stdout",
          "output_type": "stream",
          "text": [
            "\n",
            "Test set: Average loss: 0.0036, Accuracy: 8389/10000 (83.89%)\n",
            "\n",
            "\n",
            "EPOCH: 40\n"
          ]
        },
        {
          "name": "stderr",
          "output_type": "stream",
          "text": [
            "Epoch=40 Loss=0.9643 Accuracy=78.87: 100%|██████████| 391/391 [00:18<00:00, 21.68it/s]\n"
          ]
        },
        {
          "name": "stdout",
          "output_type": "stream",
          "text": [
            "\n",
            "Test set: Average loss: 0.0035, Accuracy: 8437/10000 (84.37%)\n",
            "\n",
            "\n",
            "EPOCH: 41\n"
          ]
        },
        {
          "name": "stderr",
          "output_type": "stream",
          "text": [
            "Epoch=41 Loss=0.7252 Accuracy=78.62: 100%|██████████| 391/391 [00:18<00:00, 21.13it/s]\n"
          ]
        },
        {
          "name": "stdout",
          "output_type": "stream",
          "text": [
            "\n",
            "Test set: Average loss: 0.0035, Accuracy: 8461/10000 (84.61%)\n",
            "\n",
            "found perfect model!!\n",
            "Saved best model (acc=84.61%) to best_model.pth\n",
            "\n",
            "EPOCH: 42\n"
          ]
        },
        {
          "name": "stderr",
          "output_type": "stream",
          "text": [
            "Epoch=42 Loss=0.6415 Accuracy=78.78: 100%|██████████| 391/391 [00:18<00:00, 21.62it/s]\n"
          ]
        },
        {
          "name": "stdout",
          "output_type": "stream",
          "text": [
            "\n",
            "Test set: Average loss: 0.0035, Accuracy: 8510/10000 (85.10%)\n",
            "\n",
            "found perfect model!!\n",
            "Saved best model (acc=85.10%) to best_model.pth\n",
            "-----------------------------------------\n",
            "train accuracies 42 [23.466, 34.648, 40.01, 45.146, 49.642, 53.306, 55.574, 58.204, 60.612, 62.67, 64.438, 66.1, 67.058, 68.132, 68.878, 69.646, 70.69, 71.37, 71.988, 72.536, 73.23, 73.256, 73.716, 74.476, 74.694, 75.056, 75.436, 75.49, 76.004, 76.32, 76.464, 76.626, 76.824, 77.058, 77.282, 77.772, 77.754, 78.186, 78.118, 78.866, 78.616, 78.776]\n",
            "train losses 42 [811.7341247797012, 708.0607417821884, 643.3384265899658, 588.1413350105286, 544.1315767765045, 508.1822839975357, 478.8545066714287, 453.2514132261276, 430.3270736336708, 408.7904758453369, 391.4765716791153, 374.9022520184517, 363.42808598279953, 352.7088711261749, 343.12670636177063, 334.29153698682785, 323.9599035382271, 317.978025496006, 311.11944395303726, 306.0806405544281, 299.45538330078125, 295.75309067964554, 291.48023506999016, 284.8590475320816, 282.03873911499977, 278.82686480879784, 273.64435225725174, 272.2260312438011, 267.7214274406433, 266.1333122551441, 261.84562388062477, 260.7482548058033, 258.3166093528271, 254.64855986833572, 251.99046766757965, 248.1444299519062, 248.48404368758202, 245.0977889597416, 242.64232268929482, 238.94802221655846, 237.280565649271, 236.36740976572037]\n",
            "-----------------------------------------\n",
            "-----------------------------------------\n",
            "test accuracies 42 [33.6, 39.5, 47.28, 51.69, 57.57, 60.93, 62.87, 63.43, 67.67, 70.49, 67.77, 72.89, 73.26, 74.35, 74.58, 76.04, 76.55, 77.64, 76.36, 79.71, 78.78, 80.36, 79.66, 78.68, 79.49, 80.4, 82.0, 82.15, 82.03, 81.97, 83.14, 83.33, 83.39, 83.51, 84.11, 83.82, 83.49, 84.38, 83.89, 84.37, 84.61, 85.1]\n",
            "test losses 42 [0.014497841262817383, 0.012799469375610351, 0.011306432271003723, 0.010552206444740295, 0.00926700844168663, 0.008522656953334809, 0.008104080694913864, 0.008008793973922729, 0.007545940285921097, 0.0066553507745265965, 0.007280624932050705, 0.006087557727098465, 0.006047028595209122, 0.00583270942568779, 0.005772025448083877, 0.00555581406056881, 0.005366241014003754, 0.005018373741209507, 0.005357472997903824, 0.00458555933535099, 0.004889444163441658, 0.0044974634289741515, 0.004633860379457474, 0.004995392715930939, 0.00463679621219635, 0.004495777612924576, 0.004158279275894165, 0.004092688393592834, 0.0041051896899938585, 0.0042267516493797305, 0.0038905352234840395, 0.0038666113883256913, 0.003769310796260834, 0.003759913295507431, 0.003782543855905533, 0.0036786371052265165, 0.0036913639672100543, 0.0036157462179660796, 0.003624382737278938, 0.0035474677890539167, 0.003506840654462576, 0.003509049916267395]\n",
            "-----------------------------------------\n"
          ]
        },
        {
          "data": {
            "image/png": "[encoded data removed]",
            "text/plain": [
              "<Figure size 800x500 with 1 Axes>"
            ]
          },
          "metadata": {},
          "output_type": "display_data"
        },
        {
          "data": {
            "image/png": "[encoded data removed]",
            "text/plain": [
              "<Figure size 800x500 with 1 Axes>"
            ]
          },
          "metadata": {},
          "output_type": "display_data"
        },
        {
          "data": {
            "image/png": "[encoded data removed]",
            "text/plain": [
              "<Figure size 800x500 with 1 Axes>"
            ]
          },
          "metadata": {},
          "output_type": "display_data"
        },
        {
          "data": {
            "image/png": "[encoded data removed]",
            "text/plain": [
              "<Figure size 800x500 with 1 Axes>"
            ]
          },
          "metadata": {},
          "output_type": "display_data"
        }
      ],
      "source": [
        "import torch\n",
        "import torch.nn.functional as F\n",
        "import torch.optim as optim\n",
        "import torch.nn as nn\n",
        "from torchvision import datasets, transforms\n",
        "from tqdm import tqdm\n",
        "from torchsummary import summary\n",
        "from torch.optim.lr_scheduler import StepLR\n",
        "import albumentations as A\n",
        "from albumentations.pytorch import ToTensorV2\n",
        "from torch.optim.lr_scheduler import OneCycleLR\n",
        "# from models import Model1\n",
        "# from utils import plot_metrics\n",
        "\n",
        "\n",
        "def train(model, device, train_loader, optimizer, scheduler, criterion, epoch, train_losses, train_acc):\n",
        "    model.train()\n",
        "    pbar = tqdm(train_loader)\n",
        "    correct = 0\n",
        "    processed = 0\n",
        "    train_loss = 0\n",
        "    for batch_idx, (data, target) in enumerate(pbar):\n",
        "        data, target = data.to(device), target.to(device)\n",
        "        optimizer.zero_grad()\n",
        "        y_pred = model(data)\n",
        "        loss = criterion(y_pred, target)   # expects log_softmax in model forward\n",
        "        train_loss += loss.item()\n",
        "        loss.backward()\n",
        "        optimizer.step()\n",
        "        scheduler.step()\n",
        "        # if batch_idx > 5:\n",
        "        #     break\n",
        "        pred = y_pred.argmax(dim=1, keepdim=True)\n",
        "        correct += pred.eq(target.view_as(pred)).sum().item()\n",
        "        processed += len(data)\n",
        "        acc = 100. * correct / processed\n",
        "        pbar.set_description(desc=f'Epoch={epoch} Loss={loss.item():.4f} Accuracy={acc:0.2f}')\n",
        "        #train_acc.append(acc)\n",
        "    train_losses.append(train_loss)\n",
        "    acc = 100. * correct / len(train_loader.dataset)\n",
        "    train_acc.append(acc)\n",
        "\n",
        "\n",
        "def test(model, device, test_loader, criterion, test_losses, test_acc):\n",
        "    model.eval()\n",
        "    test_loss = 0\n",
        "    correct = 0\n",
        "    with torch.no_grad():\n",
        "        for data, target in test_loader:\n",
        "            data, target = data.to(device), target.to(device)\n",
        "            output = model(data)\n",
        "            test_loss += criterion(output, target).item()\n",
        "            pred = output.argmax(dim=1, keepdim=True)\n",
        "            correct += pred.eq(target.view_as(pred)).sum().item()\n",
        "    test_loss /= len(test_loader.dataset)\n",
        "    acc = 100. * correct / len(test_loader.dataset)\n",
        "    test_losses.append(test_loss)\n",
        "    test_acc.append(acc)\n",
        "    print(f'\\nTest set: Average loss: {test_loss:.4f}, Accuracy: {correct}/{len(test_loader.dataset)} ({acc:.2f}%)\\n')\n",
        "    return acc\n",
        "\n",
        "def get_data_loaders():\n",
        "    # CIFAR-10 mean and std\n",
        "    CIFAR10_MEAN = (0.4914, 0.4822, 0.4465)\n",
        "    CIFAR10_STD  = (0.2470, 0.2435, 0.2616)\n",
        "\n",
        "\n",
        "    fill_value_pixels = tuple(int(m * 255) for m in CIFAR10_MEAN)\n",
        "\n",
        "    train_alb = A.Compose([\n",
        "        A.HorizontalFlip(p=0.5),\n",
        "         A.Affine(\n",
        "            translate_percent={\"x\": 0.0625, \"y\": 0.0625},  # shift\n",
        "            scale=(0.9, 1.1),                               # scale\n",
        "            rotate=(-15, 15),                               # rotation\n",
        "            p=0.5\n",
        "        ),\n",
        "        A.CoarseDropout(\n",
        "            num_holes_range=(1, 1),\n",
        "            hole_height_range=(16, 16),\n",
        "            hole_width_range=(16, 16),\n",
        "            fill=fill_value_pixels,\n",
        "            fill_mask=None,\n",
        "            p=0.5\n",
        "        ),\n",
        "        A.Normalize(mean=CIFAR10_MEAN, std=CIFAR10_STD),\n",
        "        ToTensorV2(),\n",
        "    ])\n",
        "\n",
        "    val_alb = A.Compose([\n",
        "        A.Normalize(mean=CIFAR10_MEAN, std=CIFAR10_STD),\n",
        "        ToTensorV2(),\n",
        "    ])\n",
        "\n",
        "    class AlbCIFAR10(datasets.CIFAR10):\n",
        "        def __init__(self, root, train=True, transform=None, download=False):\n",
        "            super().__init__(root=root, train=train, download=download)\n",
        "            self.alb_transform = transform\n",
        "\n",
        "        def __getitem__(self, index):\n",
        "            img, target = self.data[index], int(self.targets[index])\n",
        "            # img is HxWxC numpy (uint8)\n",
        "            if self.alb_transform:\n",
        "                augmented = self.alb_transform(image=img)\n",
        "                img = augmented[\"image\"]\n",
        "            else:\n",
        "                # fallback: convert to tensor and normalize\n",
        "                img = transforms.ToTensor()(img)\n",
        "            return img, target\n",
        "\n",
        "\n",
        "\n",
        "    # train_transforms = transforms.Compose([\n",
        "    #     transforms.RandomHorizontalFlip(),\n",
        "    #     transforms.RandomAffine(degrees=10, translate=(0.1, 0.1), scale=(0.9, 1.1)),\n",
        "    #     transforms.ToTensor(),\n",
        "    #     transforms.Normalize(mean, std)\n",
        "    # ])\n",
        "\n",
        "    # test_transforms = transforms.Compose([\n",
        "    #     transforms.ToTensor(),\n",
        "    #     transforms.Normalize(mean, std)\n",
        "    # ])\n",
        "\n",
        "    # train = datasets.CIFAR10('./data', train=True, download=True, transform=train_transforms)\n",
        "    # test = datasets.CIFAR10('./data', train=False, download=True, transform=test_transforms)\n",
        "\n",
        "    train = AlbCIFAR10(root='./data', train=True, transform=train_alb, download=True)\n",
        "    test   = AlbCIFAR10(root='./data', train=False, transform=val_alb, download=True)\n",
        "\n",
        "    SEED = 1\n",
        "    cuda = torch.cuda.is_available()\n",
        "    print(\"CUDA Available?\", cuda)\n",
        "    torch.manual_seed(SEED)\n",
        "    if cuda:\n",
        "        torch.cuda.manual_seed(SEED)\n",
        "\n",
        "    dataloader_args = dict(shuffle=True, batch_size=128, num_workers=4, pin_memory=True) if cuda \\\n",
        "                      else dict(shuffle=True, batch_size=64)\n",
        "    train_loader = torch.utils.data.DataLoader(train, **dataloader_args)\n",
        "    test_loader = torch.utils.data.DataLoader(test, **dataloader_args)\n",
        "    return train_loader, test_loader, cuda\n",
        "\n",
        "def perform_training():\n",
        "    train_loader, test_loader, use_cuda = get_data_loaders()\n",
        "    device = torch.device(\"cuda\" if use_cuda else \"cpu\")\n",
        "    print(\"Using device:\", device)\n",
        "\n",
        "    number_of_classes = 10\n",
        "    model = Model1(number_of_classes).to(device)\n",
        "    summary(model, input_size=(3, 32, 32))  # CIFAR-10 input size\n",
        "\n",
        "    # return\n",
        "    #optimizer = optim.SGD(model.parameters(), lr=0.02, momentum=0.9)\n",
        "    # optimizer = torch.optim.Adam(model.parameters(), lr=1e-4, weight_decay=1e-4)\n",
        "\n",
        "    # scheduler = StepLR(optimizer, step_size=20, gamma=0.1)\n",
        "\n",
        "    criterion = nn.CrossEntropyLoss()\n",
        "    optimizer = optim.Adam(model.parameters(), lr=1e-3, weight_decay=1e-4)\n",
        "    EPOCHS = 80\n",
        "    scheduler = OneCycleLR(\n",
        "        optimizer,\n",
        "        max_lr=1e-3,\n",
        "        steps_per_epoch=len(train_loader),\n",
        "\n",
        "        epochs=EPOCHS,\n",
        "        pct_start=0.2,\n",
        "        anneal_strategy=\"cos\",\n",
        "    )\n",
        "\n",
        "    EPOCHS = 100\n",
        "    SAVE_PATH = \"best_model.pth\"\n",
        "\n",
        "    train_losses, test_losses, train_acc, test_acc = [], [], [], []\n",
        "    best_val_acc = 0.0\n",
        "\n",
        "    for epoch in range(1, EPOCHS + 1):\n",
        "        print(f\"\\nEPOCH: {epoch}\")\n",
        "        train(model, device, train_loader, optimizer, scheduler, criterion, epoch, train_losses, train_acc)\n",
        "        current_test_acc = test(model, device, test_loader, criterion, test_losses, test_acc)\n",
        "        if current_test_acc >= best_val_acc:\n",
        "            print(\"found perfect model!!\")\n",
        "            best_val_acc = current_test_acc\n",
        "            torch.save({\n",
        "                \"epoch\": epoch,\n",
        "                \"model_state\": model.state_dict(),\n",
        "                \"optimizer_state\": optimizer.state_dict(),\n",
        "                \"val_acc\": current_test_acc,\n",
        "            }, SAVE_PATH)\n",
        "            print(f\"Saved best model (acc={best_val_acc:.2f}%) to {SAVE_PATH}\")\n",
        "            if best_val_acc >= 85.0:\n",
        "                break\n",
        "\n",
        "    print(\"-----------------------------------------\")\n",
        "    print(\"train accuracies\", len(train_acc), train_acc)\n",
        "    print(\"train losses\", len(train_losses), train_losses)\n",
        "    print(\"-----------------------------------------\")\n",
        "    print(\"-----------------------------------------\")\n",
        "    print(\"test accuracies\", len(test_acc), test_acc)\n",
        "    print(\"test losses\", len(test_losses), test_losses)\n",
        "    print(\"-----------------------------------------\")\n",
        "    plot_metrics(train_losses, test_losses, train_acc, test_acc)\n",
        "\n",
        "if __name__ == '__main__':\n",
        "    perform_training()"
      ]
    },
    {
      "cell_type": "code",
      "execution_count": 33,
      "metadata": {
        "id": "fUEC6SpKgj3F"
      },
      "outputs": [],
      "source": []
    }
  ],
  "metadata": {
    "accelerator": "GPU",
    "colab": {
      "gpuType": "T4",
      "provenance": []
    },
    "kernelspec": {
      "display_name": "cnn",
      "language": "python",
      "name": "python3"
    },
    "language_info": {
      "name": "python",
      "version": "3.13.3"
    }
  },
  "nbformat": 4,
  "nbformat_minor": 0
}
