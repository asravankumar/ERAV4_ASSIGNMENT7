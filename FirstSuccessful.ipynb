{
  "cells": [
    {
      "cell_type": "code",
      "execution_count": 14,
      "metadata": {
        "id": "aS8eO1kBd1ls"
      },
      "outputs": [],
      "source": [
        "import torch\n",
        "import torch.nn as nn\n",
        "import torch.nn.functional as F\n",
        "\n",
        "\n",
        "dropout_value = 0.1\n",
        "\n",
        "def conv_bn_act(in_ch, out_ch, kernel=3, stride=1, padding=1, dilation=1, dropout_p=0.05):\n",
        "    return nn.Sequential(\n",
        "        nn.Conv2d(in_ch, out_ch, kernel_size=kernel, stride=stride,\n",
        "                  padding=padding, dilation=dilation, bias=False),\n",
        "        nn.BatchNorm2d(out_ch),\n",
        "        nn.ReLU(inplace=True),\n",
        "        nn.Dropout(dropout_p)\n",
        "    )\n",
        "\n",
        "def dws_bn_act(in_ch, out_ch, kernel_size=3, stride=1, padding=1, dilation=1,dropout_p=0.05):\n",
        "    return nn.Sequential(\n",
        "        nn.Conv2d(in_ch, in_ch, kernel_size=kernel_size, stride=stride,\n",
        "                            padding=padding, dilation=dilation, groups=in_ch, bias=False),\n",
        "        nn.Conv2d(in_ch, out_ch, kernel_size=1, stride=1, padding=0, bias=False),\n",
        "        nn.BatchNorm2d(out_ch),\n",
        "        nn.ReLU(inplace=True),\n",
        "        nn.Dropout(dropout_p)\n",
        "    )\n",
        "\n",
        "class Model1(nn.Module):\n",
        "    def __init__(self, num_classes):\n",
        "        super(Model1, self).__init__()\n",
        "\n",
        "        # CONVOLUTION BLOCK 1\n",
        "        self.c1_1 = conv_bn_act(3, 32, kernel=3, stride=1, padding=1, dilation=1)\n",
        "        self.c1_2 = conv_bn_act(32, 64, kernel=3, stride=2, padding=1, dilation=1)\n",
        "        self.onexonec1_1 = conv_bn_act(64, 32, kernel=1, stride=1, padding=0, dilation=1)\n",
        "\n",
        "        # CONVOLUTION BLOCK 2\n",
        "        self.c2_1 = dws_bn_act(32, 64, kernel_size=3, stride=1, padding=1, dilation=1)\n",
        "        self.c2_2 = dws_bn_act(64, 64, kernel_size=3, stride=2, padding=1, dilation=1)\n",
        "        self.onexonec2_1 = conv_bn_act(64, 32, kernel=1, stride=1, padding=0, dilation=1)\n",
        "\n",
        "        # CONVOLUTION BLOCK 3\n",
        "        self.c3_1 = conv_bn_act(32, 64, kernel=3, stride=1, padding=1, dilation=1)\n",
        "        self.c3_2 = conv_bn_act(64, 128, kernel=3, stride=2, padding=1, dilation=1)\n",
        "        self.onexonec3_1 = conv_bn_act(128, 32, kernel=1, stride=1, padding=0, dilation=1)\n",
        "\n",
        "        # CONVOLUTION BLOCK 4\n",
        "        self.c4 = conv_bn_act(32, 64, kernel=3, stride=1, padding=2, dilation=1)\n",
        "        self.c5 = conv_bn_act(64, 64, kernel=3, stride=2, padding=2, dilation=2)\n",
        "\n",
        "        # OUTPUT BLOCK\n",
        "        self.gap = nn.AdaptiveAvgPool2d(1)\n",
        "        self.fc = nn.Linear(64, num_classes)\n",
        "\n",
        "\n",
        "    def forward(self, x):\n",
        "        # Block 1\n",
        "        x = self.c1_1(x)\n",
        "        x = self.c1_2(x)\n",
        "        x = self.onexonec1_1(x)\n",
        "\n",
        "        # Block 2\n",
        "        x = self.c2_1(x)\n",
        "        x = self.c2_2(x)\n",
        "        x = self.onexonec2_1(x)\n",
        "\n",
        "        # Block 3\n",
        "        x = self.c3_1(x)\n",
        "        x = self.c3_2(x)\n",
        "        x = self.onexonec3_1(x)\n",
        "\n",
        "        # Block 4 (dilated)\n",
        "        x = self.c4(x)\n",
        "        x = self.c5(x)\n",
        "\n",
        "        # Output Block\n",
        "        x = self.gap(x)\n",
        "        x = torch.flatten(x, 1)\n",
        "        x = self.fc(x)\n",
        "        # x = x.view(-1, 10)\n",
        "        return x"
      ]
    },
    {
      "cell_type": "code",
      "execution_count": 15,
      "metadata": {
        "id": "N9gX3ovie_8T"
      },
      "outputs": [],
      "source": [
        "import matplotlib.pyplot as plt\n",
        "\n",
        "\n",
        "def plot_metrics(train_losses, test_losses, train_acc, test_acc):\n",
        "    epochs = range(1, len(train_acc) + 1)\n",
        "\n",
        "    # ----------------------\n",
        "    # Plot Train Loss\n",
        "    # ----------------------\n",
        "    plt.figure(figsize=(8, 5))\n",
        "    plt.plot(epochs, train_losses, 'b-', label='Train Loss')\n",
        "    plt.xlabel('Iteration')\n",
        "    plt.ylabel('Loss')\n",
        "    plt.title('Train Loss')\n",
        "    plt.legend()\n",
        "    plt.grid(True)\n",
        "    plt.show()\n",
        "\n",
        "    # ----------------------\n",
        "    # Plot Test Loss\n",
        "    # ----------------------\n",
        "    plt.figure(figsize=(8, 5))\n",
        "    plt.plot(epochs, test_losses, 'r-', label='Test Loss')\n",
        "    plt.xlabel('Epoch')\n",
        "    plt.ylabel('Loss')\n",
        "    plt.title('Test Loss')\n",
        "    plt.legend()\n",
        "    plt.grid(True)\n",
        "    plt.show()\n",
        "\n",
        "    # ----------------------\n",
        "    # Plot Train Accuracy\n",
        "    # ----------------------\n",
        "    plt.figure(figsize=(8, 5))\n",
        "    plt.plot(epochs, train_acc, 'g-', label='Train Accuracy')\n",
        "    plt.xlabel('Iteration')\n",
        "    plt.ylabel('Accuracy (%)')\n",
        "    plt.title('Train Accuracy')\n",
        "    plt.legend()\n",
        "    plt.grid(True)\n",
        "    plt.show()\n",
        "\n",
        "    # ----------------------\n",
        "    # Plot Test Accuracy\n",
        "    # ----------------------\n",
        "    plt.figure(figsize=(8, 5))\n",
        "    plt.plot(epochs, test_acc, 'm-', label='Test Accuracy')\n",
        "    plt.xlabel('Epoch')\n",
        "    plt.ylabel('Accuracy (%)')\n",
        "    plt.title('Test Accuracy')\n",
        "    plt.legend()\n",
        "    plt.grid(True)\n",
        "    plt.show()"
      ]
    },
    {
      "cell_type": "code",
      "execution_count": 16,
      "metadata": {
        "colab": {
          "base_uri": "https://localhost:8080/",
          "height": 1000
        },
        "id": "IQZSMBEgfCtc",
        "outputId": "24d6d056-31db-42d6-d2df-9c554cc20281"
      },
      "outputs": [
        {
          "name": "stdout",
          "output_type": "stream",
          "text": [
            "CUDA Available? True\n",
            "Using device: cuda\n",
            "----------------------------------------------------------------\n",
            "        Layer (type)               Output Shape         Param #\n",
            "================================================================\n",
            "            Conv2d-1           [-1, 32, 32, 32]             864\n",
            "       BatchNorm2d-2           [-1, 32, 32, 32]              64\n",
            "              ReLU-3           [-1, 32, 32, 32]               0\n",
            "           Dropout-4           [-1, 32, 32, 32]               0\n",
            "            Conv2d-5           [-1, 64, 16, 16]          18,432\n",
            "       BatchNorm2d-6           [-1, 64, 16, 16]             128\n",
            "              ReLU-7           [-1, 64, 16, 16]               0\n",
            "           Dropout-8           [-1, 64, 16, 16]               0\n",
            "            Conv2d-9           [-1, 32, 16, 16]           2,048\n",
            "      BatchNorm2d-10           [-1, 32, 16, 16]              64\n",
            "             ReLU-11           [-1, 32, 16, 16]               0\n",
            "          Dropout-12           [-1, 32, 16, 16]               0\n",
            "           Conv2d-13           [-1, 32, 16, 16]             288\n",
            "           Conv2d-14           [-1, 64, 16, 16]           2,048\n",
            "      BatchNorm2d-15           [-1, 64, 16, 16]             128\n",
            "             ReLU-16           [-1, 64, 16, 16]               0\n",
            "          Dropout-17           [-1, 64, 16, 16]               0\n",
            "           Conv2d-18             [-1, 64, 8, 8]             576\n",
            "           Conv2d-19             [-1, 64, 8, 8]           4,096\n",
            "      BatchNorm2d-20             [-1, 64, 8, 8]             128\n",
            "             ReLU-21             [-1, 64, 8, 8]               0\n",
            "          Dropout-22             [-1, 64, 8, 8]               0\n",
            "           Conv2d-23             [-1, 32, 8, 8]           2,048\n",
            "      BatchNorm2d-24             [-1, 32, 8, 8]              64\n",
            "             ReLU-25             [-1, 32, 8, 8]               0\n",
            "          Dropout-26             [-1, 32, 8, 8]               0\n",
            "           Conv2d-27             [-1, 64, 8, 8]          18,432\n",
            "      BatchNorm2d-28             [-1, 64, 8, 8]             128\n",
            "             ReLU-29             [-1, 64, 8, 8]               0\n",
            "          Dropout-30             [-1, 64, 8, 8]               0\n",
            "           Conv2d-31            [-1, 128, 4, 4]          73,728\n",
            "      BatchNorm2d-32            [-1, 128, 4, 4]             256\n",
            "             ReLU-33            [-1, 128, 4, 4]               0\n",
            "          Dropout-34            [-1, 128, 4, 4]               0\n",
            "           Conv2d-35             [-1, 32, 4, 4]           4,096\n",
            "      BatchNorm2d-36             [-1, 32, 4, 4]              64\n",
            "             ReLU-37             [-1, 32, 4, 4]               0\n",
            "          Dropout-38             [-1, 32, 4, 4]               0\n",
            "           Conv2d-39             [-1, 64, 6, 6]          18,432\n",
            "      BatchNorm2d-40             [-1, 64, 6, 6]             128\n",
            "             ReLU-41             [-1, 64, 6, 6]               0\n",
            "          Dropout-42             [-1, 64, 6, 6]               0\n",
            "           Conv2d-43             [-1, 64, 3, 3]          36,864\n",
            "      BatchNorm2d-44             [-1, 64, 3, 3]             128\n",
            "             ReLU-45             [-1, 64, 3, 3]               0\n",
            "          Dropout-46             [-1, 64, 3, 3]               0\n",
            "AdaptiveAvgPool2d-47             [-1, 64, 1, 1]               0\n",
            "           Linear-48                   [-1, 10]             650\n",
            "================================================================\n",
            "Total params: 183,882\n",
            "Trainable params: 183,882\n",
            "Non-trainable params: 0\n",
            "----------------------------------------------------------------\n",
            "Input size (MB): 0.01\n",
            "Forward/backward pass size (MB): 2.82\n",
            "Params size (MB): 0.70\n",
            "Estimated Total Size (MB): 3.54\n",
            "----------------------------------------------------------------\n",
            "\n",
            "EPOCH: 1\n"
          ]
        },
        {
          "name": "stderr",
          "output_type": "stream",
          "text": [
            "Epoch=1 Loss=2.1261 Accuracy=18.51: 100%|██████████| 391/391 [00:18<00:00, 21.08it/s]\n"
          ]
        },
        {
          "name": "stdout",
          "output_type": "stream",
          "text": [
            "\n",
            "Test set: Average loss: 0.0158, Accuracy: 2418/10000 (24.18%)\n",
            "\n",
            "found perfect model!!\n",
            "Saved best model (acc=24.18%) to best_model.pth\n",
            "\n",
            "EPOCH: 2\n"
          ]
        },
        {
          "name": "stderr",
          "output_type": "stream",
          "text": [
            "Epoch=2 Loss=1.7335 Accuracy=29.96: 100%|██████████| 391/391 [00:19<00:00, 19.96it/s]\n"
          ]
        },
        {
          "name": "stdout",
          "output_type": "stream",
          "text": [
            "\n",
            "Test set: Average loss: 0.0136, Accuracy: 3574/10000 (35.74%)\n",
            "\n",
            "found perfect model!!\n",
            "Saved best model (acc=35.74%) to best_model.pth\n",
            "\n",
            "EPOCH: 3\n"
          ]
        },
        {
          "name": "stderr",
          "output_type": "stream",
          "text": [
            "Epoch=3 Loss=1.6568 Accuracy=36.33: 100%|██████████| 391/391 [00:18<00:00, 21.51it/s]\n"
          ]
        },
        {
          "name": "stdout",
          "output_type": "stream",
          "text": [
            "\n",
            "Test set: Average loss: 0.0122, Accuracy: 4282/10000 (42.82%)\n",
            "\n",
            "found perfect model!!\n",
            "Saved best model (acc=42.82%) to best_model.pth\n",
            "\n",
            "EPOCH: 4\n"
          ]
        },
        {
          "name": "stderr",
          "output_type": "stream",
          "text": [
            "Epoch=4 Loss=1.4807 Accuracy=41.95: 100%|██████████| 391/391 [00:19<00:00, 20.11it/s]\n"
          ]
        },
        {
          "name": "stdout",
          "output_type": "stream",
          "text": [
            "\n",
            "Test set: Average loss: 0.0111, Accuracy: 4843/10000 (48.43%)\n",
            "\n",
            "found perfect model!!\n",
            "Saved best model (acc=48.43%) to best_model.pth\n",
            "\n",
            "EPOCH: 5\n"
          ]
        },
        {
          "name": "stderr",
          "output_type": "stream",
          "text": [
            "Epoch=5 Loss=1.3044 Accuracy=45.95: 100%|██████████| 391/391 [00:18<00:00, 21.18it/s]\n"
          ]
        },
        {
          "name": "stdout",
          "output_type": "stream",
          "text": [
            "\n",
            "Test set: Average loss: 0.0101, Accuracy: 5342/10000 (53.42%)\n",
            "\n",
            "found perfect model!!\n",
            "Saved best model (acc=53.42%) to best_model.pth\n",
            "\n",
            "EPOCH: 6\n"
          ]
        },
        {
          "name": "stderr",
          "output_type": "stream",
          "text": [
            "Epoch=6 Loss=1.3983 Accuracy=49.83: 100%|██████████| 391/391 [00:19<00:00, 20.37it/s]\n"
          ]
        },
        {
          "name": "stdout",
          "output_type": "stream",
          "text": [
            "\n",
            "Test set: Average loss: 0.0094, Accuracy: 5645/10000 (56.45%)\n",
            "\n",
            "found perfect model!!\n",
            "Saved best model (acc=56.45%) to best_model.pth\n",
            "\n",
            "EPOCH: 7\n"
          ]
        },
        {
          "name": "stderr",
          "output_type": "stream",
          "text": [
            "Epoch=7 Loss=1.3808 Accuracy=52.93: 100%|██████████| 391/391 [00:18<00:00, 21.29it/s]\n"
          ]
        },
        {
          "name": "stdout",
          "output_type": "stream",
          "text": [
            "\n",
            "Test set: Average loss: 0.0092, Accuracy: 5891/10000 (58.91%)\n",
            "\n",
            "found perfect model!!\n",
            "Saved best model (acc=58.91%) to best_model.pth\n",
            "\n",
            "EPOCH: 8\n"
          ]
        },
        {
          "name": "stderr",
          "output_type": "stream",
          "text": [
            "Epoch=8 Loss=1.1573 Accuracy=55.28: 100%|██████████| 391/391 [00:19<00:00, 20.28it/s]\n"
          ]
        },
        {
          "name": "stdout",
          "output_type": "stream",
          "text": [
            "\n",
            "Test set: Average loss: 0.0082, Accuracy: 6250/10000 (62.50%)\n",
            "\n",
            "found perfect model!!\n",
            "Saved best model (acc=62.50%) to best_model.pth\n",
            "\n",
            "EPOCH: 9\n"
          ]
        },
        {
          "name": "stderr",
          "output_type": "stream",
          "text": [
            "Epoch=9 Loss=1.1912 Accuracy=57.33: 100%|██████████| 391/391 [00:18<00:00, 21.42it/s]\n"
          ]
        },
        {
          "name": "stdout",
          "output_type": "stream",
          "text": [
            "\n",
            "Test set: Average loss: 0.0081, Accuracy: 6332/10000 (63.32%)\n",
            "\n",
            "found perfect model!!\n",
            "Saved best model (acc=63.32%) to best_model.pth\n",
            "\n",
            "EPOCH: 10\n"
          ]
        },
        {
          "name": "stderr",
          "output_type": "stream",
          "text": [
            "Epoch=10 Loss=1.2129 Accuracy=59.15: 100%|██████████| 391/391 [00:19<00:00, 20.32it/s]\n"
          ]
        },
        {
          "name": "stdout",
          "output_type": "stream",
          "text": [
            "\n",
            "Test set: Average loss: 0.0080, Accuracy: 6277/10000 (62.77%)\n",
            "\n",
            "\n",
            "EPOCH: 11\n"
          ]
        },
        {
          "name": "stderr",
          "output_type": "stream",
          "text": [
            "Epoch=11 Loss=1.2635 Accuracy=60.43: 100%|██████████| 391/391 [00:19<00:00, 19.80it/s]\n"
          ]
        },
        {
          "name": "stdout",
          "output_type": "stream",
          "text": [
            "\n",
            "Test set: Average loss: 0.0070, Accuracy: 6849/10000 (68.49%)\n",
            "\n",
            "found perfect model!!\n",
            "Saved best model (acc=68.49%) to best_model.pth\n",
            "\n",
            "EPOCH: 12\n"
          ]
        },
        {
          "name": "stderr",
          "output_type": "stream",
          "text": [
            "Epoch=12 Loss=1.1846 Accuracy=62.07: 100%|██████████| 391/391 [00:18<00:00, 20.89it/s]\n"
          ]
        },
        {
          "name": "stdout",
          "output_type": "stream",
          "text": [
            "\n",
            "Test set: Average loss: 0.0069, Accuracy: 6886/10000 (68.86%)\n",
            "\n",
            "found perfect model!!\n",
            "Saved best model (acc=68.86%) to best_model.pth\n",
            "\n",
            "EPOCH: 13\n"
          ]
        },
        {
          "name": "stderr",
          "output_type": "stream",
          "text": [
            "Epoch=13 Loss=1.0760 Accuracy=63.54: 100%|██████████| 391/391 [00:19<00:00, 19.62it/s]\n"
          ]
        },
        {
          "name": "stdout",
          "output_type": "stream",
          "text": [
            "\n",
            "Test set: Average loss: 0.0065, Accuracy: 7090/10000 (70.90%)\n",
            "\n",
            "found perfect model!!\n",
            "Saved best model (acc=70.90%) to best_model.pth\n",
            "\n",
            "EPOCH: 14\n"
          ]
        },
        {
          "name": "stderr",
          "output_type": "stream",
          "text": [
            "Epoch=14 Loss=1.1089 Accuracy=64.65: 100%|██████████| 391/391 [00:18<00:00, 20.75it/s]\n"
          ]
        },
        {
          "name": "stdout",
          "output_type": "stream",
          "text": [
            "\n",
            "Test set: Average loss: 0.0066, Accuracy: 7125/10000 (71.25%)\n",
            "\n",
            "found perfect model!!\n",
            "Saved best model (acc=71.25%) to best_model.pth\n",
            "\n",
            "EPOCH: 15\n"
          ]
        },
        {
          "name": "stderr",
          "output_type": "stream",
          "text": [
            "Epoch=15 Loss=1.0457 Accuracy=66.10: 100%|██████████| 391/391 [00:19<00:00, 19.73it/s]\n"
          ]
        },
        {
          "name": "stdout",
          "output_type": "stream",
          "text": [
            "\n",
            "Test set: Average loss: 0.0062, Accuracy: 7232/10000 (72.32%)\n",
            "\n",
            "found perfect model!!\n",
            "Saved best model (acc=72.32%) to best_model.pth\n",
            "\n",
            "EPOCH: 16\n"
          ]
        },
        {
          "name": "stderr",
          "output_type": "stream",
          "text": [
            "Epoch=16 Loss=0.7826 Accuracy=66.91: 100%|██████████| 391/391 [00:18<00:00, 20.81it/s]\n"
          ]
        },
        {
          "name": "stdout",
          "output_type": "stream",
          "text": [
            "\n",
            "Test set: Average loss: 0.0057, Accuracy: 7427/10000 (74.27%)\n",
            "\n",
            "found perfect model!!\n",
            "Saved best model (acc=74.27%) to best_model.pth\n",
            "\n",
            "EPOCH: 17\n"
          ]
        },
        {
          "name": "stderr",
          "output_type": "stream",
          "text": [
            "Epoch=17 Loss=0.7742 Accuracy=67.89: 100%|██████████| 391/391 [00:20<00:00, 19.52it/s]\n"
          ]
        },
        {
          "name": "stdout",
          "output_type": "stream",
          "text": [
            "\n",
            "Test set: Average loss: 0.0055, Accuracy: 7534/10000 (75.34%)\n",
            "\n",
            "found perfect model!!\n",
            "Saved best model (acc=75.34%) to best_model.pth\n",
            "\n",
            "EPOCH: 18\n"
          ]
        },
        {
          "name": "stderr",
          "output_type": "stream",
          "text": [
            "Epoch=18 Loss=1.0110 Accuracy=68.68: 100%|██████████| 391/391 [00:18<00:00, 21.03it/s]\n"
          ]
        },
        {
          "name": "stdout",
          "output_type": "stream",
          "text": [
            "\n",
            "Test set: Average loss: 0.0055, Accuracy: 7523/10000 (75.23%)\n",
            "\n",
            "\n",
            "EPOCH: 19\n"
          ]
        },
        {
          "name": "stderr",
          "output_type": "stream",
          "text": [
            "Epoch=19 Loss=0.6211 Accuracy=69.33: 100%|██████████| 391/391 [00:19<00:00, 19.61it/s]\n"
          ]
        },
        {
          "name": "stdout",
          "output_type": "stream",
          "text": [
            "\n",
            "Test set: Average loss: 0.0057, Accuracy: 7495/10000 (74.95%)\n",
            "\n",
            "\n",
            "EPOCH: 20\n"
          ]
        },
        {
          "name": "stderr",
          "output_type": "stream",
          "text": [
            "Epoch=20 Loss=0.8836 Accuracy=70.12: 100%|██████████| 391/391 [00:18<00:00, 20.76it/s]\n"
          ]
        },
        {
          "name": "stdout",
          "output_type": "stream",
          "text": [
            "\n",
            "Test set: Average loss: 0.0052, Accuracy: 7704/10000 (77.04%)\n",
            "\n",
            "found perfect model!!\n",
            "Saved best model (acc=77.04%) to best_model.pth\n",
            "\n",
            "EPOCH: 21\n"
          ]
        },
        {
          "name": "stderr",
          "output_type": "stream",
          "text": [
            "Epoch=21 Loss=0.8892 Accuracy=70.68: 100%|██████████| 391/391 [00:19<00:00, 20.28it/s]\n"
          ]
        },
        {
          "name": "stdout",
          "output_type": "stream",
          "text": [
            "\n",
            "Test set: Average loss: 0.0052, Accuracy: 7753/10000 (77.53%)\n",
            "\n",
            "found perfect model!!\n",
            "Saved best model (acc=77.53%) to best_model.pth\n",
            "\n",
            "EPOCH: 22\n"
          ]
        },
        {
          "name": "stderr",
          "output_type": "stream",
          "text": [
            "Epoch=22 Loss=0.7242 Accuracy=71.19: 100%|██████████| 391/391 [00:19<00:00, 20.03it/s]\n"
          ]
        },
        {
          "name": "stdout",
          "output_type": "stream",
          "text": [
            "\n",
            "Test set: Average loss: 0.0048, Accuracy: 7899/10000 (78.99%)\n",
            "\n",
            "found perfect model!!\n",
            "Saved best model (acc=78.99%) to best_model.pth\n",
            "\n",
            "EPOCH: 23\n"
          ]
        },
        {
          "name": "stderr",
          "output_type": "stream",
          "text": [
            "Epoch=23 Loss=0.6800 Accuracy=71.55: 100%|██████████| 391/391 [00:18<00:00, 20.77it/s]\n"
          ]
        },
        {
          "name": "stdout",
          "output_type": "stream",
          "text": [
            "\n",
            "Test set: Average loss: 0.0048, Accuracy: 7890/10000 (78.90%)\n",
            "\n",
            "\n",
            "EPOCH: 24\n"
          ]
        },
        {
          "name": "stderr",
          "output_type": "stream",
          "text": [
            "Epoch=24 Loss=0.7062 Accuracy=72.15: 100%|██████████| 391/391 [00:19<00:00, 19.55it/s]\n"
          ]
        },
        {
          "name": "stdout",
          "output_type": "stream",
          "text": [
            "\n",
            "Test set: Average loss: 0.0047, Accuracy: 7911/10000 (79.11%)\n",
            "\n",
            "found perfect model!!\n",
            "Saved best model (acc=79.11%) to best_model.pth\n",
            "\n",
            "EPOCH: 25\n"
          ]
        },
        {
          "name": "stderr",
          "output_type": "stream",
          "text": [
            "Epoch=25 Loss=0.7712 Accuracy=72.19: 100%|██████████| 391/391 [00:18<00:00, 20.62it/s]\n"
          ]
        },
        {
          "name": "stdout",
          "output_type": "stream",
          "text": [
            "\n",
            "Test set: Average loss: 0.0046, Accuracy: 7964/10000 (79.64%)\n",
            "\n",
            "found perfect model!!\n",
            "Saved best model (acc=79.64%) to best_model.pth\n",
            "\n",
            "EPOCH: 26\n"
          ]
        },
        {
          "name": "stderr",
          "output_type": "stream",
          "text": [
            "Epoch=26 Loss=0.7338 Accuracy=72.72: 100%|██████████| 391/391 [00:19<00:00, 19.59it/s]\n"
          ]
        },
        {
          "name": "stdout",
          "output_type": "stream",
          "text": [
            "\n",
            "Test set: Average loss: 0.0046, Accuracy: 7933/10000 (79.33%)\n",
            "\n",
            "\n",
            "EPOCH: 27\n"
          ]
        },
        {
          "name": "stderr",
          "output_type": "stream",
          "text": [
            "Epoch=27 Loss=0.7464 Accuracy=72.91: 100%|██████████| 391/391 [00:18<00:00, 20.89it/s]\n"
          ]
        },
        {
          "name": "stdout",
          "output_type": "stream",
          "text": [
            "\n",
            "Test set: Average loss: 0.0045, Accuracy: 7993/10000 (79.93%)\n",
            "\n",
            "found perfect model!!\n",
            "Saved best model (acc=79.93%) to best_model.pth\n",
            "\n",
            "EPOCH: 28\n"
          ]
        },
        {
          "name": "stderr",
          "output_type": "stream",
          "text": [
            "Epoch=28 Loss=0.7900 Accuracy=73.25: 100%|██████████| 391/391 [00:20<00:00, 19.00it/s]\n"
          ]
        },
        {
          "name": "stdout",
          "output_type": "stream",
          "text": [
            "\n",
            "Test set: Average loss: 0.0045, Accuracy: 8024/10000 (80.24%)\n",
            "\n",
            "found perfect model!!\n",
            "Saved best model (acc=80.24%) to best_model.pth\n",
            "\n",
            "EPOCH: 29\n"
          ]
        },
        {
          "name": "stderr",
          "output_type": "stream",
          "text": [
            "Epoch=29 Loss=0.8159 Accuracy=73.67: 100%|██████████| 391/391 [00:20<00:00, 19.36it/s]\n"
          ]
        },
        {
          "name": "stdout",
          "output_type": "stream",
          "text": [
            "\n",
            "Test set: Average loss: 0.0044, Accuracy: 8107/10000 (81.07%)\n",
            "\n",
            "found perfect model!!\n",
            "Saved best model (acc=81.07%) to best_model.pth\n",
            "\n",
            "EPOCH: 30\n"
          ]
        },
        {
          "name": "stderr",
          "output_type": "stream",
          "text": [
            "Epoch=30 Loss=0.6940 Accuracy=74.00: 100%|██████████| 391/391 [00:19<00:00, 20.03it/s]\n"
          ]
        },
        {
          "name": "stdout",
          "output_type": "stream",
          "text": [
            "\n",
            "Test set: Average loss: 0.0043, Accuracy: 8086/10000 (80.86%)\n",
            "\n",
            "\n",
            "EPOCH: 31\n"
          ]
        },
        {
          "name": "stderr",
          "output_type": "stream",
          "text": [
            "Epoch=31 Loss=0.5976 Accuracy=74.10: 100%|██████████| 391/391 [00:20<00:00, 19.21it/s]\n"
          ]
        },
        {
          "name": "stdout",
          "output_type": "stream",
          "text": [
            "\n",
            "Test set: Average loss: 0.0042, Accuracy: 8149/10000 (81.49%)\n",
            "\n",
            "found perfect model!!\n",
            "Saved best model (acc=81.49%) to best_model.pth\n",
            "\n",
            "EPOCH: 32\n"
          ]
        },
        {
          "name": "stderr",
          "output_type": "stream",
          "text": [
            "Epoch=32 Loss=0.8480 Accuracy=74.66: 100%|██████████| 391/391 [00:19<00:00, 20.35it/s]\n"
          ]
        },
        {
          "name": "stdout",
          "output_type": "stream",
          "text": [
            "\n",
            "Test set: Average loss: 0.0042, Accuracy: 8153/10000 (81.53%)\n",
            "\n",
            "found perfect model!!\n",
            "Saved best model (acc=81.53%) to best_model.pth\n",
            "\n",
            "EPOCH: 33\n"
          ]
        },
        {
          "name": "stderr",
          "output_type": "stream",
          "text": [
            "Epoch=33 Loss=0.6534 Accuracy=75.01: 100%|██████████| 391/391 [00:20<00:00, 19.07it/s]\n"
          ]
        },
        {
          "name": "stdout",
          "output_type": "stream",
          "text": [
            "\n",
            "Test set: Average loss: 0.0044, Accuracy: 8120/10000 (81.20%)\n",
            "\n",
            "\n",
            "EPOCH: 34\n"
          ]
        },
        {
          "name": "stderr",
          "output_type": "stream",
          "text": [
            "Epoch=34 Loss=0.7628 Accuracy=75.11: 100%|██████████| 391/391 [00:18<00:00, 20.63it/s]\n"
          ]
        },
        {
          "name": "stdout",
          "output_type": "stream",
          "text": [
            "\n",
            "Test set: Average loss: 0.0041, Accuracy: 8187/10000 (81.87%)\n",
            "\n",
            "found perfect model!!\n",
            "Saved best model (acc=81.87%) to best_model.pth\n",
            "\n",
            "EPOCH: 35\n"
          ]
        },
        {
          "name": "stderr",
          "output_type": "stream",
          "text": [
            "Epoch=35 Loss=0.7626 Accuracy=75.20: 100%|██████████| 391/391 [00:19<00:00, 20.07it/s]\n"
          ]
        },
        {
          "name": "stdout",
          "output_type": "stream",
          "text": [
            "\n",
            "Test set: Average loss: 0.0040, Accuracy: 8260/10000 (82.60%)\n",
            "\n",
            "found perfect model!!\n",
            "Saved best model (acc=82.60%) to best_model.pth\n",
            "\n",
            "EPOCH: 36\n"
          ]
        },
        {
          "name": "stderr",
          "output_type": "stream",
          "text": [
            "Epoch=36 Loss=0.5648 Accuracy=75.43: 100%|██████████| 391/391 [00:19<00:00, 20.00it/s]\n"
          ]
        },
        {
          "name": "stdout",
          "output_type": "stream",
          "text": [
            "\n",
            "Test set: Average loss: 0.0040, Accuracy: 8268/10000 (82.68%)\n",
            "\n",
            "found perfect model!!\n",
            "Saved best model (acc=82.68%) to best_model.pth\n",
            "\n",
            "EPOCH: 37\n"
          ]
        },
        {
          "name": "stderr",
          "output_type": "stream",
          "text": [
            "Epoch=37 Loss=0.8697 Accuracy=75.65: 100%|██████████| 391/391 [00:19<00:00, 20.16it/s]\n"
          ]
        },
        {
          "name": "stdout",
          "output_type": "stream",
          "text": [
            "\n",
            "Test set: Average loss: 0.0041, Accuracy: 8209/10000 (82.09%)\n",
            "\n",
            "\n",
            "EPOCH: 38\n"
          ]
        },
        {
          "name": "stderr",
          "output_type": "stream",
          "text": [
            "Epoch=38 Loss=0.6942 Accuracy=75.91: 100%|██████████| 391/391 [00:20<00:00, 18.72it/s]\n"
          ]
        },
        {
          "name": "stdout",
          "output_type": "stream",
          "text": [
            "\n",
            "Test set: Average loss: 0.0039, Accuracy: 8302/10000 (83.02%)\n",
            "\n",
            "found perfect model!!\n",
            "Saved best model (acc=83.02%) to best_model.pth\n",
            "\n",
            "EPOCH: 39\n"
          ]
        },
        {
          "name": "stderr",
          "output_type": "stream",
          "text": [
            "Epoch=39 Loss=0.4851 Accuracy=75.95: 100%|██████████| 391/391 [00:19<00:00, 20.25it/s]\n"
          ]
        },
        {
          "name": "stdout",
          "output_type": "stream",
          "text": [
            "\n",
            "Test set: Average loss: 0.0040, Accuracy: 8271/10000 (82.71%)\n",
            "\n",
            "\n",
            "EPOCH: 40\n"
          ]
        },
        {
          "name": "stderr",
          "output_type": "stream",
          "text": [
            "Epoch=40 Loss=0.6465 Accuracy=76.49: 100%|██████████| 391/391 [00:20<00:00, 19.31it/s]\n"
          ]
        },
        {
          "name": "stdout",
          "output_type": "stream",
          "text": [
            "\n",
            "Test set: Average loss: 0.0040, Accuracy: 8264/10000 (82.64%)\n",
            "\n",
            "\n",
            "EPOCH: 41\n"
          ]
        },
        {
          "name": "stderr",
          "output_type": "stream",
          "text": [
            "Epoch=41 Loss=0.6386 Accuracy=76.69: 100%|██████████| 391/391 [00:19<00:00, 20.30it/s]\n"
          ]
        },
        {
          "name": "stdout",
          "output_type": "stream",
          "text": [
            "\n",
            "Test set: Average loss: 0.0039, Accuracy: 8278/10000 (82.78%)\n",
            "\n",
            "\n",
            "EPOCH: 42\n"
          ]
        },
        {
          "name": "stderr",
          "output_type": "stream",
          "text": [
            "Epoch=42 Loss=0.6155 Accuracy=76.84: 100%|██████████| 391/391 [00:19<00:00, 19.98it/s]\n"
          ]
        },
        {
          "name": "stdout",
          "output_type": "stream",
          "text": [
            "\n",
            "Test set: Average loss: 0.0040, Accuracy: 8261/10000 (82.61%)\n",
            "\n",
            "\n",
            "EPOCH: 43\n"
          ]
        },
        {
          "name": "stderr",
          "output_type": "stream",
          "text": [
            "Epoch=43 Loss=0.8532 Accuracy=76.78: 100%|██████████| 391/391 [00:20<00:00, 19.32it/s]\n"
          ]
        },
        {
          "name": "stdout",
          "output_type": "stream",
          "text": [
            "\n",
            "Test set: Average loss: 0.0039, Accuracy: 8302/10000 (83.02%)\n",
            "\n",
            "found perfect model!!\n",
            "Saved best model (acc=83.02%) to best_model.pth\n",
            "\n",
            "EPOCH: 44\n"
          ]
        },
        {
          "name": "stderr",
          "output_type": "stream",
          "text": [
            "Epoch=44 Loss=0.7755 Accuracy=77.11: 100%|██████████| 391/391 [00:19<00:00, 20.30it/s]\n"
          ]
        },
        {
          "name": "stdout",
          "output_type": "stream",
          "text": [
            "\n",
            "Test set: Average loss: 0.0038, Accuracy: 8348/10000 (83.48%)\n",
            "\n",
            "found perfect model!!\n",
            "Saved best model (acc=83.48%) to best_model.pth\n",
            "\n",
            "EPOCH: 45\n"
          ]
        },
        {
          "name": "stderr",
          "output_type": "stream",
          "text": [
            "Epoch=45 Loss=0.7545 Accuracy=77.48: 100%|██████████| 391/391 [00:20<00:00, 19.25it/s]\n"
          ]
        },
        {
          "name": "stdout",
          "output_type": "stream",
          "text": [
            "\n",
            "Test set: Average loss: 0.0040, Accuracy: 8321/10000 (83.21%)\n",
            "\n",
            "\n",
            "EPOCH: 46\n"
          ]
        },
        {
          "name": "stderr",
          "output_type": "stream",
          "text": [
            "Epoch=46 Loss=0.6043 Accuracy=77.74: 100%|██████████| 391/391 [00:18<00:00, 20.86it/s]\n"
          ]
        },
        {
          "name": "stdout",
          "output_type": "stream",
          "text": [
            "\n",
            "Test set: Average loss: 0.0037, Accuracy: 8370/10000 (83.70%)\n",
            "\n",
            "found perfect model!!\n",
            "Saved best model (acc=83.70%) to best_model.pth\n",
            "\n",
            "EPOCH: 47\n"
          ]
        },
        {
          "name": "stderr",
          "output_type": "stream",
          "text": [
            "Epoch=47 Loss=0.5410 Accuracy=77.72: 100%|██████████| 391/391 [00:19<00:00, 19.63it/s]\n"
          ]
        },
        {
          "name": "stdout",
          "output_type": "stream",
          "text": [
            "\n",
            "Test set: Average loss: 0.0036, Accuracy: 8437/10000 (84.37%)\n",
            "\n",
            "found perfect model!!\n",
            "Saved best model (acc=84.37%) to best_model.pth\n",
            "\n",
            "EPOCH: 48\n"
          ]
        },
        {
          "name": "stderr",
          "output_type": "stream",
          "text": [
            "Epoch=48 Loss=0.6680 Accuracy=78.08: 100%|██████████| 391/391 [00:19<00:00, 20.26it/s]\n"
          ]
        },
        {
          "name": "stdout",
          "output_type": "stream",
          "text": [
            "\n",
            "Test set: Average loss: 0.0038, Accuracy: 8368/10000 (83.68%)\n",
            "\n",
            "\n",
            "EPOCH: 49\n"
          ]
        },
        {
          "name": "stderr",
          "output_type": "stream",
          "text": [
            "Epoch=49 Loss=0.5480 Accuracy=78.24: 100%|██████████| 391/391 [00:19<00:00, 20.39it/s]\n"
          ]
        },
        {
          "name": "stdout",
          "output_type": "stream",
          "text": [
            "\n",
            "Test set: Average loss: 0.0036, Accuracy: 8430/10000 (84.30%)\n",
            "\n",
            "\n",
            "EPOCH: 50\n"
          ]
        },
        {
          "name": "stderr",
          "output_type": "stream",
          "text": [
            "Epoch=50 Loss=0.6369 Accuracy=78.10: 100%|██████████| 391/391 [00:20<00:00, 19.41it/s]\n"
          ]
        },
        {
          "name": "stdout",
          "output_type": "stream",
          "text": [
            "\n",
            "Test set: Average loss: 0.0037, Accuracy: 8426/10000 (84.26%)\n",
            "\n",
            "\n",
            "EPOCH: 51\n"
          ]
        },
        {
          "name": "stderr",
          "output_type": "stream",
          "text": [
            "Epoch=51 Loss=0.5545 Accuracy=78.58: 100%|██████████| 391/391 [00:19<00:00, 20.25it/s]\n"
          ]
        },
        {
          "name": "stdout",
          "output_type": "stream",
          "text": [
            "\n",
            "Test set: Average loss: 0.0036, Accuracy: 8425/10000 (84.25%)\n",
            "\n",
            "\n",
            "EPOCH: 52\n"
          ]
        },
        {
          "name": "stderr",
          "output_type": "stream",
          "text": [
            "Epoch=52 Loss=0.6300 Accuracy=78.89: 100%|██████████| 391/391 [00:20<00:00, 19.26it/s]\n"
          ]
        },
        {
          "name": "stdout",
          "output_type": "stream",
          "text": [
            "\n",
            "Test set: Average loss: 0.0035, Accuracy: 8482/10000 (84.82%)\n",
            "\n",
            "found perfect model!!\n",
            "Saved best model (acc=84.82%) to best_model.pth\n",
            "\n",
            "EPOCH: 53\n"
          ]
        },
        {
          "name": "stderr",
          "output_type": "stream",
          "text": [
            "Epoch=53 Loss=0.5363 Accuracy=79.01: 100%|██████████| 391/391 [00:19<00:00, 20.36it/s]\n"
          ]
        },
        {
          "name": "stdout",
          "output_type": "stream",
          "text": [
            "\n",
            "Test set: Average loss: 0.0035, Accuracy: 8449/10000 (84.49%)\n",
            "\n",
            "\n",
            "EPOCH: 54\n"
          ]
        },
        {
          "name": "stderr",
          "output_type": "stream",
          "text": [
            "Epoch=54 Loss=0.6768 Accuracy=79.21: 100%|██████████| 391/391 [00:20<00:00, 19.28it/s]\n"
          ]
        },
        {
          "name": "stdout",
          "output_type": "stream",
          "text": [
            "\n",
            "Test set: Average loss: 0.0036, Accuracy: 8446/10000 (84.46%)\n",
            "\n",
            "\n",
            "EPOCH: 55\n"
          ]
        },
        {
          "name": "stderr",
          "output_type": "stream",
          "text": [
            "Epoch=55 Loss=0.6066 Accuracy=79.12: 100%|██████████| 391/391 [00:19<00:00, 19.98it/s]\n"
          ]
        },
        {
          "name": "stdout",
          "output_type": "stream",
          "text": [
            "\n",
            "Test set: Average loss: 0.0034, Accuracy: 8516/10000 (85.16%)\n",
            "\n",
            "found perfect model!!\n",
            "Saved best model (acc=85.16%) to best_model.pth\n",
            "-----------------------------------------\n",
            "train accuracies 55 [18.508, 29.958, 36.326, 41.946, 45.952, 49.826, 52.93, 55.284, 57.328, 59.154, 60.43, 62.068, 63.538, 64.646, 66.104, 66.912, 67.888, 68.682, 69.328, 70.124, 70.68, 71.194, 71.548, 72.146, 72.188, 72.724, 72.91, 73.252, 73.674, 73.996, 74.104, 74.664, 75.014, 75.106, 75.204, 75.432, 75.652, 75.906, 75.954, 76.488, 76.69, 76.842, 76.784, 77.114, 77.48, 77.738, 77.716, 78.082, 78.242, 78.102, 78.576, 78.892, 79.01, 79.208, 79.122]\n",
            "train losses 55 [850.8173539638519, 748.6940159797668, 679.1184575557709, 623.9431948661804, 579.7111731767654, 543.5727834701538, 510.4466972351074, 486.16574025154114, 464.4953393340111, 448.43350237607956, 432.40346908569336, 417.3656471967697, 400.8991119861603, 388.06152188777924, 373.8395051956177, 365.17752742767334, 355.09601724147797, 345.6220392584801, 338.5619511604309, 331.88626778125763, 325.97491735219955, 320.3059457540512, 316.0526283979416, 310.0386645793915, 309.68663823604584, 302.08621656894684, 299.804003238678, 296.808698117733, 293.2172500491142, 288.5474981367588, 286.88476145267487, 281.32584923505783, 278.64041018486023, 276.0116805434227, 276.287295460701, 271.99644911289215, 269.696358025074, 267.95175999403, 267.1438085138798, 262.14544969797134, 258.0092639327049, 256.81790468096733, 256.34200474619865, 252.62273570895195, 250.55802154541016, 248.56295564770699, 248.0848636329174, 243.3407367169857, 242.9693865776062, 241.85446920990944, 237.292190015316, 236.09709906578064, 235.01987451314926, 232.51116421818733, 232.52477300167084]\n",
            "-----------------------------------------\n",
            "-----------------------------------------\n",
            "test accuracies 55 [24.18, 35.74, 42.82, 48.43, 53.42, 56.45, 58.91, 62.5, 63.32, 62.77, 68.49, 68.86, 70.9, 71.25, 72.32, 74.27, 75.34, 75.23, 74.95, 77.04, 77.53, 78.99, 78.9, 79.11, 79.64, 79.33, 79.93, 80.24, 81.07, 80.86, 81.49, 81.53, 81.2, 81.87, 82.6, 82.68, 82.09, 83.02, 82.71, 82.64, 82.78, 82.61, 83.02, 83.48, 83.21, 83.7, 84.37, 83.68, 84.3, 84.26, 84.25, 84.82, 84.49, 84.46, 85.16]\n",
            "test losses 55 [0.01578704594373703, 0.013616035604476929, 0.012232023513317107, 0.01111462367773056, 0.010087887275218964, 0.00940804437994957, 0.009158191752433776, 0.008228110760450363, 0.008065626126527786, 0.008017074632644653, 0.006978517788648606, 0.006899613016843796, 0.006548642551898957, 0.0065983294129371645, 0.006198657578229904, 0.005719456505775451, 0.005530479308962822, 0.005547272115945816, 0.005744909381866455, 0.005168425139784813, 0.005158743646740914, 0.0047535104215145115, 0.0048010352790355685, 0.004740765923261643, 0.004614181360602379, 0.004649745720624924, 0.004541341859102249, 0.004472752133011818, 0.004351921281218528, 0.004334692457318306, 0.004246438691020012, 0.0041808150261640545, 0.004377798274159432, 0.004135578036308289, 0.004017864117026329, 0.003974882799386978, 0.004076338323950768, 0.003922735453397035, 0.0039617535263299945, 0.003982672062516212, 0.003938671444356442, 0.00397302785217762, 0.0038695312052965166, 0.0037800836116075516, 0.003956668737530708, 0.003667903585731983, 0.0036144285559654237, 0.003790981513261795, 0.0036480515897274017, 0.003678649815917015, 0.0036046850591897966, 0.003532892793416977, 0.0035026082020252944, 0.003567745351791382, 0.003448877477645874]\n",
            "-----------------------------------------\n"
          ]
        },
        {
          "data": {
            "image/png": "[encoded data removed]",
            "text/plain": [
              "<Figure size 800x500 with 1 Axes>"
            ]
          },
          "metadata": {},
          "output_type": "display_data"
        },
        {
          "data": {
            "image/png": "[encoded data removed]",
            "text/plain": [
              "<Figure size 800x500 with 1 Axes>"
            ]
          },
          "metadata": {},
          "output_type": "display_data"
        },
        {
          "data": {
            "image/png": "[encoded data removed]",
            "text/plain": [
              "<Figure size 800x500 with 1 Axes>"
            ]
          },
          "metadata": {},
          "output_type": "display_data"
        },
        {
          "data": {
            "image/png": "[encoded data removed]",
            "text/plain": [
              "<Figure size 800x500 with 1 Axes>"
            ]
          },
          "metadata": {},
          "output_type": "display_data"
        }
      ],
      "source": [
        "import torch\n",
        "import torch.nn.functional as F\n",
        "import torch.optim as optim\n",
        "import torch.nn as nn\n",
        "from torchvision import datasets, transforms\n",
        "from tqdm import tqdm\n",
        "from torchsummary import summary\n",
        "from torch.optim.lr_scheduler import StepLR\n",
        "import albumentations as A\n",
        "from albumentations.pytorch import ToTensorV2\n",
        "from torch.optim.lr_scheduler import OneCycleLR\n",
        "# from models import Model1\n",
        "# from utils import plot_metrics\n",
        "\n",
        "\n",
        "def train(model, device, train_loader, optimizer, scheduler, criterion, epoch, train_losses, train_acc):\n",
        "    model.train()\n",
        "    pbar = tqdm(train_loader)\n",
        "    correct = 0\n",
        "    processed = 0\n",
        "    train_loss = 0\n",
        "    for batch_idx, (data, target) in enumerate(pbar):\n",
        "        data, target = data.to(device), target.to(device)\n",
        "        optimizer.zero_grad()\n",
        "        y_pred = model(data)\n",
        "        loss = criterion(y_pred, target)   # expects log_softmax in model forward\n",
        "        train_loss += loss.item()\n",
        "        loss.backward()\n",
        "        optimizer.step()\n",
        "        scheduler.step()\n",
        "        # if batch_idx > 5:\n",
        "        #     break\n",
        "        pred = y_pred.argmax(dim=1, keepdim=True)\n",
        "        correct += pred.eq(target.view_as(pred)).sum().item()\n",
        "        processed += len(data)\n",
        "        acc = 100. * correct / processed\n",
        "        pbar.set_description(desc=f'Epoch={epoch} Loss={loss.item():.4f} Accuracy={acc:0.2f}')\n",
        "        #train_acc.append(acc)\n",
        "    train_losses.append(train_loss)\n",
        "    acc = 100. * correct / len(train_loader.dataset)\n",
        "    train_acc.append(acc)\n",
        "\n",
        "\n",
        "def test(model, device, test_loader, criterion, test_losses, test_acc):\n",
        "    model.eval()\n",
        "    test_loss = 0\n",
        "    correct = 0\n",
        "    with torch.no_grad():\n",
        "        for data, target in test_loader:\n",
        "            data, target = data.to(device), target.to(device)\n",
        "            output = model(data)\n",
        "            test_loss += criterion(output, target).item()\n",
        "            pred = output.argmax(dim=1, keepdim=True)\n",
        "            correct += pred.eq(target.view_as(pred)).sum().item()\n",
        "    test_loss /= len(test_loader.dataset)\n",
        "    acc = 100. * correct / len(test_loader.dataset)\n",
        "    test_losses.append(test_loss)\n",
        "    test_acc.append(acc)\n",
        "    print(f'\\nTest set: Average loss: {test_loss:.4f}, Accuracy: {correct}/{len(test_loader.dataset)} ({acc:.2f}%)\\n')\n",
        "    return acc\n",
        "\n",
        "def get_data_loaders():\n",
        "    # CIFAR-10 mean and std\n",
        "    CIFAR10_MEAN = (0.4914, 0.4822, 0.4465)\n",
        "    CIFAR10_STD  = (0.2470, 0.2435, 0.2616)\n",
        "\n",
        "\n",
        "    fill_value_pixels = tuple(int(m * 255) for m in CIFAR10_MEAN)\n",
        "\n",
        "    train_alb = A.Compose([\n",
        "        A.HorizontalFlip(p=0.5),\n",
        "         A.Affine(\n",
        "            translate_percent={\"x\": 0.0625, \"y\": 0.0625},  # shift\n",
        "            scale=(0.9, 1.1),                               # scale\n",
        "            rotate=(-15, 15),                               # rotation\n",
        "            p=0.5\n",
        "        ),\n",
        "        A.CoarseDropout(\n",
        "            num_holes_range=(1, 1),\n",
        "            hole_height_range=(16, 16),\n",
        "            hole_width_range=(16, 16),\n",
        "            fill=fill_value_pixels,\n",
        "            fill_mask=None,\n",
        "            p=0.5\n",
        "        ),\n",
        "        A.Normalize(mean=CIFAR10_MEAN, std=CIFAR10_STD),\n",
        "        ToTensorV2(),\n",
        "    ])\n",
        "\n",
        "    val_alb = A.Compose([\n",
        "        A.Normalize(mean=CIFAR10_MEAN, std=CIFAR10_STD),\n",
        "        ToTensorV2(),\n",
        "    ])\n",
        "\n",
        "    class AlbCIFAR10(datasets.CIFAR10):\n",
        "        def __init__(self, root, train=True, transform=None, download=False):\n",
        "            super().__init__(root=root, train=train, download=download)\n",
        "            self.alb_transform = transform\n",
        "\n",
        "        def __getitem__(self, index):\n",
        "            img, target = self.data[index], int(self.targets[index])\n",
        "            # img is HxWxC numpy (uint8)\n",
        "            if self.alb_transform:\n",
        "                augmented = self.alb_transform(image=img)\n",
        "                img = augmented[\"image\"]\n",
        "            else:\n",
        "                # fallback: convert to tensor and normalize\n",
        "                img = transforms.ToTensor()(img)\n",
        "            return img, target\n",
        "\n",
        "\n",
        "\n",
        "    # train_transforms = transforms.Compose([\n",
        "    #     transforms.RandomHorizontalFlip(),\n",
        "    #     transforms.RandomAffine(degrees=10, translate=(0.1, 0.1), scale=(0.9, 1.1)),\n",
        "    #     transforms.ToTensor(),\n",
        "    #     transforms.Normalize(mean, std)\n",
        "    # ])\n",
        "\n",
        "    # test_transforms = transforms.Compose([\n",
        "    #     transforms.ToTensor(),\n",
        "    #     transforms.Normalize(mean, std)\n",
        "    # ])\n",
        "\n",
        "    # train = datasets.CIFAR10('./data', train=True, download=True, transform=train_transforms)\n",
        "    # test = datasets.CIFAR10('./data', train=False, download=True, transform=test_transforms)\n",
        "\n",
        "    train = AlbCIFAR10(root='./data', train=True, transform=train_alb, download=True)\n",
        "    test   = AlbCIFAR10(root='./data', train=False, transform=val_alb, download=True)\n",
        "\n",
        "    SEED = 1\n",
        "    cuda = torch.cuda.is_available()\n",
        "    print(\"CUDA Available?\", cuda)\n",
        "    torch.manual_seed(SEED)\n",
        "    if cuda:\n",
        "        torch.cuda.manual_seed(SEED)\n",
        "\n",
        "    dataloader_args = dict(shuffle=True, batch_size=128, num_workers=4, pin_memory=True) if cuda \\\n",
        "                      else dict(shuffle=True, batch_size=64)\n",
        "    train_loader = torch.utils.data.DataLoader(train, **dataloader_args)\n",
        "    test_loader = torch.utils.data.DataLoader(test, **dataloader_args)\n",
        "    return train_loader, test_loader, cuda\n",
        "\n",
        "def perform_training():\n",
        "    train_loader, test_loader, use_cuda = get_data_loaders()\n",
        "    device = torch.device(\"cuda\" if use_cuda else \"cpu\")\n",
        "    print(\"Using device:\", device)\n",
        "\n",
        "    number_of_classes = 10\n",
        "    model = Model1(number_of_classes).to(device)\n",
        "    summary(model, input_size=(3, 32, 32))  # CIFAR-10 input size\n",
        "\n",
        "    # return\n",
        "    #optimizer = optim.SGD(model.parameters(), lr=0.02, momentum=0.9)\n",
        "    # optimizer = torch.optim.Adam(model.parameters(), lr=1e-4, weight_decay=1e-4)\n",
        "\n",
        "    # scheduler = StepLR(optimizer, step_size=20, gamma=0.1)\n",
        "\n",
        "    criterion = nn.CrossEntropyLoss()\n",
        "    optimizer = optim.Adam(model.parameters(), lr=1e-3, weight_decay=1e-4)\n",
        "    EPOCHS = 80\n",
        "    scheduler = OneCycleLR(\n",
        "        optimizer,\n",
        "        max_lr=1e-3,\n",
        "        steps_per_epoch=len(train_loader),\n",
        "\n",
        "        epochs=EPOCHS,\n",
        "        pct_start=0.2,\n",
        "        anneal_strategy=\"cos\",\n",
        "    )\n",
        "\n",
        "    EPOCHS = 100\n",
        "    SAVE_PATH = \"best_model.pth\"\n",
        "\n",
        "    train_losses, test_losses, train_acc, test_acc = [], [], [], []\n",
        "    best_val_acc = 0.0\n",
        "\n",
        "    for epoch in range(1, EPOCHS + 1):\n",
        "        print(f\"\\nEPOCH: {epoch}\")\n",
        "        train(model, device, train_loader, optimizer, scheduler, criterion, epoch, train_losses, train_acc)\n",
        "        current_test_acc = test(model, device, test_loader, criterion, test_losses, test_acc)\n",
        "        if current_test_acc >= best_val_acc:\n",
        "            print(\"found perfect model!!\")\n",
        "            best_val_acc = current_test_acc\n",
        "            torch.save({\n",
        "                \"epoch\": epoch,\n",
        "                \"model_state\": model.state_dict(),\n",
        "                \"optimizer_state\": optimizer.state_dict(),\n",
        "                \"val_acc\": current_test_acc,\n",
        "            }, SAVE_PATH)\n",
        "            print(f\"Saved best model (acc={best_val_acc:.2f}%) to {SAVE_PATH}\")\n",
        "            if best_val_acc >= 85.0:\n",
        "                break\n",
        "\n",
        "    print(\"-----------------------------------------\")\n",
        "    print(\"train accuracies\", len(train_acc), train_acc)\n",
        "    print(\"train losses\", len(train_losses), train_losses)\n",
        "    print(\"-----------------------------------------\")\n",
        "    print(\"-----------------------------------------\")\n",
        "    print(\"test accuracies\", len(test_acc), test_acc)\n",
        "    print(\"test losses\", len(test_losses), test_losses)\n",
        "    print(\"-----------------------------------------\")\n",
        "    plot_metrics(train_losses, test_losses, train_acc, test_acc)\n",
        "\n",
        "if __name__ == '__main__':\n",
        "    perform_training()"
      ]
    },
    {
      "cell_type": "code",
      "execution_count": null,
      "metadata": {
        "id": "fUEC6SpKgj3F"
      },
      "outputs": [],
      "source": []
    }
  ],
  "metadata": {
    "accelerator": "GPU",
    "colab": {
      "gpuType": "T4",
      "provenance": []
    },
    "kernelspec": {
      "display_name": "cnn",
      "language": "python",
      "name": "python3"
    },
    "language_info": {
      "name": "python",
      "version": "3.13.3"
    }
  },
  "nbformat": 4,
  "nbformat_minor": 0
}
