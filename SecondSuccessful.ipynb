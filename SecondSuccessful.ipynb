{
  "cells": [
    {
      "cell_type": "code",
      "execution_count": 28,
      "metadata": {
        "id": "aS8eO1kBd1ls"
      },
      "outputs": [],
      "source": [
        "import torch\n",
        "import torch.nn as nn\n",
        "import torch.nn.functional as F\n",
        "\n",
        "\n",
        "dropout_value = 0.1\n",
        "\n",
        "def conv_bn_act(in_ch, out_ch, kernel=3, stride=1, padding=1, dilation=1, dropout_p=0.05):\n",
        "    return nn.Sequential(\n",
        "        nn.Conv2d(in_ch, out_ch, kernel_size=kernel, stride=stride,\n",
        "                  padding=padding, dilation=dilation, bias=False),\n",
        "        nn.BatchNorm2d(out_ch),\n",
        "        nn.ReLU(inplace=True),\n",
        "        nn.Dropout(dropout_p)\n",
        "    )\n",
        "\n",
        "def dws_bn_act(in_ch, out_ch, kernel_size=3, stride=1, padding=1, dilation=1,dropout_p=0.05):\n",
        "    return nn.Sequential(\n",
        "        nn.Conv2d(in_ch, in_ch, kernel_size=kernel_size, stride=stride,\n",
        "                            padding=padding, dilation=dilation, groups=in_ch, bias=False),\n",
        "        nn.Conv2d(in_ch, out_ch, kernel_size=1, stride=1, padding=0, bias=False),\n",
        "        nn.BatchNorm2d(out_ch),\n",
        "        nn.ReLU(inplace=True),\n",
        "        nn.Dropout(dropout_p)\n",
        "    )\n",
        "\n",
        "class Model1(nn.Module):\n",
        "    def __init__(self, num_classes):\n",
        "        super(Model1, self).__init__()\n",
        "\n",
        "        # CONVOLUTION BLOCK 1\n",
        "        self.c1_1 = conv_bn_act(3, 32, kernel=3, stride=1, padding=1, dilation=1)\n",
        "        self.c1_2 = conv_bn_act(32, 64, kernel=3, stride=2, padding=1, dilation=1)\n",
        "        self.onexonec1_1 = conv_bn_act(64, 32, kernel=1, stride=1, padding=0, dilation=1)\n",
        "\n",
        "        # CONVOLUTION BLOCK 2\n",
        "        self.c2_1 = conv_bn_act(32, 64, kernel=3, stride=1, padding=1, dilation=1)\n",
        "        self.c2_2 = dws_bn_act(64, 32, kernel_size=3, stride=2, padding=1, dilation=1)\n",
        "        #self.onexonec2_1 = conv_bn_act(64, 32, kernel=1, stride=1, padding=0, dilation=1)\n",
        "\n",
        "        # CONVOLUTION BLOCK 3\n",
        "        self.c3_1 = conv_bn_act(32, 64, kernel=3, stride=1, padding=1, dilation=1)\n",
        "        self.c3_2 = conv_bn_act(64, 64, kernel=3, stride=2, padding=1, dilation=1)\n",
        "        self.onexonec3_1 = conv_bn_act(64, 32, kernel=1, stride=1, padding=0, dilation=1)\n",
        "\n",
        "        # CONVOLUTION BLOCK 4\n",
        "        self.c4 = conv_bn_act(32, 64, kernel=3, stride=1, padding=1, dilation=1)\n",
        "        self.c5 = conv_bn_act(64, 64, kernel=3, stride=1, padding=1, dilation=2)\n",
        "\n",
        "        # OUTPUT BLOCK\n",
        "        self.gap = nn.AdaptiveAvgPool2d(1)\n",
        "        self.fc = nn.Linear(64, num_classes)\n",
        "\n",
        "\n",
        "    def forward(self, x):\n",
        "        # Block 1\n",
        "        x = self.c1_1(x)\n",
        "        x = self.c1_2(x)\n",
        "        x = self.onexonec1_1(x)\n",
        "\n",
        "        # Block 2\n",
        "        x = self.c2_1(x)\n",
        "        x = self.c2_2(x)\n",
        "        #x = self.onexonec2_1(x)\n",
        "\n",
        "        # Block 3\n",
        "        x = self.c3_1(x)\n",
        "        x = self.c3_2(x)\n",
        "        x = self.onexonec3_1(x)\n",
        "\n",
        "        # Block 4 (dilated)\n",
        "        x = self.c4(x)\n",
        "        x = self.c5(x)\n",
        "\n",
        "        # Output Block\n",
        "        x = self.gap(x)\n",
        "        x = torch.flatten(x, 1)\n",
        "        x = self.fc(x)\n",
        "        # x = x.view(-1, 10)\n",
        "        return x"
      ]
    },
    {
      "cell_type": "code",
      "execution_count": 29,
      "metadata": {
        "id": "N9gX3ovie_8T"
      },
      "outputs": [],
      "source": [
        "import matplotlib.pyplot as plt\n",
        "\n",
        "\n",
        "def plot_metrics(train_losses, test_losses, train_acc, test_acc):\n",
        "    epochs = range(1, len(train_acc) + 1)\n",
        "\n",
        "    # ----------------------\n",
        "    # Plot Train Loss\n",
        "    # ----------------------\n",
        "    plt.figure(figsize=(8, 5))\n",
        "    plt.plot(epochs, train_losses, 'b-', label='Train Loss')\n",
        "    plt.xlabel('Iteration')\n",
        "    plt.ylabel('Loss')\n",
        "    plt.title('Train Loss')\n",
        "    plt.legend()\n",
        "    plt.grid(True)\n",
        "    plt.show()\n",
        "\n",
        "    # ----------------------\n",
        "    # Plot Test Loss\n",
        "    # ----------------------\n",
        "    plt.figure(figsize=(8, 5))\n",
        "    plt.plot(epochs, test_losses, 'r-', label='Test Loss')\n",
        "    plt.xlabel('Epoch')\n",
        "    plt.ylabel('Loss')\n",
        "    plt.title('Test Loss')\n",
        "    plt.legend()\n",
        "    plt.grid(True)\n",
        "    plt.show()\n",
        "\n",
        "    # ----------------------\n",
        "    # Plot Train Accuracy\n",
        "    # ----------------------\n",
        "    plt.figure(figsize=(8, 5))\n",
        "    plt.plot(epochs, train_acc, 'g-', label='Train Accuracy')\n",
        "    plt.xlabel('Iteration')\n",
        "    plt.ylabel('Accuracy (%)')\n",
        "    plt.title('Train Accuracy')\n",
        "    plt.legend()\n",
        "    plt.grid(True)\n",
        "    plt.show()\n",
        "\n",
        "    # ----------------------\n",
        "    # Plot Test Accuracy\n",
        "    # ----------------------\n",
        "    plt.figure(figsize=(8, 5))\n",
        "    plt.plot(epochs, test_acc, 'm-', label='Test Accuracy')\n",
        "    plt.xlabel('Epoch')\n",
        "    plt.ylabel('Accuracy (%)')\n",
        "    plt.title('Test Accuracy')\n",
        "    plt.legend()\n",
        "    plt.grid(True)\n",
        "    plt.show()"
      ]
    },
    {
      "cell_type": "code",
      "execution_count": 30,
      "metadata": {
        "colab": {
          "base_uri": "https://localhost:8080/",
          "height": 1000
        },
        "id": "IQZSMBEgfCtc",
        "outputId": "1bf0a252-b513-4c06-e37f-d57efa607c4f"
      },
      "outputs": [
        {
          "name": "stdout",
          "output_type": "stream",
          "text": [
            "CUDA Available? True\n",
            "Using device: cuda\n",
            "----------------------------------------------------------------\n",
            "        Layer (type)               Output Shape         Param #\n",
            "================================================================\n",
            "            Conv2d-1           [-1, 32, 32, 32]             864\n",
            "       BatchNorm2d-2           [-1, 32, 32, 32]              64\n",
            "              ReLU-3           [-1, 32, 32, 32]               0\n",
            "           Dropout-4           [-1, 32, 32, 32]               0\n",
            "            Conv2d-5           [-1, 64, 16, 16]          18,432\n",
            "       BatchNorm2d-6           [-1, 64, 16, 16]             128\n",
            "              ReLU-7           [-1, 64, 16, 16]               0\n",
            "           Dropout-8           [-1, 64, 16, 16]               0\n",
            "            Conv2d-9           [-1, 32, 16, 16]           2,048\n",
            "      BatchNorm2d-10           [-1, 32, 16, 16]              64\n",
            "             ReLU-11           [-1, 32, 16, 16]               0\n",
            "          Dropout-12           [-1, 32, 16, 16]               0\n",
            "           Conv2d-13           [-1, 64, 16, 16]          18,432\n",
            "      BatchNorm2d-14           [-1, 64, 16, 16]             128\n",
            "             ReLU-15           [-1, 64, 16, 16]               0\n",
            "          Dropout-16           [-1, 64, 16, 16]               0\n",
            "           Conv2d-17             [-1, 64, 8, 8]             576\n",
            "           Conv2d-18             [-1, 32, 8, 8]           2,048\n",
            "      BatchNorm2d-19             [-1, 32, 8, 8]              64\n",
            "             ReLU-20             [-1, 32, 8, 8]               0\n",
            "          Dropout-21             [-1, 32, 8, 8]               0\n",
            "           Conv2d-22             [-1, 64, 8, 8]          18,432\n",
            "      BatchNorm2d-23             [-1, 64, 8, 8]             128\n",
            "             ReLU-24             [-1, 64, 8, 8]               0\n",
            "          Dropout-25             [-1, 64, 8, 8]               0\n",
            "           Conv2d-26             [-1, 64, 4, 4]          36,864\n",
            "      BatchNorm2d-27             [-1, 64, 4, 4]             128\n",
            "             ReLU-28             [-1, 64, 4, 4]               0\n",
            "          Dropout-29             [-1, 64, 4, 4]               0\n",
            "           Conv2d-30             [-1, 32, 4, 4]           2,048\n",
            "      BatchNorm2d-31             [-1, 32, 4, 4]              64\n",
            "             ReLU-32             [-1, 32, 4, 4]               0\n",
            "          Dropout-33             [-1, 32, 4, 4]               0\n",
            "           Conv2d-34             [-1, 64, 4, 4]          18,432\n",
            "      BatchNorm2d-35             [-1, 64, 4, 4]             128\n",
            "             ReLU-36             [-1, 64, 4, 4]               0\n",
            "          Dropout-37             [-1, 64, 4, 4]               0\n",
            "           Conv2d-38             [-1, 64, 2, 2]          36,864\n",
            "      BatchNorm2d-39             [-1, 64, 2, 2]             128\n",
            "             ReLU-40             [-1, 64, 2, 2]               0\n",
            "          Dropout-41             [-1, 64, 2, 2]               0\n",
            "AdaptiveAvgPool2d-42             [-1, 64, 1, 1]               0\n",
            "           Linear-43                   [-1, 10]             650\n",
            "================================================================\n",
            "Total params: 156,714\n",
            "Trainable params: 156,714\n",
            "Non-trainable params: 0\n",
            "----------------------------------------------------------------\n",
            "Input size (MB): 0.01\n",
            "Forward/backward pass size (MB): 2.56\n",
            "Params size (MB): 0.60\n",
            "Estimated Total Size (MB): 3.16\n",
            "----------------------------------------------------------------\n",
            "\n",
            "EPOCH: 1\n"
          ]
        },
        {
          "name": "stderr",
          "output_type": "stream",
          "text": [
            "Epoch=1 Loss=1.9529 Accuracy=19.27: 100%|██████████| 391/391 [00:17<00:00, 21.80it/s]\n"
          ]
        },
        {
          "name": "stdout",
          "output_type": "stream",
          "text": [
            "\n",
            "Test set: Average loss: 0.0156, Accuracy: 2658/10000 (26.58%)\n",
            "\n",
            "found perfect model!!\n",
            "Saved best model (acc=26.58%) to best_model.pth\n",
            "\n",
            "EPOCH: 2\n"
          ]
        },
        {
          "name": "stderr",
          "output_type": "stream",
          "text": [
            "Epoch=2 Loss=1.8613 Accuracy=30.66: 100%|██████████| 391/391 [00:18<00:00, 21.02it/s]\n"
          ]
        },
        {
          "name": "stdout",
          "output_type": "stream",
          "text": [
            "\n",
            "Test set: Average loss: 0.0137, Accuracy: 3659/10000 (36.59%)\n",
            "\n",
            "found perfect model!!\n",
            "Saved best model (acc=36.59%) to best_model.pth\n",
            "\n",
            "EPOCH: 3\n"
          ]
        },
        {
          "name": "stderr",
          "output_type": "stream",
          "text": [
            "Epoch=3 Loss=1.7675 Accuracy=37.03: 100%|██████████| 391/391 [00:17<00:00, 22.02it/s]\n"
          ]
        },
        {
          "name": "stdout",
          "output_type": "stream",
          "text": [
            "\n",
            "Test set: Average loss: 0.0123, Accuracy: 4339/10000 (43.39%)\n",
            "\n",
            "found perfect model!!\n",
            "Saved best model (acc=43.39%) to best_model.pth\n",
            "\n",
            "EPOCH: 4\n"
          ]
        },
        {
          "name": "stderr",
          "output_type": "stream",
          "text": [
            "Epoch=4 Loss=1.4366 Accuracy=42.62: 100%|██████████| 391/391 [00:18<00:00, 21.41it/s]\n"
          ]
        },
        {
          "name": "stdout",
          "output_type": "stream",
          "text": [
            "\n",
            "Test set: Average loss: 0.0108, Accuracy: 4906/10000 (49.06%)\n",
            "\n",
            "found perfect model!!\n",
            "Saved best model (acc=49.06%) to best_model.pth\n",
            "\n",
            "EPOCH: 5\n"
          ]
        },
        {
          "name": "stderr",
          "output_type": "stream",
          "text": [
            "Epoch=5 Loss=1.3381 Accuracy=46.84: 100%|██████████| 391/391 [00:17<00:00, 22.15it/s]\n"
          ]
        },
        {
          "name": "stdout",
          "output_type": "stream",
          "text": [
            "\n",
            "Test set: Average loss: 0.0100, Accuracy: 5380/10000 (53.80%)\n",
            "\n",
            "found perfect model!!\n",
            "Saved best model (acc=53.80%) to best_model.pth\n",
            "\n",
            "EPOCH: 6\n"
          ]
        },
        {
          "name": "stderr",
          "output_type": "stream",
          "text": [
            "Epoch=6 Loss=1.2481 Accuracy=50.84: 100%|██████████| 391/391 [00:18<00:00, 20.75it/s]\n"
          ]
        },
        {
          "name": "stdout",
          "output_type": "stream",
          "text": [
            "\n",
            "Test set: Average loss: 0.0092, Accuracy: 5824/10000 (58.24%)\n",
            "\n",
            "found perfect model!!\n",
            "Saved best model (acc=58.24%) to best_model.pth\n",
            "\n",
            "EPOCH: 7\n"
          ]
        },
        {
          "name": "stderr",
          "output_type": "stream",
          "text": [
            "Epoch=7 Loss=1.1447 Accuracy=53.87: 100%|██████████| 391/391 [00:17<00:00, 22.13it/s]\n"
          ]
        },
        {
          "name": "stdout",
          "output_type": "stream",
          "text": [
            "\n",
            "Test set: Average loss: 0.0088, Accuracy: 6025/10000 (60.25%)\n",
            "\n",
            "found perfect model!!\n",
            "Saved best model (acc=60.25%) to best_model.pth\n",
            "\n",
            "EPOCH: 8\n"
          ]
        },
        {
          "name": "stderr",
          "output_type": "stream",
          "text": [
            "Epoch=8 Loss=1.0814 Accuracy=56.90: 100%|██████████| 391/391 [00:19<00:00, 20.21it/s]\n"
          ]
        },
        {
          "name": "stdout",
          "output_type": "stream",
          "text": [
            "\n",
            "Test set: Average loss: 0.0079, Accuracy: 6422/10000 (64.22%)\n",
            "\n",
            "found perfect model!!\n",
            "Saved best model (acc=64.22%) to best_model.pth\n",
            "\n",
            "EPOCH: 9\n"
          ]
        },
        {
          "name": "stderr",
          "output_type": "stream",
          "text": [
            "Epoch=9 Loss=1.1488 Accuracy=59.40: 100%|██████████| 391/391 [00:17<00:00, 22.08it/s]\n"
          ]
        },
        {
          "name": "stdout",
          "output_type": "stream",
          "text": [
            "\n",
            "Test set: Average loss: 0.0074, Accuracy: 6693/10000 (66.93%)\n",
            "\n",
            "found perfect model!!\n",
            "Saved best model (acc=66.93%) to best_model.pth\n",
            "\n",
            "EPOCH: 10\n"
          ]
        },
        {
          "name": "stderr",
          "output_type": "stream",
          "text": [
            "Epoch=10 Loss=1.0479 Accuracy=61.86: 100%|██████████| 391/391 [00:18<00:00, 20.98it/s]\n"
          ]
        },
        {
          "name": "stdout",
          "output_type": "stream",
          "text": [
            "\n",
            "Test set: Average loss: 0.0071, Accuracy: 6781/10000 (67.81%)\n",
            "\n",
            "found perfect model!!\n",
            "Saved best model (acc=67.81%) to best_model.pth\n",
            "\n",
            "EPOCH: 11\n"
          ]
        },
        {
          "name": "stderr",
          "output_type": "stream",
          "text": [
            "Epoch=11 Loss=0.9079 Accuracy=63.61: 100%|██████████| 391/391 [00:17<00:00, 21.86it/s]\n"
          ]
        },
        {
          "name": "stdout",
          "output_type": "stream",
          "text": [
            "\n",
            "Test set: Average loss: 0.0072, Accuracy: 6724/10000 (67.24%)\n",
            "\n",
            "\n",
            "EPOCH: 12\n"
          ]
        },
        {
          "name": "stderr",
          "output_type": "stream",
          "text": [
            "Epoch=12 Loss=1.0141 Accuracy=65.03: 100%|██████████| 391/391 [00:18<00:00, 20.99it/s]\n"
          ]
        },
        {
          "name": "stdout",
          "output_type": "stream",
          "text": [
            "\n",
            "Test set: Average loss: 0.0069, Accuracy: 6934/10000 (69.34%)\n",
            "\n",
            "found perfect model!!\n",
            "Saved best model (acc=69.34%) to best_model.pth\n",
            "\n",
            "EPOCH: 13\n"
          ]
        },
        {
          "name": "stderr",
          "output_type": "stream",
          "text": [
            "Epoch=13 Loss=0.9654 Accuracy=66.36: 100%|██████████| 391/391 [00:17<00:00, 22.04it/s]\n"
          ]
        },
        {
          "name": "stdout",
          "output_type": "stream",
          "text": [
            "\n",
            "Test set: Average loss: 0.0060, Accuracy: 7310/10000 (73.10%)\n",
            "\n",
            "found perfect model!!\n",
            "Saved best model (acc=73.10%) to best_model.pth\n",
            "\n",
            "EPOCH: 14\n"
          ]
        },
        {
          "name": "stderr",
          "output_type": "stream",
          "text": [
            "Epoch=14 Loss=0.7606 Accuracy=67.68: 100%|██████████| 391/391 [00:18<00:00, 20.89it/s]\n"
          ]
        },
        {
          "name": "stdout",
          "output_type": "stream",
          "text": [
            "\n",
            "Test set: Average loss: 0.0062, Accuracy: 7264/10000 (72.64%)\n",
            "\n",
            "\n",
            "EPOCH: 15\n"
          ]
        },
        {
          "name": "stderr",
          "output_type": "stream",
          "text": [
            "Epoch=15 Loss=0.8667 Accuracy=68.16: 100%|██████████| 391/391 [00:17<00:00, 21.98it/s]\n"
          ]
        },
        {
          "name": "stdout",
          "output_type": "stream",
          "text": [
            "\n",
            "Test set: Average loss: 0.0057, Accuracy: 7474/10000 (74.74%)\n",
            "\n",
            "found perfect model!!\n",
            "Saved best model (acc=74.74%) to best_model.pth\n",
            "\n",
            "EPOCH: 16\n"
          ]
        },
        {
          "name": "stderr",
          "output_type": "stream",
          "text": [
            "Epoch=16 Loss=0.8369 Accuracy=68.92: 100%|██████████| 391/391 [00:18<00:00, 21.39it/s]\n"
          ]
        },
        {
          "name": "stdout",
          "output_type": "stream",
          "text": [
            "\n",
            "Test set: Average loss: 0.0053, Accuracy: 7651/10000 (76.51%)\n",
            "\n",
            "found perfect model!!\n",
            "Saved best model (acc=76.51%) to best_model.pth\n",
            "\n",
            "EPOCH: 17\n"
          ]
        },
        {
          "name": "stderr",
          "output_type": "stream",
          "text": [
            "Epoch=17 Loss=0.9107 Accuracy=69.80: 100%|██████████| 391/391 [00:17<00:00, 22.26it/s]\n"
          ]
        },
        {
          "name": "stdout",
          "output_type": "stream",
          "text": [
            "\n",
            "Test set: Average loss: 0.0051, Accuracy: 7759/10000 (77.59%)\n",
            "\n",
            "found perfect model!!\n",
            "Saved best model (acc=77.59%) to best_model.pth\n",
            "\n",
            "EPOCH: 18\n"
          ]
        },
        {
          "name": "stderr",
          "output_type": "stream",
          "text": [
            "Epoch=18 Loss=0.9473 Accuracy=70.56: 100%|██████████| 391/391 [00:17<00:00, 21.83it/s]\n"
          ]
        },
        {
          "name": "stdout",
          "output_type": "stream",
          "text": [
            "\n",
            "Test set: Average loss: 0.0048, Accuracy: 7903/10000 (79.03%)\n",
            "\n",
            "found perfect model!!\n",
            "Saved best model (acc=79.03%) to best_model.pth\n",
            "\n",
            "EPOCH: 19\n"
          ]
        },
        {
          "name": "stderr",
          "output_type": "stream",
          "text": [
            "Epoch=19 Loss=0.8002 Accuracy=71.07: 100%|██████████| 391/391 [00:18<00:00, 21.72it/s]\n"
          ]
        },
        {
          "name": "stdout",
          "output_type": "stream",
          "text": [
            "\n",
            "Test set: Average loss: 0.0048, Accuracy: 7939/10000 (79.39%)\n",
            "\n",
            "found perfect model!!\n",
            "Saved best model (acc=79.39%) to best_model.pth\n",
            "\n",
            "EPOCH: 20\n"
          ]
        },
        {
          "name": "stderr",
          "output_type": "stream",
          "text": [
            "Epoch=20 Loss=0.7656 Accuracy=71.77: 100%|██████████| 391/391 [00:17<00:00, 22.07it/s]\n"
          ]
        },
        {
          "name": "stdout",
          "output_type": "stream",
          "text": [
            "\n",
            "Test set: Average loss: 0.0050, Accuracy: 7807/10000 (78.07%)\n",
            "\n",
            "\n",
            "EPOCH: 21\n"
          ]
        },
        {
          "name": "stderr",
          "output_type": "stream",
          "text": [
            "Epoch=21 Loss=0.6373 Accuracy=72.55: 100%|██████████| 391/391 [00:18<00:00, 21.03it/s]\n"
          ]
        },
        {
          "name": "stdout",
          "output_type": "stream",
          "text": [
            "\n",
            "Test set: Average loss: 0.0048, Accuracy: 7880/10000 (78.80%)\n",
            "\n",
            "\n",
            "EPOCH: 22\n"
          ]
        },
        {
          "name": "stderr",
          "output_type": "stream",
          "text": [
            "Epoch=22 Loss=0.9156 Accuracy=73.05: 100%|██████████| 391/391 [00:17<00:00, 22.05it/s]\n"
          ]
        },
        {
          "name": "stdout",
          "output_type": "stream",
          "text": [
            "\n",
            "Test set: Average loss: 0.0045, Accuracy: 8017/10000 (80.17%)\n",
            "\n",
            "found perfect model!!\n",
            "Saved best model (acc=80.17%) to best_model.pth\n",
            "\n",
            "EPOCH: 23\n"
          ]
        },
        {
          "name": "stderr",
          "output_type": "stream",
          "text": [
            "Epoch=23 Loss=0.7645 Accuracy=73.39: 100%|██████████| 391/391 [00:18<00:00, 20.79it/s]\n"
          ]
        },
        {
          "name": "stdout",
          "output_type": "stream",
          "text": [
            "\n",
            "Test set: Average loss: 0.0050, Accuracy: 7853/10000 (78.53%)\n",
            "\n",
            "\n",
            "EPOCH: 24\n"
          ]
        },
        {
          "name": "stderr",
          "output_type": "stream",
          "text": [
            "Epoch=24 Loss=0.9480 Accuracy=73.78: 100%|██████████| 391/391 [00:17<00:00, 21.95it/s]\n"
          ]
        },
        {
          "name": "stdout",
          "output_type": "stream",
          "text": [
            "\n",
            "Test set: Average loss: 0.0044, Accuracy: 8084/10000 (80.84%)\n",
            "\n",
            "found perfect model!!\n",
            "Saved best model (acc=80.84%) to best_model.pth\n",
            "\n",
            "EPOCH: 25\n"
          ]
        },
        {
          "name": "stderr",
          "output_type": "stream",
          "text": [
            "Epoch=25 Loss=0.7726 Accuracy=74.04: 100%|██████████| 391/391 [00:18<00:00, 20.87it/s]\n"
          ]
        },
        {
          "name": "stdout",
          "output_type": "stream",
          "text": [
            "\n",
            "Test set: Average loss: 0.0045, Accuracy: 8067/10000 (80.67%)\n",
            "\n",
            "\n",
            "EPOCH: 26\n"
          ]
        },
        {
          "name": "stderr",
          "output_type": "stream",
          "text": [
            "Epoch=26 Loss=0.6494 Accuracy=74.48: 100%|██████████| 391/391 [00:17<00:00, 22.01it/s]\n"
          ]
        },
        {
          "name": "stdout",
          "output_type": "stream",
          "text": [
            "\n",
            "Test set: Average loss: 0.0042, Accuracy: 8157/10000 (81.57%)\n",
            "\n",
            "found perfect model!!\n",
            "Saved best model (acc=81.57%) to best_model.pth\n",
            "\n",
            "EPOCH: 27\n"
          ]
        },
        {
          "name": "stderr",
          "output_type": "stream",
          "text": [
            "Epoch=27 Loss=0.7419 Accuracy=74.74: 100%|██████████| 391/391 [00:18<00:00, 20.63it/s]\n"
          ]
        },
        {
          "name": "stdout",
          "output_type": "stream",
          "text": [
            "\n",
            "Test set: Average loss: 0.0044, Accuracy: 8052/10000 (80.52%)\n",
            "\n",
            "\n",
            "EPOCH: 28\n"
          ]
        },
        {
          "name": "stderr",
          "output_type": "stream",
          "text": [
            "Epoch=28 Loss=0.8597 Accuracy=75.19: 100%|██████████| 391/391 [00:17<00:00, 22.02it/s]\n"
          ]
        },
        {
          "name": "stdout",
          "output_type": "stream",
          "text": [
            "\n",
            "Test set: Average loss: 0.0042, Accuracy: 8200/10000 (82.00%)\n",
            "\n",
            "found perfect model!!\n",
            "Saved best model (acc=82.00%) to best_model.pth\n",
            "\n",
            "EPOCH: 29\n"
          ]
        },
        {
          "name": "stderr",
          "output_type": "stream",
          "text": [
            "Epoch=29 Loss=0.6548 Accuracy=75.28: 100%|██████████| 391/391 [00:18<00:00, 20.71it/s]\n"
          ]
        },
        {
          "name": "stdout",
          "output_type": "stream",
          "text": [
            "\n",
            "Test set: Average loss: 0.0043, Accuracy: 8100/10000 (81.00%)\n",
            "\n",
            "\n",
            "EPOCH: 30\n"
          ]
        },
        {
          "name": "stderr",
          "output_type": "stream",
          "text": [
            "Epoch=30 Loss=0.6823 Accuracy=75.81: 100%|██████████| 391/391 [00:17<00:00, 21.88it/s]\n"
          ]
        },
        {
          "name": "stdout",
          "output_type": "stream",
          "text": [
            "\n",
            "Test set: Average loss: 0.0039, Accuracy: 8255/10000 (82.55%)\n",
            "\n",
            "found perfect model!!\n",
            "Saved best model (acc=82.55%) to best_model.pth\n",
            "\n",
            "EPOCH: 31\n"
          ]
        },
        {
          "name": "stderr",
          "output_type": "stream",
          "text": [
            "Epoch=31 Loss=0.7893 Accuracy=75.97: 100%|██████████| 391/391 [00:18<00:00, 20.79it/s]\n"
          ]
        },
        {
          "name": "stdout",
          "output_type": "stream",
          "text": [
            "\n",
            "Test set: Average loss: 0.0039, Accuracy: 8302/10000 (83.02%)\n",
            "\n",
            "found perfect model!!\n",
            "Saved best model (acc=83.02%) to best_model.pth\n",
            "\n",
            "EPOCH: 32\n"
          ]
        },
        {
          "name": "stderr",
          "output_type": "stream",
          "text": [
            "Epoch=32 Loss=0.6393 Accuracy=76.29: 100%|██████████| 391/391 [00:17<00:00, 22.10it/s]\n"
          ]
        },
        {
          "name": "stdout",
          "output_type": "stream",
          "text": [
            "\n",
            "Test set: Average loss: 0.0039, Accuracy: 8280/10000 (82.80%)\n",
            "\n",
            "\n",
            "EPOCH: 33\n"
          ]
        },
        {
          "name": "stderr",
          "output_type": "stream",
          "text": [
            "Epoch=33 Loss=0.7367 Accuracy=76.44: 100%|██████████| 391/391 [00:18<00:00, 21.15it/s]\n"
          ]
        },
        {
          "name": "stdout",
          "output_type": "stream",
          "text": [
            "\n",
            "Test set: Average loss: 0.0041, Accuracy: 8267/10000 (82.67%)\n",
            "\n",
            "\n",
            "EPOCH: 34\n"
          ]
        },
        {
          "name": "stderr",
          "output_type": "stream",
          "text": [
            "Epoch=34 Loss=0.7856 Accuracy=76.66: 100%|██████████| 391/391 [00:17<00:00, 21.91it/s]\n"
          ]
        },
        {
          "name": "stdout",
          "output_type": "stream",
          "text": [
            "\n",
            "Test set: Average loss: 0.0039, Accuracy: 8315/10000 (83.15%)\n",
            "\n",
            "found perfect model!!\n",
            "Saved best model (acc=83.15%) to best_model.pth\n",
            "\n",
            "EPOCH: 35\n"
          ]
        },
        {
          "name": "stderr",
          "output_type": "stream",
          "text": [
            "Epoch=35 Loss=0.6380 Accuracy=76.87: 100%|██████████| 391/391 [00:18<00:00, 20.81it/s]\n"
          ]
        },
        {
          "name": "stdout",
          "output_type": "stream",
          "text": [
            "\n",
            "Test set: Average loss: 0.0038, Accuracy: 8327/10000 (83.27%)\n",
            "\n",
            "found perfect model!!\n",
            "Saved best model (acc=83.27%) to best_model.pth\n",
            "\n",
            "EPOCH: 36\n"
          ]
        },
        {
          "name": "stderr",
          "output_type": "stream",
          "text": [
            "Epoch=36 Loss=0.4856 Accuracy=77.23: 100%|██████████| 391/391 [00:18<00:00, 21.40it/s]\n"
          ]
        },
        {
          "name": "stdout",
          "output_type": "stream",
          "text": [
            "\n",
            "Test set: Average loss: 0.0039, Accuracy: 8328/10000 (83.28%)\n",
            "\n",
            "found perfect model!!\n",
            "Saved best model (acc=83.28%) to best_model.pth\n",
            "\n",
            "EPOCH: 37\n"
          ]
        },
        {
          "name": "stderr",
          "output_type": "stream",
          "text": [
            "Epoch=37 Loss=0.4203 Accuracy=77.30: 100%|██████████| 391/391 [00:19<00:00, 20.39it/s]\n"
          ]
        },
        {
          "name": "stdout",
          "output_type": "stream",
          "text": [
            "\n",
            "Test set: Average loss: 0.0037, Accuracy: 8431/10000 (84.31%)\n",
            "\n",
            "found perfect model!!\n",
            "Saved best model (acc=84.31%) to best_model.pth\n",
            "\n",
            "EPOCH: 38\n"
          ]
        },
        {
          "name": "stderr",
          "output_type": "stream",
          "text": [
            "Epoch=38 Loss=0.7004 Accuracy=77.92: 100%|██████████| 391/391 [00:18<00:00, 21.32it/s]\n"
          ]
        },
        {
          "name": "stdout",
          "output_type": "stream",
          "text": [
            "\n",
            "Test set: Average loss: 0.0036, Accuracy: 8414/10000 (84.14%)\n",
            "\n",
            "\n",
            "EPOCH: 39\n"
          ]
        },
        {
          "name": "stderr",
          "output_type": "stream",
          "text": [
            "Epoch=39 Loss=0.6069 Accuracy=78.06: 100%|██████████| 391/391 [00:18<00:00, 20.62it/s]\n"
          ]
        },
        {
          "name": "stdout",
          "output_type": "stream",
          "text": [
            "\n",
            "Test set: Average loss: 0.0038, Accuracy: 8341/10000 (83.41%)\n",
            "\n",
            "\n",
            "EPOCH: 40\n"
          ]
        },
        {
          "name": "stderr",
          "output_type": "stream",
          "text": [
            "Epoch=40 Loss=0.4174 Accuracy=77.86: 100%|██████████| 391/391 [00:18<00:00, 21.12it/s]\n"
          ]
        },
        {
          "name": "stdout",
          "output_type": "stream",
          "text": [
            "\n",
            "Test set: Average loss: 0.0038, Accuracy: 8364/10000 (83.64%)\n",
            "\n",
            "\n",
            "EPOCH: 41\n"
          ]
        },
        {
          "name": "stderr",
          "output_type": "stream",
          "text": [
            "Epoch=41 Loss=0.7069 Accuracy=78.36: 100%|██████████| 391/391 [00:19<00:00, 20.04it/s]\n"
          ]
        },
        {
          "name": "stdout",
          "output_type": "stream",
          "text": [
            "\n",
            "Test set: Average loss: 0.0039, Accuracy: 8347/10000 (83.47%)\n",
            "\n",
            "\n",
            "EPOCH: 42\n"
          ]
        },
        {
          "name": "stderr",
          "output_type": "stream",
          "text": [
            "Epoch=42 Loss=0.5097 Accuracy=78.71: 100%|██████████| 391/391 [00:18<00:00, 21.39it/s]\n"
          ]
        },
        {
          "name": "stdout",
          "output_type": "stream",
          "text": [
            "\n",
            "Test set: Average loss: 0.0036, Accuracy: 8411/10000 (84.11%)\n",
            "\n",
            "\n",
            "EPOCH: 43\n"
          ]
        },
        {
          "name": "stderr",
          "output_type": "stream",
          "text": [
            "Epoch=43 Loss=0.6240 Accuracy=78.54: 100%|██████████| 391/391 [00:19<00:00, 19.93it/s]\n"
          ]
        },
        {
          "name": "stdout",
          "output_type": "stream",
          "text": [
            "\n",
            "Test set: Average loss: 0.0035, Accuracy: 8494/10000 (84.94%)\n",
            "\n",
            "found perfect model!!\n",
            "Saved best model (acc=84.94%) to best_model.pth\n",
            "\n",
            "EPOCH: 44\n"
          ]
        },
        {
          "name": "stderr",
          "output_type": "stream",
          "text": [
            "Epoch=44 Loss=0.5916 Accuracy=79.06: 100%|██████████| 391/391 [00:18<00:00, 21.29it/s]\n"
          ]
        },
        {
          "name": "stdout",
          "output_type": "stream",
          "text": [
            "\n",
            "Test set: Average loss: 0.0035, Accuracy: 8472/10000 (84.72%)\n",
            "\n",
            "\n",
            "EPOCH: 45\n"
          ]
        },
        {
          "name": "stderr",
          "output_type": "stream",
          "text": [
            "Epoch=45 Loss=0.8245 Accuracy=78.76: 100%|██████████| 391/391 [00:19<00:00, 20.20it/s]\n"
          ]
        },
        {
          "name": "stdout",
          "output_type": "stream",
          "text": [
            "\n",
            "Test set: Average loss: 0.0035, Accuracy: 8486/10000 (84.86%)\n",
            "\n",
            "\n",
            "EPOCH: 46\n"
          ]
        },
        {
          "name": "stderr",
          "output_type": "stream",
          "text": [
            "Epoch=46 Loss=0.6846 Accuracy=79.21: 100%|██████████| 391/391 [00:18<00:00, 21.23it/s]\n"
          ]
        },
        {
          "name": "stdout",
          "output_type": "stream",
          "text": [
            "\n",
            "Test set: Average loss: 0.0036, Accuracy: 8482/10000 (84.82%)\n",
            "\n",
            "\n",
            "EPOCH: 47\n"
          ]
        },
        {
          "name": "stderr",
          "output_type": "stream",
          "text": [
            "Epoch=47 Loss=0.4846 Accuracy=79.40: 100%|██████████| 391/391 [00:19<00:00, 20.06it/s]\n"
          ]
        },
        {
          "name": "stdout",
          "output_type": "stream",
          "text": [
            "\n",
            "Test set: Average loss: 0.0036, Accuracy: 8435/10000 (84.35%)\n",
            "\n",
            "\n",
            "EPOCH: 48\n"
          ]
        },
        {
          "name": "stderr",
          "output_type": "stream",
          "text": [
            "Epoch=48 Loss=0.5071 Accuracy=79.57: 100%|██████████| 391/391 [00:18<00:00, 21.47it/s]\n"
          ]
        },
        {
          "name": "stdout",
          "output_type": "stream",
          "text": [
            "\n",
            "Test set: Average loss: 0.0035, Accuracy: 8462/10000 (84.62%)\n",
            "\n",
            "\n",
            "EPOCH: 49\n"
          ]
        },
        {
          "name": "stderr",
          "output_type": "stream",
          "text": [
            "Epoch=49 Loss=0.5197 Accuracy=79.93: 100%|██████████| 391/391 [00:19<00:00, 20.18it/s]\n"
          ]
        },
        {
          "name": "stdout",
          "output_type": "stream",
          "text": [
            "\n",
            "Test set: Average loss: 0.0034, Accuracy: 8529/10000 (85.29%)\n",
            "\n",
            "found perfect model!!\n",
            "Saved best model (acc=85.29%) to best_model.pth\n",
            "-----------------------------------------\n",
            "train accuracies 49 [19.274, 30.658, 37.03, 42.622, 46.836, 50.842, 53.872, 56.898, 59.398, 61.856, 63.606, 65.03, 66.356, 67.68, 68.158, 68.916, 69.798, 70.56, 71.07, 71.768, 72.546, 73.052, 73.388, 73.784, 74.038, 74.476, 74.738, 75.194, 75.28, 75.808, 75.966, 76.286, 76.442, 76.658, 76.866, 77.232, 77.298, 77.924, 78.064, 77.856, 78.36, 78.708, 78.542, 79.064, 78.756, 79.208, 79.4, 79.566, 79.926]\n",
            "train losses 49 [843.7967319488525, 742.194667339325, 672.498405456543, 613.3597923517227, 569.9025815725327, 533.226804971695, 499.0963227748871, 468.2384566664696, 442.5828979611397, 418.0351377129555, 399.13623851537704, 383.7385153770447, 371.24620628356934, 356.9255430698395, 351.1351715326309, 341.5843279361725, 334.5348949432373, 323.60550075769424, 317.98453986644745, 311.47157222032547, 303.92007756233215, 300.7421355843544, 293.46960747241974, 292.9790475666523, 287.97859930992126, 282.33019000291824, 281.3117345571518, 276.8968617916107, 273.93783128261566, 269.5437279343605, 268.14949670434, 264.1404339969158, 262.24081006646156, 261.033260256052, 256.2272547483444, 251.9265175163746, 251.5841850042343, 246.65123745799065, 245.21623814105988, 245.5905523598194, 241.7446217238903, 239.4467470049858, 238.57865253090858, 235.4479139149189, 234.20236152410507, 231.93543073534966, 229.03118985891342, 226.63413101434708, 224.09326776862144]\n",
            "-----------------------------------------\n",
            "-----------------------------------------\n",
            "test accuracies 49 [26.58, 36.59, 43.39, 49.06, 53.8, 58.24, 60.25, 64.22, 66.93, 67.81, 67.24, 69.34, 73.1, 72.64, 74.74, 76.51, 77.59, 79.03, 79.39, 78.07, 78.8, 80.17, 78.53, 80.84, 80.67, 81.57, 80.52, 82.0, 81.0, 82.55, 83.02, 82.8, 82.67, 83.15, 83.27, 83.28, 84.31, 84.14, 83.41, 83.64, 83.47, 84.11, 84.94, 84.72, 84.86, 84.82, 84.35, 84.62, 85.29]\n",
            "test losses 49 [0.01563071506023407, 0.01368995634317398, 0.012261647176742553, 0.010831157028675079, 0.009965428292751313, 0.009162080371379852, 0.008804370588064193, 0.007895432323217391, 0.007365435111522675, 0.0071290782690048215, 0.007157150709629059, 0.006870390886068344, 0.006023808240890503, 0.006190944403409958, 0.00567841968536377, 0.005321473875641823, 0.005139805987477303, 0.0048465132594108585, 0.004812416890263557, 0.005019650420546531, 0.004772088861465454, 0.004467847687005997, 0.0050077054589986805, 0.0044457917302846905, 0.0045302249431610105, 0.004230718365311623, 0.004403185534477234, 0.004154189604520798, 0.004348513016104698, 0.003927172017097473, 0.0038960959792137145, 0.003941194200515747, 0.004054184663295746, 0.0038994283825159073, 0.003811741003394127, 0.003870745114982128, 0.003693127250671387, 0.0036316357418894767, 0.0038449374467134476, 0.003844851815700531, 0.003869921541213989, 0.003576151406764984, 0.00349130565226078, 0.0035433842301368715, 0.0035052975833415987, 0.0035607385873794558, 0.0035900612160563467, 0.00351968033015728, 0.0034230939686298372]\n",
            "-----------------------------------------\n"
          ]
        },
        {
          "data": {
            "image/png": "[encoded data removed]",
            "text/plain": [
              "<Figure size 800x500 with 1 Axes>"
            ]
          },
          "metadata": {},
          "output_type": "display_data"
        },
        {
          "data": {
            "image/png": "[encoded data removed]",
            "text/plain": [
              "<Figure size 800x500 with 1 Axes>"
            ]
          },
          "metadata": {},
          "output_type": "display_data"
        },
        {
          "data": {
            "image/png": "[encoded data removed]",
            "text/plain": [
              "<Figure size 800x500 with 1 Axes>"
            ]
          },
          "metadata": {},
          "output_type": "display_data"
        },
        {
          "data": {
            "image/png": "[encoded data removed]",
            "text/plain": [
              "<Figure size 800x500 with 1 Axes>"
            ]
          },
          "metadata": {},
          "output_type": "display_data"
        }
      ],
      "source": [
        "import torch\n",
        "import torch.nn.functional as F\n",
        "import torch.optim as optim\n",
        "import torch.nn as nn\n",
        "from torchvision import datasets, transforms\n",
        "from tqdm import tqdm\n",
        "from torchsummary import summary\n",
        "from torch.optim.lr_scheduler import StepLR\n",
        "import albumentations as A\n",
        "from albumentations.pytorch import ToTensorV2\n",
        "from torch.optim.lr_scheduler import OneCycleLR\n",
        "# from models import Model1\n",
        "# from utils import plot_metrics\n",
        "\n",
        "\n",
        "def train(model, device, train_loader, optimizer, scheduler, criterion, epoch, train_losses, train_acc):\n",
        "    model.train()\n",
        "    pbar = tqdm(train_loader)\n",
        "    correct = 0\n",
        "    processed = 0\n",
        "    train_loss = 0\n",
        "    for batch_idx, (data, target) in enumerate(pbar):\n",
        "        data, target = data.to(device), target.to(device)\n",
        "        optimizer.zero_grad()\n",
        "        y_pred = model(data)\n",
        "        loss = criterion(y_pred, target)   # expects log_softmax in model forward\n",
        "        train_loss += loss.item()\n",
        "        loss.backward()\n",
        "        optimizer.step()\n",
        "        scheduler.step()\n",
        "        # if batch_idx > 5:\n",
        "        #     break\n",
        "        pred = y_pred.argmax(dim=1, keepdim=True)\n",
        "        correct += pred.eq(target.view_as(pred)).sum().item()\n",
        "        processed += len(data)\n",
        "        acc = 100. * correct / processed\n",
        "        pbar.set_description(desc=f'Epoch={epoch} Loss={loss.item():.4f} Accuracy={acc:0.2f}')\n",
        "        #train_acc.append(acc)\n",
        "    train_losses.append(train_loss)\n",
        "    acc = 100. * correct / len(train_loader.dataset)\n",
        "    train_acc.append(acc)\n",
        "\n",
        "\n",
        "def test(model, device, test_loader, criterion, test_losses, test_acc):\n",
        "    model.eval()\n",
        "    test_loss = 0\n",
        "    correct = 0\n",
        "    with torch.no_grad():\n",
        "        for data, target in test_loader:\n",
        "            data, target = data.to(device), target.to(device)\n",
        "            output = model(data)\n",
        "            test_loss += criterion(output, target).item()\n",
        "            pred = output.argmax(dim=1, keepdim=True)\n",
        "            correct += pred.eq(target.view_as(pred)).sum().item()\n",
        "    test_loss /= len(test_loader.dataset)\n",
        "    acc = 100. * correct / len(test_loader.dataset)\n",
        "    test_losses.append(test_loss)\n",
        "    test_acc.append(acc)\n",
        "    print(f'\\nTest set: Average loss: {test_loss:.4f}, Accuracy: {correct}/{len(test_loader.dataset)} ({acc:.2f}%)\\n')\n",
        "    return acc\n",
        "\n",
        "def get_data_loaders():\n",
        "    # CIFAR-10 mean and std\n",
        "    CIFAR10_MEAN = (0.4914, 0.4822, 0.4465)\n",
        "    CIFAR10_STD  = (0.2470, 0.2435, 0.2616)\n",
        "\n",
        "\n",
        "    fill_value_pixels = tuple(int(m * 255) for m in CIFAR10_MEAN)\n",
        "\n",
        "    train_alb = A.Compose([\n",
        "        A.HorizontalFlip(p=0.5),\n",
        "         A.Affine(\n",
        "            translate_percent={\"x\": 0.0625, \"y\": 0.0625},  # shift\n",
        "            scale=(0.9, 1.1),                               # scale\n",
        "            rotate=(-15, 15),                               # rotation\n",
        "            p=0.5\n",
        "        ),\n",
        "        A.CoarseDropout(\n",
        "            num_holes_range=(1, 1),\n",
        "            hole_height_range=(16, 16),\n",
        "            hole_width_range=(16, 16),\n",
        "            fill=fill_value_pixels,\n",
        "            fill_mask=None,\n",
        "            p=0.5\n",
        "        ),\n",
        "        A.Normalize(mean=CIFAR10_MEAN, std=CIFAR10_STD),\n",
        "        ToTensorV2(),\n",
        "    ])\n",
        "\n",
        "    val_alb = A.Compose([\n",
        "        A.Normalize(mean=CIFAR10_MEAN, std=CIFAR10_STD),\n",
        "        ToTensorV2(),\n",
        "    ])\n",
        "\n",
        "    class AlbCIFAR10(datasets.CIFAR10):\n",
        "        def __init__(self, root, train=True, transform=None, download=False):\n",
        "            super().__init__(root=root, train=train, download=download)\n",
        "            self.alb_transform = transform\n",
        "\n",
        "        def __getitem__(self, index):\n",
        "            img, target = self.data[index], int(self.targets[index])\n",
        "            # img is HxWxC numpy (uint8)\n",
        "            if self.alb_transform:\n",
        "                augmented = self.alb_transform(image=img)\n",
        "                img = augmented[\"image\"]\n",
        "            else:\n",
        "                # fallback: convert to tensor and normalize\n",
        "                img = transforms.ToTensor()(img)\n",
        "            return img, target\n",
        "\n",
        "\n",
        "\n",
        "    # train_transforms = transforms.Compose([\n",
        "    #     transforms.RandomHorizontalFlip(),\n",
        "    #     transforms.RandomAffine(degrees=10, translate=(0.1, 0.1), scale=(0.9, 1.1)),\n",
        "    #     transforms.ToTensor(),\n",
        "    #     transforms.Normalize(mean, std)\n",
        "    # ])\n",
        "\n",
        "    # test_transforms = transforms.Compose([\n",
        "    #     transforms.ToTensor(),\n",
        "    #     transforms.Normalize(mean, std)\n",
        "    # ])\n",
        "\n",
        "    # train = datasets.CIFAR10('./data', train=True, download=True, transform=train_transforms)\n",
        "    # test = datasets.CIFAR10('./data', train=False, download=True, transform=test_transforms)\n",
        "\n",
        "    train = AlbCIFAR10(root='./data', train=True, transform=train_alb, download=True)\n",
        "    test   = AlbCIFAR10(root='./data', train=False, transform=val_alb, download=True)\n",
        "\n",
        "    SEED = 1\n",
        "    cuda = torch.cuda.is_available()\n",
        "    print(\"CUDA Available?\", cuda)\n",
        "    torch.manual_seed(SEED)\n",
        "    if cuda:\n",
        "        torch.cuda.manual_seed(SEED)\n",
        "\n",
        "    dataloader_args = dict(shuffle=True, batch_size=128, num_workers=4, pin_memory=True) if cuda \\\n",
        "                      else dict(shuffle=True, batch_size=64)\n",
        "    train_loader = torch.utils.data.DataLoader(train, **dataloader_args)\n",
        "    test_loader = torch.utils.data.DataLoader(test, **dataloader_args)\n",
        "    return train_loader, test_loader, cuda\n",
        "\n",
        "def perform_training():\n",
        "    train_loader, test_loader, use_cuda = get_data_loaders()\n",
        "    device = torch.device(\"cuda\" if use_cuda else \"cpu\")\n",
        "    print(\"Using device:\", device)\n",
        "\n",
        "    number_of_classes = 10\n",
        "    model = Model1(number_of_classes).to(device)\n",
        "    summary(model, input_size=(3, 32, 32))  # CIFAR-10 input size\n",
        "\n",
        "    # return\n",
        "    #optimizer = optim.SGD(model.parameters(), lr=0.02, momentum=0.9)\n",
        "    # optimizer = torch.optim.Adam(model.parameters(), lr=1e-4, weight_decay=1e-4)\n",
        "\n",
        "    # scheduler = StepLR(optimizer, step_size=20, gamma=0.1)\n",
        "\n",
        "    criterion = nn.CrossEntropyLoss()\n",
        "    optimizer = optim.Adam(model.parameters(), lr=1e-3, weight_decay=1e-4)\n",
        "    EPOCHS = 80\n",
        "    scheduler = OneCycleLR(\n",
        "        optimizer,\n",
        "        max_lr=1e-3,\n",
        "        steps_per_epoch=len(train_loader),\n",
        "\n",
        "        epochs=EPOCHS,\n",
        "        pct_start=0.2,\n",
        "        anneal_strategy=\"cos\",\n",
        "    )\n",
        "\n",
        "    EPOCHS = 100\n",
        "    SAVE_PATH = \"best_model.pth\"\n",
        "\n",
        "    train_losses, test_losses, train_acc, test_acc = [], [], [], []\n",
        "    best_val_acc = 0.0\n",
        "\n",
        "    for epoch in range(1, EPOCHS + 1):\n",
        "        print(f\"\\nEPOCH: {epoch}\")\n",
        "        train(model, device, train_loader, optimizer, scheduler, criterion, epoch, train_losses, train_acc)\n",
        "        current_test_acc = test(model, device, test_loader, criterion, test_losses, test_acc)\n",
        "        if current_test_acc >= best_val_acc:\n",
        "            print(\"found perfect model!!\")\n",
        "            best_val_acc = current_test_acc\n",
        "            torch.save({\n",
        "                \"epoch\": epoch,\n",
        "                \"model_state\": model.state_dict(),\n",
        "                \"optimizer_state\": optimizer.state_dict(),\n",
        "                \"val_acc\": current_test_acc,\n",
        "            }, SAVE_PATH)\n",
        "            print(f\"Saved best model (acc={best_val_acc:.2f}%) to {SAVE_PATH}\")\n",
        "            if best_val_acc >= 85.0:\n",
        "                break\n",
        "\n",
        "    print(\"-----------------------------------------\")\n",
        "    print(\"train accuracies\", len(train_acc), train_acc)\n",
        "    print(\"train losses\", len(train_losses), train_losses)\n",
        "    print(\"-----------------------------------------\")\n",
        "    print(\"-----------------------------------------\")\n",
        "    print(\"test accuracies\", len(test_acc), test_acc)\n",
        "    print(\"test losses\", len(test_losses), test_losses)\n",
        "    print(\"-----------------------------------------\")\n",
        "    plot_metrics(train_losses, test_losses, train_acc, test_acc)\n",
        "\n",
        "if __name__ == '__main__':\n",
        "    perform_training()"
      ]
    },
    {
      "cell_type": "code",
      "execution_count": 30,
      "metadata": {
        "id": "fUEC6SpKgj3F"
      },
      "outputs": [],
      "source": []
    }
  ],
  "metadata": {
    "accelerator": "GPU",
    "colab": {
      "gpuType": "T4",
      "provenance": []
    },
    "kernelspec": {
      "display_name": "cnn",
      "language": "python",
      "name": "python3"
    },
    "language_info": {
      "name": "python",
      "version": "3.13.3"
    }
  },
  "nbformat": 4,
  "nbformat_minor": 0
}
