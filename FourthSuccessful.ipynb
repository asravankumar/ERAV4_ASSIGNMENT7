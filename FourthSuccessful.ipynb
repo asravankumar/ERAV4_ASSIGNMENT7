{
  "cells": [
    {
      "cell_type": "code",
      "execution_count": 37,
      "metadata": {
        "id": "aS8eO1kBd1ls"
      },
      "outputs": [],
      "source": [
        "import torch\n",
        "import torch.nn as nn\n",
        "import torch.nn.functional as F\n",
        "\n",
        "\n",
        "dropout_value = 0.1\n",
        "\n",
        "def conv_bn_act(in_ch, out_ch, kernel=3, stride=1, padding=1, dilation=1, dropout_p=0.05):\n",
        "    return nn.Sequential(\n",
        "        nn.Conv2d(in_ch, out_ch, kernel_size=kernel, stride=stride,\n",
        "                  padding=padding, dilation=dilation, bias=False),\n",
        "        nn.BatchNorm2d(out_ch),\n",
        "        nn.ReLU(inplace=True),\n",
        "        nn.Dropout(dropout_p)\n",
        "    )\n",
        "\n",
        "def dws_bn_act(in_ch, out_ch, kernel_size=3, stride=1, padding=1, dilation=1,dropout_p=0.05):\n",
        "    return nn.Sequential(\n",
        "        nn.Conv2d(in_ch, in_ch, kernel_size=kernel_size, stride=stride,\n",
        "                            padding=padding, dilation=dilation, groups=in_ch, bias=False),\n",
        "        nn.Conv2d(in_ch, out_ch, kernel_size=1, stride=1, padding=0, bias=False),\n",
        "        nn.BatchNorm2d(out_ch),\n",
        "        nn.ReLU(inplace=True),\n",
        "        nn.Dropout(dropout_p)\n",
        "    )\n",
        "\n",
        "class Model1(nn.Module):\n",
        "    def __init__(self, num_classes):\n",
        "        super(Model1, self).__init__()\n",
        "\n",
        "        # CONVOLUTION BLOCK 1\n",
        "        self.c1_1 = conv_bn_act(3, 32, kernel=3, stride=1, padding=1, dilation=1)\n",
        "        self.c1_2 = conv_bn_act(32, 64, kernel=3, stride=2, padding=1, dilation=1)\n",
        "        self.onexonec1_1 = conv_bn_act(64, 32, kernel=1, stride=1, padding=0, dilation=1)\n",
        "\n",
        "        # CONVOLUTION BLOCK 2\n",
        "        self.c2_1 = conv_bn_act(32, 64, kernel=3, stride=1, padding=1, dilation=1)\n",
        "        self.c2_2 = dws_bn_act(64, 32, kernel_size=3, stride=2, padding=1, dilation=1)\n",
        "        #self.onexonec2_1 = conv_bn_act(64, 32, kernel=1, stride=1, padding=0, dilation=1)\n",
        "\n",
        "        # CONVOLUTION BLOCK 3\n",
        "        self.c3_1 = conv_bn_act(32, 32, kernel=3, stride=1, padding=1, dilation=1)\n",
        "        self.c3_2 = conv_bn_act(32, 64, kernel=3, stride=1, padding=1, dilation=1)\n",
        "        self.onexonec3_1 = conv_bn_act(64, 32, kernel=1, stride=1, padding=0, dilation=1)\n",
        "\n",
        "        # CONVOLUTION BLOCK 4\n",
        "        self.c4_1 = conv_bn_act(32, 32, kernel=3, stride=1, padding=1, dilation=1)\n",
        "        self.c4_2 = conv_bn_act(32, 64, kernel=3, stride=1, padding=1, dilation=1)\n",
        "        self.c5 = conv_bn_act(64, 64, kernel=3, stride=1, padding=1, dilation=2)\n",
        "\n",
        "        # OUTPUT BLOCK\n",
        "        self.gap = nn.AdaptiveAvgPool2d(1)\n",
        "        self.fc = nn.Linear(64, num_classes)\n",
        "\n",
        "\n",
        "    def forward(self, x):\n",
        "        # Block 1\n",
        "        x = self.c1_1(x)\n",
        "        x = self.c1_2(x)\n",
        "        x = self.onexonec1_1(x)\n",
        "\n",
        "        # Block 2\n",
        "        x = self.c2_1(x)\n",
        "        x = self.c2_2(x)\n",
        "        #x = self.onexonec2_1(x)\n",
        "\n",
        "        # Block 3\n",
        "        x = self.c3_1(x)\n",
        "        x = self.c3_2(x)\n",
        "        x = self.onexonec3_1(x)\n",
        "\n",
        "        # Block 4 (dilated)\n",
        "        x = self.c4_1(x)\n",
        "        x = self.c4_2(x)\n",
        "        x = self.c5(x)\n",
        "\n",
        "        # Output Block\n",
        "        x = self.gap(x)\n",
        "        x = torch.flatten(x, 1)\n",
        "        x = self.fc(x)\n",
        "        # x = x.view(-1, 10)\n",
        "        return x"
      ]
    },
    {
      "cell_type": "code",
      "execution_count": 38,
      "metadata": {
        "id": "N9gX3ovie_8T"
      },
      "outputs": [],
      "source": [
        "import matplotlib.pyplot as plt\n",
        "\n",
        "\n",
        "def plot_metrics(train_losses, test_losses, train_acc, test_acc):\n",
        "    epochs = range(1, len(train_acc) + 1)\n",
        "\n",
        "    # ----------------------\n",
        "    # Plot Train Loss\n",
        "    # ----------------------\n",
        "    plt.figure(figsize=(8, 5))\n",
        "    plt.plot(epochs, train_losses, 'b-', label='Train Loss')\n",
        "    plt.xlabel('Iteration')\n",
        "    plt.ylabel('Loss')\n",
        "    plt.title('Train Loss')\n",
        "    plt.legend()\n",
        "    plt.grid(True)\n",
        "    plt.show()\n",
        "\n",
        "    # ----------------------\n",
        "    # Plot Test Loss\n",
        "    # ----------------------\n",
        "    plt.figure(figsize=(8, 5))\n",
        "    plt.plot(epochs, test_losses, 'r-', label='Test Loss')\n",
        "    plt.xlabel('Epoch')\n",
        "    plt.ylabel('Loss')\n",
        "    plt.title('Test Loss')\n",
        "    plt.legend()\n",
        "    plt.grid(True)\n",
        "    plt.show()\n",
        "\n",
        "    # ----------------------\n",
        "    # Plot Train Accuracy\n",
        "    # ----------------------\n",
        "    plt.figure(figsize=(8, 5))\n",
        "    plt.plot(epochs, train_acc, 'g-', label='Train Accuracy')\n",
        "    plt.xlabel('Iteration')\n",
        "    plt.ylabel('Accuracy (%)')\n",
        "    plt.title('Train Accuracy')\n",
        "    plt.legend()\n",
        "    plt.grid(True)\n",
        "    plt.show()\n",
        "\n",
        "    # ----------------------\n",
        "    # Plot Test Accuracy\n",
        "    # ----------------------\n",
        "    plt.figure(figsize=(8, 5))\n",
        "    plt.plot(epochs, test_acc, 'm-', label='Test Accuracy')\n",
        "    plt.xlabel('Epoch')\n",
        "    plt.ylabel('Accuracy (%)')\n",
        "    plt.title('Test Accuracy')\n",
        "    plt.legend()\n",
        "    plt.grid(True)\n",
        "    plt.show()"
      ]
    },
    {
      "cell_type": "code",
      "execution_count": 39,
      "metadata": {
        "colab": {
          "base_uri": "https://localhost:8080/",
          "height": 1000
        },
        "id": "IQZSMBEgfCtc",
        "outputId": "68ded7d9-fbd2-4817-deb3-913a6598ee5f"
      },
      "outputs": [
        {
          "name": "stderr",
          "output_type": "stream",
          "text": [
            "/usr/local/lib/python3.12/dist-packages/torch/utils/data/dataloader.py:627: UserWarning: This DataLoader will create 4 worker processes in total. Our suggested max number of worker in current system is 2, which is smaller than what this DataLoader is going to create. Please be aware that excessive worker creation might get DataLoader running slow or even freeze, lower the worker number to avoid potential slowness/freeze if necessary.\n",
            "  warnings.warn(\n"
          ]
        },
        {
          "name": "stdout",
          "output_type": "stream",
          "text": [
            "CUDA Available? True\n",
            "Using device: cuda\n",
            "----------------------------------------------------------------\n",
            "        Layer (type)               Output Shape         Param #\n",
            "================================================================\n",
            "            Conv2d-1           [-1, 32, 32, 32]             864\n",
            "       BatchNorm2d-2           [-1, 32, 32, 32]              64\n",
            "              ReLU-3           [-1, 32, 32, 32]               0\n",
            "           Dropout-4           [-1, 32, 32, 32]               0\n",
            "            Conv2d-5           [-1, 64, 16, 16]          18,432\n",
            "       BatchNorm2d-6           [-1, 64, 16, 16]             128\n",
            "              ReLU-7           [-1, 64, 16, 16]               0\n",
            "           Dropout-8           [-1, 64, 16, 16]               0\n",
            "            Conv2d-9           [-1, 32, 16, 16]           2,048\n",
            "      BatchNorm2d-10           [-1, 32, 16, 16]              64\n",
            "             ReLU-11           [-1, 32, 16, 16]               0\n",
            "          Dropout-12           [-1, 32, 16, 16]               0\n",
            "           Conv2d-13           [-1, 64, 16, 16]          18,432\n",
            "      BatchNorm2d-14           [-1, 64, 16, 16]             128\n",
            "             ReLU-15           [-1, 64, 16, 16]               0\n",
            "          Dropout-16           [-1, 64, 16, 16]               0\n",
            "           Conv2d-17             [-1, 64, 8, 8]             576\n",
            "           Conv2d-18             [-1, 32, 8, 8]           2,048\n",
            "      BatchNorm2d-19             [-1, 32, 8, 8]              64\n",
            "             ReLU-20             [-1, 32, 8, 8]               0\n",
            "          Dropout-21             [-1, 32, 8, 8]               0\n",
            "           Conv2d-22             [-1, 32, 8, 8]           9,216\n",
            "      BatchNorm2d-23             [-1, 32, 8, 8]              64\n",
            "             ReLU-24             [-1, 32, 8, 8]               0\n",
            "          Dropout-25             [-1, 32, 8, 8]               0\n",
            "           Conv2d-26             [-1, 64, 8, 8]          18,432\n",
            "      BatchNorm2d-27             [-1, 64, 8, 8]             128\n",
            "             ReLU-28             [-1, 64, 8, 8]               0\n",
            "          Dropout-29             [-1, 64, 8, 8]               0\n",
            "           Conv2d-30             [-1, 32, 8, 8]           2,048\n",
            "      BatchNorm2d-31             [-1, 32, 8, 8]              64\n",
            "             ReLU-32             [-1, 32, 8, 8]               0\n",
            "          Dropout-33             [-1, 32, 8, 8]               0\n",
            "           Conv2d-34             [-1, 32, 8, 8]           9,216\n",
            "      BatchNorm2d-35             [-1, 32, 8, 8]              64\n",
            "             ReLU-36             [-1, 32, 8, 8]               0\n",
            "          Dropout-37             [-1, 32, 8, 8]               0\n",
            "           Conv2d-38             [-1, 64, 8, 8]          18,432\n",
            "      BatchNorm2d-39             [-1, 64, 8, 8]             128\n",
            "             ReLU-40             [-1, 64, 8, 8]               0\n",
            "          Dropout-41             [-1, 64, 8, 8]               0\n",
            "           Conv2d-42             [-1, 64, 6, 6]          36,864\n",
            "      BatchNorm2d-43             [-1, 64, 6, 6]             128\n",
            "             ReLU-44             [-1, 64, 6, 6]               0\n",
            "          Dropout-45             [-1, 64, 6, 6]               0\n",
            "AdaptiveAvgPool2d-46             [-1, 64, 1, 1]               0\n",
            "           Linear-47                   [-1, 10]             650\n",
            "================================================================\n",
            "Total params: 138,282\n",
            "Trainable params: 138,282\n",
            "Non-trainable params: 0\n",
            "----------------------------------------------------------------\n",
            "Input size (MB): 0.01\n",
            "Forward/backward pass size (MB): 2.85\n",
            "Params size (MB): 0.53\n",
            "Estimated Total Size (MB): 3.39\n",
            "----------------------------------------------------------------\n",
            "\n",
            "EPOCH: 1\n"
          ]
        },
        {
          "name": "stderr",
          "output_type": "stream",
          "text": [
            "Epoch=1 Loss=1.9313 Accuracy=21.21: 100%|██████████| 391/391 [00:19<00:00, 20.17it/s]\n"
          ]
        },
        {
          "name": "stdout",
          "output_type": "stream",
          "text": [
            "\n",
            "Test set: Average loss: 0.0148, Accuracy: 3299/10000 (32.99%)\n",
            "\n",
            "found perfect model!!\n",
            "Saved best model (acc=32.99%) to best_model.pth\n",
            "\n",
            "EPOCH: 2\n"
          ]
        },
        {
          "name": "stderr",
          "output_type": "stream",
          "text": [
            "Epoch=2 Loss=1.6745 Accuracy=35.03: 100%|██████████| 391/391 [00:18<00:00, 21.47it/s]\n"
          ]
        },
        {
          "name": "stdout",
          "output_type": "stream",
          "text": [
            "\n",
            "Test set: Average loss: 0.0125, Accuracy: 4251/10000 (42.51%)\n",
            "\n",
            "found perfect model!!\n",
            "Saved best model (acc=42.51%) to best_model.pth\n",
            "\n",
            "EPOCH: 3\n"
          ]
        },
        {
          "name": "stderr",
          "output_type": "stream",
          "text": [
            "Epoch=3 Loss=1.5172 Accuracy=41.19: 100%|██████████| 391/391 [00:19<00:00, 20.21it/s]\n"
          ]
        },
        {
          "name": "stdout",
          "output_type": "stream",
          "text": [
            "\n",
            "Test set: Average loss: 0.0112, Accuracy: 4798/10000 (47.98%)\n",
            "\n",
            "found perfect model!!\n",
            "Saved best model (acc=47.98%) to best_model.pth\n",
            "\n",
            "EPOCH: 4\n"
          ]
        },
        {
          "name": "stderr",
          "output_type": "stream",
          "text": [
            "Epoch=4 Loss=1.5199 Accuracy=45.70: 100%|██████████| 391/391 [00:18<00:00, 21.29it/s]\n"
          ]
        },
        {
          "name": "stdout",
          "output_type": "stream",
          "text": [
            "\n",
            "Test set: Average loss: 0.0103, Accuracy: 5299/10000 (52.99%)\n",
            "\n",
            "found perfect model!!\n",
            "Saved best model (acc=52.99%) to best_model.pth\n",
            "\n",
            "EPOCH: 5\n"
          ]
        },
        {
          "name": "stderr",
          "output_type": "stream",
          "text": [
            "Epoch=5 Loss=1.3707 Accuracy=49.30: 100%|██████████| 391/391 [00:19<00:00, 20.45it/s]\n"
          ]
        },
        {
          "name": "stdout",
          "output_type": "stream",
          "text": [
            "\n",
            "Test set: Average loss: 0.0100, Accuracy: 5369/10000 (53.69%)\n",
            "\n",
            "found perfect model!!\n",
            "Saved best model (acc=53.69%) to best_model.pth\n",
            "\n",
            "EPOCH: 6\n"
          ]
        },
        {
          "name": "stderr",
          "output_type": "stream",
          "text": [
            "Epoch=6 Loss=1.2772 Accuracy=52.12: 100%|██████████| 391/391 [00:18<00:00, 21.60it/s]\n"
          ]
        },
        {
          "name": "stdout",
          "output_type": "stream",
          "text": [
            "\n",
            "Test set: Average loss: 0.0096, Accuracy: 5618/10000 (56.18%)\n",
            "\n",
            "found perfect model!!\n",
            "Saved best model (acc=56.18%) to best_model.pth\n",
            "\n",
            "EPOCH: 7\n"
          ]
        },
        {
          "name": "stderr",
          "output_type": "stream",
          "text": [
            "Epoch=7 Loss=1.3639 Accuracy=55.01: 100%|██████████| 391/391 [00:19<00:00, 20.33it/s]\n"
          ]
        },
        {
          "name": "stdout",
          "output_type": "stream",
          "text": [
            "\n",
            "Test set: Average loss: 0.0084, Accuracy: 6119/10000 (61.19%)\n",
            "\n",
            "found perfect model!!\n",
            "Saved best model (acc=61.19%) to best_model.pth\n",
            "\n",
            "EPOCH: 8\n"
          ]
        },
        {
          "name": "stderr",
          "output_type": "stream",
          "text": [
            "Epoch=8 Loss=1.0935 Accuracy=57.35: 100%|██████████| 391/391 [00:18<00:00, 21.26it/s]\n"
          ]
        },
        {
          "name": "stdout",
          "output_type": "stream",
          "text": [
            "\n",
            "Test set: Average loss: 0.0084, Accuracy: 6170/10000 (61.70%)\n",
            "\n",
            "found perfect model!!\n",
            "Saved best model (acc=61.70%) to best_model.pth\n",
            "\n",
            "EPOCH: 9\n"
          ]
        },
        {
          "name": "stderr",
          "output_type": "stream",
          "text": [
            "Epoch=9 Loss=1.2535 Accuracy=59.83: 100%|██████████| 391/391 [00:19<00:00, 20.03it/s]\n"
          ]
        },
        {
          "name": "stdout",
          "output_type": "stream",
          "text": [
            "\n",
            "Test set: Average loss: 0.0071, Accuracy: 6828/10000 (68.28%)\n",
            "\n",
            "found perfect model!!\n",
            "Saved best model (acc=68.28%) to best_model.pth\n",
            "\n",
            "EPOCH: 10\n"
          ]
        },
        {
          "name": "stderr",
          "output_type": "stream",
          "text": [
            "Epoch=10 Loss=1.1466 Accuracy=61.84: 100%|██████████| 391/391 [00:18<00:00, 20.89it/s]\n"
          ]
        },
        {
          "name": "stdout",
          "output_type": "stream",
          "text": [
            "\n",
            "Test set: Average loss: 0.0076, Accuracy: 6675/10000 (66.75%)\n",
            "\n",
            "\n",
            "EPOCH: 11\n"
          ]
        },
        {
          "name": "stderr",
          "output_type": "stream",
          "text": [
            "Epoch=11 Loss=1.0191 Accuracy=63.67: 100%|██████████| 391/391 [00:19<00:00, 19.80it/s]\n"
          ]
        },
        {
          "name": "stdout",
          "output_type": "stream",
          "text": [
            "\n",
            "Test set: Average loss: 0.0075, Accuracy: 6700/10000 (67.00%)\n",
            "\n",
            "\n",
            "EPOCH: 12\n"
          ]
        },
        {
          "name": "stderr",
          "output_type": "stream",
          "text": [
            "Epoch=12 Loss=0.9925 Accuracy=64.92: 100%|██████████| 391/391 [00:18<00:00, 20.99it/s]\n"
          ]
        },
        {
          "name": "stdout",
          "output_type": "stream",
          "text": [
            "\n",
            "Test set: Average loss: 0.0063, Accuracy: 7209/10000 (72.09%)\n",
            "\n",
            "found perfect model!!\n",
            "Saved best model (acc=72.09%) to best_model.pth\n",
            "\n",
            "EPOCH: 13\n"
          ]
        },
        {
          "name": "stderr",
          "output_type": "stream",
          "text": [
            "Epoch=13 Loss=0.9701 Accuracy=66.32: 100%|██████████| 391/391 [00:19<00:00, 19.83it/s]\n"
          ]
        },
        {
          "name": "stdout",
          "output_type": "stream",
          "text": [
            "\n",
            "Test set: Average loss: 0.0060, Accuracy: 7340/10000 (73.40%)\n",
            "\n",
            "found perfect model!!\n",
            "Saved best model (acc=73.40%) to best_model.pth\n",
            "\n",
            "EPOCH: 14\n"
          ]
        },
        {
          "name": "stderr",
          "output_type": "stream",
          "text": [
            "Epoch=14 Loss=0.8496 Accuracy=67.59: 100%|██████████| 391/391 [00:18<00:00, 21.29it/s]\n"
          ]
        },
        {
          "name": "stdout",
          "output_type": "stream",
          "text": [
            "\n",
            "Test set: Average loss: 0.0058, Accuracy: 7440/10000 (74.40%)\n",
            "\n",
            "found perfect model!!\n",
            "Saved best model (acc=74.40%) to best_model.pth\n",
            "\n",
            "EPOCH: 15\n"
          ]
        },
        {
          "name": "stderr",
          "output_type": "stream",
          "text": [
            "Epoch=15 Loss=0.9116 Accuracy=68.46: 100%|██████████| 391/391 [00:19<00:00, 20.30it/s]\n"
          ]
        },
        {
          "name": "stdout",
          "output_type": "stream",
          "text": [
            "\n",
            "Test set: Average loss: 0.0061, Accuracy: 7340/10000 (73.40%)\n",
            "\n",
            "\n",
            "EPOCH: 16\n"
          ]
        },
        {
          "name": "stderr",
          "output_type": "stream",
          "text": [
            "Epoch=16 Loss=0.8325 Accuracy=69.26: 100%|██████████| 391/391 [00:18<00:00, 21.15it/s]\n"
          ]
        },
        {
          "name": "stdout",
          "output_type": "stream",
          "text": [
            "\n",
            "Test set: Average loss: 0.0053, Accuracy: 7682/10000 (76.82%)\n",
            "\n",
            "found perfect model!!\n",
            "Saved best model (acc=76.82%) to best_model.pth\n",
            "\n",
            "EPOCH: 17\n"
          ]
        },
        {
          "name": "stderr",
          "output_type": "stream",
          "text": [
            "Epoch=17 Loss=0.7822 Accuracy=69.90: 100%|██████████| 391/391 [00:19<00:00, 20.04it/s]\n"
          ]
        },
        {
          "name": "stdout",
          "output_type": "stream",
          "text": [
            "\n",
            "Test set: Average loss: 0.0060, Accuracy: 7341/10000 (73.41%)\n",
            "\n",
            "\n",
            "EPOCH: 18\n"
          ]
        },
        {
          "name": "stderr",
          "output_type": "stream",
          "text": [
            "Epoch=18 Loss=0.9496 Accuracy=70.87: 100%|██████████| 391/391 [00:18<00:00, 21.18it/s]\n"
          ]
        },
        {
          "name": "stdout",
          "output_type": "stream",
          "text": [
            "\n",
            "Test set: Average loss: 0.0054, Accuracy: 7659/10000 (76.59%)\n",
            "\n",
            "\n",
            "EPOCH: 19\n"
          ]
        },
        {
          "name": "stderr",
          "output_type": "stream",
          "text": [
            "Epoch=19 Loss=0.9538 Accuracy=71.35: 100%|██████████| 391/391 [00:19<00:00, 20.14it/s]\n"
          ]
        },
        {
          "name": "stdout",
          "output_type": "stream",
          "text": [
            "\n",
            "Test set: Average loss: 0.0056, Accuracy: 7546/10000 (75.46%)\n",
            "\n",
            "\n",
            "EPOCH: 20\n"
          ]
        },
        {
          "name": "stderr",
          "output_type": "stream",
          "text": [
            "Epoch=20 Loss=0.5924 Accuracy=72.27: 100%|██████████| 391/391 [00:18<00:00, 20.94it/s]\n"
          ]
        },
        {
          "name": "stdout",
          "output_type": "stream",
          "text": [
            "\n",
            "Test set: Average loss: 0.0052, Accuracy: 7765/10000 (77.65%)\n",
            "\n",
            "found perfect model!!\n",
            "Saved best model (acc=77.65%) to best_model.pth\n",
            "\n",
            "EPOCH: 21\n"
          ]
        },
        {
          "name": "stderr",
          "output_type": "stream",
          "text": [
            "Epoch=21 Loss=0.9965 Accuracy=72.51: 100%|██████████| 391/391 [00:18<00:00, 21.01it/s]\n"
          ]
        },
        {
          "name": "stdout",
          "output_type": "stream",
          "text": [
            "\n",
            "Test set: Average loss: 0.0051, Accuracy: 7767/10000 (77.67%)\n",
            "\n",
            "found perfect model!!\n",
            "Saved best model (acc=77.67%) to best_model.pth\n",
            "\n",
            "EPOCH: 22\n"
          ]
        },
        {
          "name": "stderr",
          "output_type": "stream",
          "text": [
            "Epoch=22 Loss=1.1007 Accuracy=73.20: 100%|██████████| 391/391 [00:18<00:00, 20.77it/s]\n"
          ]
        },
        {
          "name": "stdout",
          "output_type": "stream",
          "text": [
            "\n",
            "Test set: Average loss: 0.0045, Accuracy: 8064/10000 (80.64%)\n",
            "\n",
            "found perfect model!!\n",
            "Saved best model (acc=80.64%) to best_model.pth\n",
            "\n",
            "EPOCH: 23\n"
          ]
        },
        {
          "name": "stderr",
          "output_type": "stream",
          "text": [
            "Epoch=23 Loss=0.8602 Accuracy=73.43: 100%|██████████| 391/391 [00:18<00:00, 20.98it/s]\n"
          ]
        },
        {
          "name": "stdout",
          "output_type": "stream",
          "text": [
            "\n",
            "Test set: Average loss: 0.0043, Accuracy: 8126/10000 (81.26%)\n",
            "\n",
            "found perfect model!!\n",
            "Saved best model (acc=81.26%) to best_model.pth\n",
            "\n",
            "EPOCH: 24\n"
          ]
        },
        {
          "name": "stderr",
          "output_type": "stream",
          "text": [
            "Epoch=24 Loss=0.7132 Accuracy=73.45: 100%|██████████| 391/391 [00:19<00:00, 20.33it/s]\n"
          ]
        },
        {
          "name": "stdout",
          "output_type": "stream",
          "text": [
            "\n",
            "Test set: Average loss: 0.0047, Accuracy: 7939/10000 (79.39%)\n",
            "\n",
            "\n",
            "EPOCH: 25\n"
          ]
        },
        {
          "name": "stderr",
          "output_type": "stream",
          "text": [
            "Epoch=25 Loss=0.6807 Accuracy=74.02: 100%|██████████| 391/391 [00:18<00:00, 21.15it/s]\n"
          ]
        },
        {
          "name": "stdout",
          "output_type": "stream",
          "text": [
            "\n",
            "Test set: Average loss: 0.0045, Accuracy: 8025/10000 (80.25%)\n",
            "\n",
            "\n",
            "EPOCH: 26\n"
          ]
        },
        {
          "name": "stderr",
          "output_type": "stream",
          "text": [
            "Epoch=26 Loss=0.9518 Accuracy=74.61: 100%|██████████| 391/391 [00:19<00:00, 19.87it/s]\n"
          ]
        },
        {
          "name": "stdout",
          "output_type": "stream",
          "text": [
            "\n",
            "Test set: Average loss: 0.0045, Accuracy: 8035/10000 (80.35%)\n",
            "\n",
            "\n",
            "EPOCH: 27\n"
          ]
        },
        {
          "name": "stderr",
          "output_type": "stream",
          "text": [
            "Epoch=27 Loss=0.7404 Accuracy=74.50: 100%|██████████| 391/391 [00:18<00:00, 21.01it/s]\n"
          ]
        },
        {
          "name": "stdout",
          "output_type": "stream",
          "text": [
            "\n",
            "Test set: Average loss: 0.0043, Accuracy: 8108/10000 (81.08%)\n",
            "\n",
            "\n",
            "EPOCH: 28\n"
          ]
        },
        {
          "name": "stderr",
          "output_type": "stream",
          "text": [
            "Epoch=28 Loss=0.7708 Accuracy=75.10: 100%|██████████| 391/391 [00:20<00:00, 18.64it/s]\n"
          ]
        },
        {
          "name": "stdout",
          "output_type": "stream",
          "text": [
            "\n",
            "Test set: Average loss: 0.0042, Accuracy: 8128/10000 (81.28%)\n",
            "\n",
            "found perfect model!!\n",
            "Saved best model (acc=81.28%) to best_model.pth\n",
            "\n",
            "EPOCH: 29\n"
          ]
        },
        {
          "name": "stderr",
          "output_type": "stream",
          "text": [
            "Epoch=29 Loss=0.7679 Accuracy=75.39: 100%|██████████| 391/391 [00:19<00:00, 19.67it/s]\n"
          ]
        },
        {
          "name": "stdout",
          "output_type": "stream",
          "text": [
            "\n",
            "Test set: Average loss: 0.0041, Accuracy: 8249/10000 (82.49%)\n",
            "\n",
            "found perfect model!!\n",
            "Saved best model (acc=82.49%) to best_model.pth\n",
            "\n",
            "EPOCH: 30\n"
          ]
        },
        {
          "name": "stderr",
          "output_type": "stream",
          "text": [
            "Epoch=30 Loss=0.7078 Accuracy=75.86: 100%|██████████| 391/391 [00:20<00:00, 18.90it/s]\n"
          ]
        },
        {
          "name": "stdout",
          "output_type": "stream",
          "text": [
            "\n",
            "Test set: Average loss: 0.0040, Accuracy: 8306/10000 (83.06%)\n",
            "\n",
            "found perfect model!!\n",
            "Saved best model (acc=83.06%) to best_model.pth\n",
            "\n",
            "EPOCH: 31\n"
          ]
        },
        {
          "name": "stderr",
          "output_type": "stream",
          "text": [
            "Epoch=31 Loss=0.6294 Accuracy=75.79: 100%|██████████| 391/391 [00:19<00:00, 19.75it/s]\n"
          ]
        },
        {
          "name": "stdout",
          "output_type": "stream",
          "text": [
            "\n",
            "Test set: Average loss: 0.0042, Accuracy: 8187/10000 (81.87%)\n",
            "\n",
            "\n",
            "EPOCH: 32\n"
          ]
        },
        {
          "name": "stderr",
          "output_type": "stream",
          "text": [
            "Epoch=32 Loss=0.6180 Accuracy=76.32: 100%|██████████| 391/391 [00:19<00:00, 20.35it/s]\n"
          ]
        },
        {
          "name": "stdout",
          "output_type": "stream",
          "text": [
            "\n",
            "Test set: Average loss: 0.0040, Accuracy: 8238/10000 (82.38%)\n",
            "\n",
            "\n",
            "EPOCH: 33\n"
          ]
        },
        {
          "name": "stderr",
          "output_type": "stream",
          "text": [
            "Epoch=33 Loss=0.7452 Accuracy=76.37: 100%|██████████| 391/391 [00:20<00:00, 19.11it/s]\n"
          ]
        },
        {
          "name": "stdout",
          "output_type": "stream",
          "text": [
            "\n",
            "Test set: Average loss: 0.0040, Accuracy: 8258/10000 (82.58%)\n",
            "\n",
            "\n",
            "EPOCH: 34\n"
          ]
        },
        {
          "name": "stderr",
          "output_type": "stream",
          "text": [
            "Epoch=34 Loss=0.6296 Accuracy=76.55: 100%|██████████| 391/391 [00:19<00:00, 20.30it/s]\n"
          ]
        },
        {
          "name": "stdout",
          "output_type": "stream",
          "text": [
            "\n",
            "Test set: Average loss: 0.0038, Accuracy: 8321/10000 (83.21%)\n",
            "\n",
            "found perfect model!!\n",
            "Saved best model (acc=83.21%) to best_model.pth\n",
            "\n",
            "EPOCH: 35\n"
          ]
        },
        {
          "name": "stderr",
          "output_type": "stream",
          "text": [
            "Epoch=35 Loss=0.6042 Accuracy=77.06: 100%|██████████| 391/391 [00:20<00:00, 19.07it/s]\n"
          ]
        },
        {
          "name": "stdout",
          "output_type": "stream",
          "text": [
            "\n",
            "Test set: Average loss: 0.0038, Accuracy: 8372/10000 (83.72%)\n",
            "\n",
            "found perfect model!!\n",
            "Saved best model (acc=83.72%) to best_model.pth\n",
            "\n",
            "EPOCH: 36\n"
          ]
        },
        {
          "name": "stderr",
          "output_type": "stream",
          "text": [
            "Epoch=36 Loss=0.6996 Accuracy=77.07: 100%|██████████| 391/391 [00:18<00:00, 20.70it/s]\n"
          ]
        },
        {
          "name": "stdout",
          "output_type": "stream",
          "text": [
            "\n",
            "Test set: Average loss: 0.0039, Accuracy: 8307/10000 (83.07%)\n",
            "\n",
            "\n",
            "EPOCH: 37\n"
          ]
        },
        {
          "name": "stderr",
          "output_type": "stream",
          "text": [
            "Epoch=37 Loss=0.5988 Accuracy=77.24: 100%|██████████| 391/391 [00:20<00:00, 19.51it/s]\n"
          ]
        },
        {
          "name": "stdout",
          "output_type": "stream",
          "text": [
            "\n",
            "Test set: Average loss: 0.0038, Accuracy: 8362/10000 (83.62%)\n",
            "\n",
            "\n",
            "EPOCH: 38\n"
          ]
        },
        {
          "name": "stderr",
          "output_type": "stream",
          "text": [
            "Epoch=38 Loss=0.6500 Accuracy=77.35: 100%|██████████| 391/391 [00:19<00:00, 19.95it/s]\n"
          ]
        },
        {
          "name": "stdout",
          "output_type": "stream",
          "text": [
            "\n",
            "Test set: Average loss: 0.0038, Accuracy: 8377/10000 (83.77%)\n",
            "\n",
            "found perfect model!!\n",
            "Saved best model (acc=83.77%) to best_model.pth\n",
            "\n",
            "EPOCH: 39\n"
          ]
        },
        {
          "name": "stderr",
          "output_type": "stream",
          "text": [
            "Epoch=39 Loss=0.8870 Accuracy=77.74: 100%|██████████| 391/391 [00:18<00:00, 20.85it/s]\n"
          ]
        },
        {
          "name": "stdout",
          "output_type": "stream",
          "text": [
            "\n",
            "Test set: Average loss: 0.0036, Accuracy: 8442/10000 (84.42%)\n",
            "\n",
            "found perfect model!!\n",
            "Saved best model (acc=84.42%) to best_model.pth\n",
            "\n",
            "EPOCH: 40\n"
          ]
        },
        {
          "name": "stderr",
          "output_type": "stream",
          "text": [
            "Epoch=40 Loss=0.7849 Accuracy=77.78: 100%|██████████| 391/391 [00:20<00:00, 19.32it/s]\n"
          ]
        },
        {
          "name": "stdout",
          "output_type": "stream",
          "text": [
            "\n",
            "Test set: Average loss: 0.0038, Accuracy: 8335/10000 (83.35%)\n",
            "\n",
            "\n",
            "EPOCH: 41\n"
          ]
        },
        {
          "name": "stderr",
          "output_type": "stream",
          "text": [
            "Epoch=41 Loss=0.6363 Accuracy=77.88: 100%|██████████| 391/391 [00:18<00:00, 20.69it/s]\n"
          ]
        },
        {
          "name": "stdout",
          "output_type": "stream",
          "text": [
            "\n",
            "Test set: Average loss: 0.0035, Accuracy: 8475/10000 (84.75%)\n",
            "\n",
            "found perfect model!!\n",
            "Saved best model (acc=84.75%) to best_model.pth\n",
            "\n",
            "EPOCH: 42\n"
          ]
        },
        {
          "name": "stderr",
          "output_type": "stream",
          "text": [
            "Epoch=42 Loss=0.7184 Accuracy=78.40: 100%|██████████| 391/391 [00:20<00:00, 19.23it/s]\n"
          ]
        },
        {
          "name": "stdout",
          "output_type": "stream",
          "text": [
            "\n",
            "Test set: Average loss: 0.0036, Accuracy: 8485/10000 (84.85%)\n",
            "\n",
            "found perfect model!!\n",
            "Saved best model (acc=84.85%) to best_model.pth\n",
            "\n",
            "EPOCH: 43\n"
          ]
        },
        {
          "name": "stderr",
          "output_type": "stream",
          "text": [
            "Epoch=43 Loss=0.7122 Accuracy=78.49: 100%|██████████| 391/391 [00:19<00:00, 20.21it/s]\n"
          ]
        },
        {
          "name": "stdout",
          "output_type": "stream",
          "text": [
            "\n",
            "Test set: Average loss: 0.0034, Accuracy: 8511/10000 (85.11%)\n",
            "\n",
            "found perfect model!!\n",
            "Saved best model (acc=85.11%) to best_model.pth\n",
            "-----------------------------------------\n",
            "train accuracies 43 [21.206, 35.03, 41.186, 45.698, 49.3, 52.122, 55.01, 57.346, 59.828, 61.836, 63.672, 64.918, 66.318, 67.592, 68.462, 69.256, 69.896, 70.874, 71.352, 72.274, 72.514, 73.198, 73.426, 73.45, 74.018, 74.612, 74.496, 75.098, 75.394, 75.856, 75.788, 76.318, 76.37, 76.552, 77.064, 77.07, 77.238, 77.348, 77.742, 77.784, 77.882, 78.404, 78.492]\n",
            "train losses 43 [822.1645939350128, 706.8944525718689, 634.6279249191284, 585.23754799366, 549.6096723079681, 519.7369993925095, 488.95271706581116, 461.86336600780487, 439.2066496014595, 417.3549162745476, 398.220475256443, 385.0753594636917, 371.63383197784424, 358.6768459677696, 348.8082904815674, 339.89182102680206, 332.5156175494194, 322.34227722883224, 319.1340009570122, 310.7596290707588, 308.0800654888153, 301.88016641139984, 295.20954728126526, 294.3581142425537, 288.2068050503731, 284.5126042366028, 282.65813529491425, 278.9652300775051, 274.5735570192337, 271.95413488149643, 270.64131224155426, 264.02841252088547, 264.475272744894, 259.5476272702217, 257.7566094994545, 255.42067644000053, 253.9074965119362, 250.58596223592758, 248.18777084350586, 248.29827508330345, 245.52031975984573, 241.96966344118118, 238.94717755913734]\n",
            "-----------------------------------------\n",
            "-----------------------------------------\n",
            "test accuracies 43 [32.99, 42.51, 47.98, 52.99, 53.69, 56.18, 61.19, 61.7, 68.28, 66.75, 67.0, 72.09, 73.4, 74.4, 73.4, 76.82, 73.41, 76.59, 75.46, 77.65, 77.67, 80.64, 81.26, 79.39, 80.25, 80.35, 81.08, 81.28, 82.49, 83.06, 81.87, 82.38, 82.58, 83.21, 83.72, 83.07, 83.62, 83.77, 84.42, 83.35, 84.75, 84.85, 85.11]\n",
            "test losses 43 [0.014757818233966827, 0.012516321313381195, 0.011229187929630279, 0.010296155285835266, 0.00999871506690979, 0.00957278283238411, 0.008441832113265992, 0.00844565236568451, 0.007072452944517135, 0.0075966152489185335, 0.0075235825181007385, 0.006289985889196396, 0.006001622748374939, 0.0058264592170715335, 0.006071617600321769, 0.005323472440242768, 0.0059610405802726744, 0.005384831854701042, 0.005622163666784763, 0.005164584216475487, 0.005139489272236824, 0.004529937994480133, 0.0042703209280967715, 0.004659618192911148, 0.004461942827701569, 0.004543111270666122, 0.004325922068953514, 0.004212029629945755, 0.00405988926589489, 0.0039814172759652135, 0.0041965343415737155, 0.003994028797745705, 0.003988295367360115, 0.0038199348777532578, 0.0037901258289813997, 0.003894304472208023, 0.0037674381136894226, 0.0037560221672058107, 0.003631559431552887, 0.0038090875655412675, 0.003511546057462692, 0.003554360482096672, 0.0034379761591553687]\n",
            "-----------------------------------------\n"
          ]
        },
        {
          "data": {
            "image/png": "[encoded data removed]",
            "text/plain": [
              "<Figure size 800x500 with 1 Axes>"
            ]
          },
          "metadata": {},
          "output_type": "display_data"
        },
        {
          "data": {
            "image/png": "[encoded data removed]",
            "text/plain": [
              "<Figure size 800x500 with 1 Axes>"
            ]
          },
          "metadata": {},
          "output_type": "display_data"
        },
        {
          "data": {
            "image/png": "[encoded data removed]",
            "text/plain": [
              "<Figure size 800x500 with 1 Axes>"
            ]
          },
          "metadata": {},
          "output_type": "display_data"
        },
        {
          "data": {
            "image/png": "[encoded data removed]",
            "text/plain": [
              "<Figure size 800x500 with 1 Axes>"
            ]
          },
          "metadata": {},
          "output_type": "display_data"
        }
      ],
      "source": [
        "import torch\n",
        "import torch.nn.functional as F\n",
        "import torch.optim as optim\n",
        "import torch.nn as nn\n",
        "from torchvision import datasets, transforms\n",
        "from tqdm import tqdm\n",
        "from torchsummary import summary\n",
        "from torch.optim.lr_scheduler import StepLR\n",
        "import albumentations as A\n",
        "from albumentations.pytorch import ToTensorV2\n",
        "from torch.optim.lr_scheduler import OneCycleLR\n",
        "# from models import Model1\n",
        "# from utils import plot_metrics\n",
        "\n",
        "\n",
        "def train(model, device, train_loader, optimizer, scheduler, criterion, epoch, train_losses, train_acc):\n",
        "    model.train()\n",
        "    pbar = tqdm(train_loader)\n",
        "    correct = 0\n",
        "    processed = 0\n",
        "    train_loss = 0\n",
        "    for batch_idx, (data, target) in enumerate(pbar):\n",
        "        data, target = data.to(device), target.to(device)\n",
        "        optimizer.zero_grad()\n",
        "        y_pred = model(data)\n",
        "        loss = criterion(y_pred, target)   # expects log_softmax in model forward\n",
        "        train_loss += loss.item()\n",
        "        loss.backward()\n",
        "        optimizer.step()\n",
        "        scheduler.step()\n",
        "        # if batch_idx > 5:\n",
        "        #     break\n",
        "        pred = y_pred.argmax(dim=1, keepdim=True)\n",
        "        correct += pred.eq(target.view_as(pred)).sum().item()\n",
        "        processed += len(data)\n",
        "        acc = 100. * correct / processed\n",
        "        pbar.set_description(desc=f'Epoch={epoch} Loss={loss.item():.4f} Accuracy={acc:0.2f}')\n",
        "        #train_acc.append(acc)\n",
        "    train_losses.append(train_loss)\n",
        "    acc = 100. * correct / len(train_loader.dataset)\n",
        "    train_acc.append(acc)\n",
        "\n",
        "\n",
        "def test(model, device, test_loader, criterion, test_losses, test_acc):\n",
        "    model.eval()\n",
        "    test_loss = 0\n",
        "    correct = 0\n",
        "    with torch.no_grad():\n",
        "        for data, target in test_loader:\n",
        "            data, target = data.to(device), target.to(device)\n",
        "            output = model(data)\n",
        "            test_loss += criterion(output, target).item()\n",
        "            pred = output.argmax(dim=1, keepdim=True)\n",
        "            correct += pred.eq(target.view_as(pred)).sum().item()\n",
        "    test_loss /= len(test_loader.dataset)\n",
        "    acc = 100. * correct / len(test_loader.dataset)\n",
        "    test_losses.append(test_loss)\n",
        "    test_acc.append(acc)\n",
        "    print(f'\\nTest set: Average loss: {test_loss:.4f}, Accuracy: {correct}/{len(test_loader.dataset)} ({acc:.2f}%)\\n')\n",
        "    return acc\n",
        "\n",
        "def get_data_loaders():\n",
        "    # CIFAR-10 mean and std\n",
        "    CIFAR10_MEAN = (0.4914, 0.4822, 0.4465)\n",
        "    CIFAR10_STD  = (0.2470, 0.2435, 0.2616)\n",
        "\n",
        "\n",
        "    fill_value_pixels = tuple(int(m * 255) for m in CIFAR10_MEAN)\n",
        "\n",
        "    train_alb = A.Compose([\n",
        "        A.HorizontalFlip(p=0.5),\n",
        "         A.Affine(\n",
        "            translate_percent={\"x\": 0.0625, \"y\": 0.0625},  # shift\n",
        "            scale=(0.9, 1.1),                               # scale\n",
        "            rotate=(-15, 15),                               # rotation\n",
        "            p=0.5\n",
        "        ),\n",
        "        A.CoarseDropout(\n",
        "            num_holes_range=(1, 1),\n",
        "            hole_height_range=(16, 16),\n",
        "            hole_width_range=(16, 16),\n",
        "            fill=fill_value_pixels,\n",
        "            fill_mask=None,\n",
        "            p=0.5\n",
        "        ),\n",
        "        A.Normalize(mean=CIFAR10_MEAN, std=CIFAR10_STD),\n",
        "        ToTensorV2(),\n",
        "    ])\n",
        "\n",
        "    val_alb = A.Compose([\n",
        "        A.Normalize(mean=CIFAR10_MEAN, std=CIFAR10_STD),\n",
        "        ToTensorV2(),\n",
        "    ])\n",
        "\n",
        "    class AlbCIFAR10(datasets.CIFAR10):\n",
        "        def __init__(self, root, train=True, transform=None, download=False):\n",
        "            super().__init__(root=root, train=train, download=download)\n",
        "            self.alb_transform = transform\n",
        "\n",
        "        def __getitem__(self, index):\n",
        "            img, target = self.data[index], int(self.targets[index])\n",
        "            # img is HxWxC numpy (uint8)\n",
        "            if self.alb_transform:\n",
        "                augmented = self.alb_transform(image=img)\n",
        "                img = augmented[\"image\"]\n",
        "            else:\n",
        "                # fallback: convert to tensor and normalize\n",
        "                img = transforms.ToTensor()(img)\n",
        "            return img, target\n",
        "\n",
        "\n",
        "\n",
        "    # train_transforms = transforms.Compose([\n",
        "    #     transforms.RandomHorizontalFlip(),\n",
        "    #     transforms.RandomAffine(degrees=10, translate=(0.1, 0.1), scale=(0.9, 1.1)),\n",
        "    #     transforms.ToTensor(),\n",
        "    #     transforms.Normalize(mean, std)\n",
        "    # ])\n",
        "\n",
        "    # test_transforms = transforms.Compose([\n",
        "    #     transforms.ToTensor(),\n",
        "    #     transforms.Normalize(mean, std)\n",
        "    # ])\n",
        "\n",
        "    # train = datasets.CIFAR10('./data', train=True, download=True, transform=train_transforms)\n",
        "    # test = datasets.CIFAR10('./data', train=False, download=True, transform=test_transforms)\n",
        "\n",
        "    train = AlbCIFAR10(root='./data', train=True, transform=train_alb, download=True)\n",
        "    test   = AlbCIFAR10(root='./data', train=False, transform=val_alb, download=True)\n",
        "\n",
        "    SEED = 1\n",
        "    cuda = torch.cuda.is_available()\n",
        "    print(\"CUDA Available?\", cuda)\n",
        "    torch.manual_seed(SEED)\n",
        "    if cuda:\n",
        "        torch.cuda.manual_seed(SEED)\n",
        "\n",
        "    dataloader_args = dict(shuffle=True, batch_size=128, num_workers=4, pin_memory=True) if cuda \\\n",
        "                      else dict(shuffle=True, batch_size=64)\n",
        "    train_loader = torch.utils.data.DataLoader(train, **dataloader_args)\n",
        "    test_loader = torch.utils.data.DataLoader(test, **dataloader_args)\n",
        "    return train_loader, test_loader, cuda\n",
        "\n",
        "def perform_training():\n",
        "    train_loader, test_loader, use_cuda = get_data_loaders()\n",
        "    device = torch.device(\"cuda\" if use_cuda else \"cpu\")\n",
        "    print(\"Using device:\", device)\n",
        "\n",
        "    number_of_classes = 10\n",
        "    model = Model1(number_of_classes).to(device)\n",
        "    summary(model, input_size=(3, 32, 32))  # CIFAR-10 input size\n",
        "\n",
        "    # return\n",
        "    #optimizer = optim.SGD(model.parameters(), lr=0.02, momentum=0.9)\n",
        "    # optimizer = torch.optim.Adam(model.parameters(), lr=1e-4, weight_decay=1e-4)\n",
        "\n",
        "    # scheduler = StepLR(optimizer, step_size=20, gamma=0.1)\n",
        "\n",
        "    criterion = nn.CrossEntropyLoss()\n",
        "    optimizer = optim.Adam(model.parameters(), lr=1e-3, weight_decay=1e-4)\n",
        "    EPOCHS = 80\n",
        "    scheduler = OneCycleLR(\n",
        "        optimizer,\n",
        "        max_lr=1e-3,\n",
        "        steps_per_epoch=len(train_loader),\n",
        "\n",
        "        epochs=EPOCHS,\n",
        "        pct_start=0.2,\n",
        "        anneal_strategy=\"cos\",\n",
        "    )\n",
        "\n",
        "    EPOCHS = 100\n",
        "    SAVE_PATH = \"best_model.pth\"\n",
        "\n",
        "    train_losses, test_losses, train_acc, test_acc = [], [], [], []\n",
        "    best_val_acc = 0.0\n",
        "\n",
        "    for epoch in range(1, EPOCHS + 1):\n",
        "        print(f\"\\nEPOCH: {epoch}\")\n",
        "        train(model, device, train_loader, optimizer, scheduler, criterion, epoch, train_losses, train_acc)\n",
        "        current_test_acc = test(model, device, test_loader, criterion, test_losses, test_acc)\n",
        "        if current_test_acc >= best_val_acc:\n",
        "            print(\"found perfect model!!\")\n",
        "            best_val_acc = current_test_acc\n",
        "            torch.save({\n",
        "                \"epoch\": epoch,\n",
        "                \"model_state\": model.state_dict(),\n",
        "                \"optimizer_state\": optimizer.state_dict(),\n",
        "                \"val_acc\": current_test_acc,\n",
        "            }, SAVE_PATH)\n",
        "            print(f\"Saved best model (acc={best_val_acc:.2f}%) to {SAVE_PATH}\")\n",
        "            if best_val_acc >= 85.0:\n",
        "                break\n",
        "\n",
        "    print(\"-----------------------------------------\")\n",
        "    print(\"train accuracies\", len(train_acc), train_acc)\n",
        "    print(\"train losses\", len(train_losses), train_losses)\n",
        "    print(\"-----------------------------------------\")\n",
        "    print(\"-----------------------------------------\")\n",
        "    print(\"test accuracies\", len(test_acc), test_acc)\n",
        "    print(\"test losses\", len(test_losses), test_losses)\n",
        "    print(\"-----------------------------------------\")\n",
        "    plot_metrics(train_losses, test_losses, train_acc, test_acc)\n",
        "\n",
        "if __name__ == '__main__':\n",
        "    perform_training()"
      ]
    },
    {
      "cell_type": "code",
      "execution_count": 39,
      "metadata": {
        "id": "fUEC6SpKgj3F"
      },
      "outputs": [],
      "source": []
    }
  ],
  "metadata": {
    "accelerator": "GPU",
    "colab": {
      "gpuType": "T4",
      "provenance": []
    },
    "kernelspec": {
      "display_name": "cnn",
      "language": "python",
      "name": "python3"
    },
    "language_info": {
      "name": "python",
      "version": "3.13.3"
    }
  },
  "nbformat": 4,
  "nbformat_minor": 0
}
